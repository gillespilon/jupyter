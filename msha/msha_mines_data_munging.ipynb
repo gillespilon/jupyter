{
 "cells": [
  {
   "cell_type": "markdown",
   "metadata": {},
   "source": [
    "# MSHA Mines Data Munging\n",
    "\n",
    "The data sets are on the [MSHA data sets page](https://arlweb.msha.gov/opengovernmentdata/ogimsha.asp).\n",
    "\n",
    "The purpose of this code is to munge the data in order to reduce the number of columns and rows to what is required for a different application."
   ]
  },
  {
   "cell_type": "code",
   "execution_count": 1,
   "metadata": {
    "collapsed": true
   },
   "outputs": [],
   "source": [
    "import pandas as pd\n",
    "from IPython.display import display"
   ]
  },
  {
   "cell_type": "markdown",
   "metadata": {},
   "source": [
    "Read the mines list file."
   ]
  },
  {
   "cell_type": "code",
   "execution_count": 2,
   "metadata": {},
   "outputs": [
    {
     "name": "stdout",
     "output_type": "stream",
     "text": [
      "['Mines.txt']\n"
     ]
    }
   ],
   "source": [
    "# to watch the download in a terminal\n",
    "# du -h Mines.zip\n",
    "from zipfile import ZipFile\n",
    "\n",
    "with ZipFile('Mines.zip', 'r') as zf:\n",
    "    print(zf.namelist())\n",
    "    with zf.open('Mines.txt') as fp:\n",
    "        mines = pd.read_table(fp, encoding='latin-1', sep='|', \n",
    "                              usecols=[\"MINE_ID\", \"CURRENT_MINE_NAME\", \\\n",
    "                                       \"COAL_METAL_IND\", \"CURRENT_OPERATOR_ID\", \\\n",
    "                                       \"CURRENT_OPERATOR_NAME\", \"STATE\", \\\n",
    "                                       \"CURRENT_MINE_STATUS\"], \\\n",
    "                              parse_dates=True)"
   ]
  },
  {
   "cell_type": "code",
   "execution_count": 3,
   "metadata": {},
   "outputs": [
    {
     "data": {
      "text/plain": [
       "(86880, 7)"
      ]
     },
     "execution_count": 3,
     "metadata": {},
     "output_type": "execute_result"
    }
   ],
   "source": [
    "mines.shape"
   ]
  },
  {
   "cell_type": "code",
   "execution_count": 4,
   "metadata": {},
   "outputs": [
    {
     "data": {
      "text/plain": [
       "Index(['MINE_ID', 'CURRENT_MINE_NAME', 'COAL_METAL_IND', 'CURRENT_MINE_STATUS',\n",
       "       'CURRENT_OPERATOR_ID', 'CURRENT_OPERATOR_NAME', 'STATE'],\n",
       "      dtype='object')"
      ]
     },
     "execution_count": 4,
     "metadata": {},
     "output_type": "execute_result"
    }
   ],
   "source": [
    "mines.columns"
   ]
  },
  {
   "cell_type": "code",
   "execution_count": 5,
   "metadata": {},
   "outputs": [
    {
     "data": {
      "text/plain": [
       "(6352, 7)"
      ]
     },
     "execution_count": 5,
     "metadata": {},
     "output_type": "execute_result"
    }
   ],
   "source": [
    "mines = mines[mines.CURRENT_MINE_STATUS == \"Active\"]\n",
    "mines.shape"
   ]
  },
  {
   "cell_type": "code",
   "execution_count": 6,
   "metadata": {},
   "outputs": [
    {
     "data": {
      "text/plain": [
       "(5482, 7)"
      ]
     },
     "execution_count": 6,
     "metadata": {},
     "output_type": "execute_result"
    }
   ],
   "source": [
    "mines = mines[mines.COAL_METAL_IND == \"M\"]\n",
    "mines.shape"
   ]
  },
  {
   "cell_type": "code",
   "execution_count": 7,
   "metadata": {},
   "outputs": [
    {
     "data": {
      "text/html": [
       "<div>\n",
       "<style>\n",
       "    .dataframe thead tr:only-child th {\n",
       "        text-align: right;\n",
       "    }\n",
       "\n",
       "    .dataframe thead th {\n",
       "        text-align: left;\n",
       "    }\n",
       "\n",
       "    .dataframe tbody tr th {\n",
       "        vertical-align: top;\n",
       "    }\n",
       "</style>\n",
       "<table border=\"1\" class=\"dataframe\">\n",
       "  <thead>\n",
       "    <tr style=\"text-align: right;\">\n",
       "      <th></th>\n",
       "      <th>MINE_ID</th>\n",
       "      <th>CURRENT_MINE_NAME</th>\n",
       "      <th>COAL_METAL_IND</th>\n",
       "      <th>CURRENT_MINE_STATUS</th>\n",
       "      <th>CURRENT_OPERATOR_ID</th>\n",
       "      <th>CURRENT_OPERATOR_NAME</th>\n",
       "      <th>STATE</th>\n",
       "    </tr>\n",
       "  </thead>\n",
       "  <tbody>\n",
       "    <tr>\n",
       "      <th>0</th>\n",
       "      <td>100003</td>\n",
       "      <td>O'Neal Quarry &amp; Mill</td>\n",
       "      <td>M</td>\n",
       "      <td>Active</td>\n",
       "      <td>L13586</td>\n",
       "      <td>Lhoist North America</td>\n",
       "      <td>AL</td>\n",
       "    </tr>\n",
       "    <tr>\n",
       "      <th>1</th>\n",
       "      <td>100004</td>\n",
       "      <td>Brierfield Quarry</td>\n",
       "      <td>M</td>\n",
       "      <td>Active</td>\n",
       "      <td>L13586</td>\n",
       "      <td>Lhoist North America of Alabama, LLC</td>\n",
       "      <td>AL</td>\n",
       "    </tr>\n",
       "  </tbody>\n",
       "</table>\n",
       "</div>"
      ],
      "text/plain": [
       "   MINE_ID     CURRENT_MINE_NAME COAL_METAL_IND CURRENT_MINE_STATUS  \\\n",
       "0   100003  O'Neal Quarry & Mill              M              Active   \n",
       "1   100004     Brierfield Quarry              M              Active   \n",
       "\n",
       "  CURRENT_OPERATOR_ID                 CURRENT_OPERATOR_NAME STATE  \n",
       "0              L13586                 Lhoist North America     AL  \n",
       "1              L13586  Lhoist North America of Alabama, LLC    AL  "
      ]
     },
     "metadata": {},
     "output_type": "display_data"
    }
   ],
   "source": [
    "#mines.head(2)\n",
    "with pd.option_context('display.max_colwidth', 9999):\n",
    "     display(mines.head(2))"
   ]
  },
  {
   "cell_type": "code",
   "execution_count": 8,
   "metadata": {},
   "outputs": [
    {
     "data": {
      "text/html": [
       "<div>\n",
       "<style>\n",
       "    .dataframe thead tr:only-child th {\n",
       "        text-align: right;\n",
       "    }\n",
       "\n",
       "    .dataframe thead th {\n",
       "        text-align: left;\n",
       "    }\n",
       "\n",
       "    .dataframe tbody tr th {\n",
       "        vertical-align: top;\n",
       "    }\n",
       "</style>\n",
       "<table border=\"1\" class=\"dataframe\">\n",
       "  <thead>\n",
       "    <tr style=\"text-align: right;\">\n",
       "      <th></th>\n",
       "      <th>MINE_ID</th>\n",
       "      <th>CURRENT_MINE_NAME</th>\n",
       "      <th>COAL_METAL_IND</th>\n",
       "      <th>CURRENT_MINE_STATUS</th>\n",
       "      <th>CURRENT_OPERATOR_ID</th>\n",
       "      <th>CURRENT_OPERATOR_NAME</th>\n",
       "      <th>STATE</th>\n",
       "    </tr>\n",
       "  </thead>\n",
       "  <tbody>\n",
       "    <tr>\n",
       "      <th>86826</th>\n",
       "      <td>5500008</td>\n",
       "      <td>Brookman Quarry</td>\n",
       "      <td>M</td>\n",
       "      <td>Active</td>\n",
       "      <td>0072683</td>\n",
       "      <td>Heavy Materials LLC</td>\n",
       "      <td>VI</td>\n",
       "    </tr>\n",
       "    <tr>\n",
       "      <th>86831</th>\n",
       "      <td>5500013</td>\n",
       "      <td>Aggregate Inc</td>\n",
       "      <td>M</td>\n",
       "      <td>Active</td>\n",
       "      <td>0051892</td>\n",
       "      <td>Aggregate Inc</td>\n",
       "      <td>VI</td>\n",
       "    </tr>\n",
       "  </tbody>\n",
       "</table>\n",
       "</div>"
      ],
      "text/plain": [
       "       MINE_ID CURRENT_MINE_NAME COAL_METAL_IND CURRENT_MINE_STATUS  \\\n",
       "86826  5500008   Brookman Quarry              M              Active   \n",
       "86831  5500013     Aggregate Inc              M              Active   \n",
       "\n",
       "      CURRENT_OPERATOR_ID CURRENT_OPERATOR_NAME STATE  \n",
       "86826             0072683   Heavy Materials LLC    VI  \n",
       "86831             0051892         Aggregate Inc    VI  "
      ]
     },
     "execution_count": 8,
     "metadata": {},
     "output_type": "execute_result"
    }
   ],
   "source": [
    "mines.tail(2)"
   ]
  },
  {
   "cell_type": "code",
   "execution_count": 9,
   "metadata": {},
   "outputs": [
    {
     "data": {
      "text/plain": [
       "(5482, 7)"
      ]
     },
     "execution_count": 9,
     "metadata": {},
     "output_type": "execute_result"
    }
   ],
   "source": [
    "# drop duplicate rows, by default keeping the first in each set of duplicates\n",
    "mines.drop_duplicates()\n",
    "mines.shape"
   ]
  },
  {
   "cell_type": "code",
   "execution_count": 10,
   "metadata": {
    "collapsed": true
   },
   "outputs": [],
   "source": [
    "mines.to_csv(\"mines.csv\")"
   ]
  },
  {
   "cell_type": "code",
   "execution_count": 11,
   "metadata": {},
   "outputs": [],
   "source": [
    "# select rows that contain one or more words\n",
    "#mines[mines[\"CURRENT_MINE_NAME\"]\n",
    "#           .str.contains(\"Fairport|Windsor|Baker\", na = False)].head()"
   ]
  }
 ],
 "metadata": {
  "kernelspec": {
   "display_name": "Python 3",
   "language": "python",
   "name": "python3"
  },
  "language_info": {
   "codemirror_mode": {
    "name": "ipython",
    "version": 3
   },
   "file_extension": ".py",
   "mimetype": "text/x-python",
   "name": "python",
   "nbconvert_exporter": "python",
   "pygments_lexer": "ipython3",
   "version": "3.6.2"
  }
 },
 "nbformat": 4,
 "nbformat_minor": 2
}
