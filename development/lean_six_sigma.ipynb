{
 "cells": [
  {
   "cell_type": "markdown",
   "metadata": {},
   "source": [
    "# Six Sigma #"
   ]
  },
  {
   "cell_type": "markdown",
   "metadata": {},
   "source": [
    "# Document\n",
    "\n",
    "<table align=\"left\">\n",
    "    <tr>\n",
    "        <th class=\"text-align:left\">Title</th>\n",
    "        <td class=\"text-align:left\">Six Sigma</td>\n",
    "    </tr>\n",
    "    <tr>\n",
    "        <th class=\"text-align:left\">Last modified</th>\n",
    "        <td class=\"text-align:left\">2018-09-10</td>\n",
    "    </tr>\n",
    "    <tr>\n",
    "        <th class=\"text-align:left\">Author</th>\n",
    "        <td class=\"text-align:left\">Gilles Pilon <gillespilon13@gmail.com></td>\n",
    "    </tr>\n",
    "    <tr>\n",
    "        <th class=\"text-align:left\">Status</th>\n",
    "        <td class=\"text-align:left\">Active</td>\n",
    "    </tr>\n",
    "    <tr>\n",
    "        <th class=\"text-align:left\">Type</th>\n",
    "        <td class=\"text-align:left\">Jupyter notebook</td>\n",
    "    </tr>\n",
    "    <tr>\n",
    "        <th class=\"text-align:left\">Created</th>\n",
    "        <td class=\"text-align:left\">2017-10-02</td>\n",
    "    </tr>\n",
    "    <tr>\n",
    "        <th class=\"text-align:left\">File name</th>\n",
    "        <td class=\"text-align:left\">six_sigma.ipynb</td>\n",
    "    </tr>\n",
    "    <tr>\n",
    "        <th class=\"text-align:left\">Other files required</th>\n",
    "        <td class=\"text-align:left\"></td>\n",
    "    </tr>\n",
    "</table>"
   ]
  },
  {
   "cell_type": "markdown",
   "metadata": {},
   "source": [
    "# In brevi\n",
    "\n",
    "This notebook was created with [Jupyter Notebook software](http://jupyter.org/) and a [Python programming language](https://www.python.org/) kernel. It is structured using the [DMAIC methodology](https://www.python.org/).\n",
    "\n",
    "For all inquiries about this document, improvements, errors, and additional features, please send me a mail (<gilles.pilon@forteconsultants.ca>)."
   ]
  },
  {
   "cell_type": "markdown",
   "metadata": {},
   "source": [
    "# Define phase #\n",
    "\n",
    "## Intent ##\n",
    "\n",
    "“What problem are we trying to solve?”The purpose of **define** is to clearly state the problem to solve."
   ]
  },
  {
   "cell_type": "markdown",
   "metadata": {},
   "source": [
    "### Define the problem ###"
   ]
  },
  {
   "cell_type": "markdown",
   "metadata": {},
   "source": [
    "##### Problem Statement #####\n",
    "\n",
    "Deliverable. Insert a template."
   ]
  },
  {
   "cell_type": "markdown",
   "metadata": {},
   "source": [
    "##### Projects #####\n",
    "\n",
    "Deliverable. Insert a list of projects to solve the problem."
   ]
  },
  {
   "cell_type": "markdown",
   "metadata": {},
   "source": [
    "### Define the team ###"
   ]
  },
  {
   "cell_type": "markdown",
   "metadata": {},
   "source": [
    "##### Team members #####\n",
    "\n",
    "Deliverable. Insert a template for team leader and team members."
   ]
  },
  {
   "cell_type": "markdown",
   "metadata": {},
   "source": [
    "### Define the project ###"
   ]
  },
  {
   "cell_type": "markdown",
   "metadata": {},
   "source": [
    "##### Project charter #####\n",
    "\n",
    "Deliverable. Insert a template for a project charter."
   ]
  },
  {
   "cell_type": "markdown",
   "metadata": {},
   "source": [
    "### Identify the Ys ###"
   ]
  },
  {
   "cell_type": "markdown",
   "metadata": {},
   "source": [
    "##### Primary measures #####\n",
    "\n",
    "Deliverable. List of primary measures + operational definitions. Edit. Need more words to describe this deliverable."
   ]
  },
  {
   "cell_type": "markdown",
   "metadata": {},
   "source": [
    "##### Seconday measures #####\n",
    "\n",
    "Deliverable. List of secondary measures + operational definitions. Edit. Need more words to describe this deliverable."
   ]
  },
  {
   "cell_type": "markdown",
   "metadata": {},
   "source": [
    "# Measure phase #\n",
    "\n",
    "## Intent ##\n",
    "\n",
    "“How bad is the problem?” The purpose of **measure** is to estimate the current performance of the process in which the problem occurs."
   ]
  },
  {
   "cell_type": "markdown",
   "metadata": {},
   "source": [
    "### Process map ###\n",
    "\n",
    "Insert one or more of the following diagrams, as appropriate."
   ]
  },
  {
   "cell_type": "markdown",
   "metadata": {},
   "source": [
    "##### Value-stream map #####\n",
    "\n",
    "Deliverable. Insert a value-stream map. Edit. Need more words to describe this deliverable."
   ]
  },
  {
   "cell_type": "markdown",
   "metadata": {},
   "source": [
    "##### Flow chart #####\n",
    "\n",
    "Deliverable. Insert a flow chart. Edit. Need more words to describe this deliverable."
   ]
  },
  {
   "cell_type": "markdown",
   "metadata": {},
   "source": [
    "##### Swim-lane map #####\n",
    "\n",
    "Deliverable. Insert a swim-lane map. Edit. Need more words to describe this deliverable."
   ]
  },
  {
   "cell_type": "markdown",
   "metadata": {},
   "source": [
    "### Identify potential between and within variation ###"
   ]
  },
  {
   "cell_type": "markdown",
   "metadata": {},
   "source": [
    "##### Between-sample Xs #####\n",
    "\n",
    "Deliverable. List factors that potentially cause between-sample variation. Edit. Need more words to describe this deliverable."
   ]
  },
  {
   "cell_type": "markdown",
   "metadata": {},
   "source": [
    "##### Within-sample variation #####\n",
    "\n",
    "Deliverable. List factors that potentially cause within-sample variation. Edit. Need more words to describe this deliverable."
   ]
  },
  {
   "cell_type": "markdown",
   "metadata": {},
   "source": [
    "##### Sampling plan #####\n",
    "\n",
    "Deliverable. Describe a sampling plan to capture between-sample and within-sample variation. Insert an example or a template. Edit. Need more words to describe this deliverable."
   ]
  },
  {
   "cell_type": "markdown",
   "metadata": {},
   "source": [
    "### Validate measurement system on Ys ###"
   ]
  },
  {
   "cell_type": "markdown",
   "metadata": {},
   "source": [
    "##### Bias and linearity #####\n",
    "\n",
    "Deliverable. Insert code to calculate bias and linearity. Edit. Need more words to describe this deliverable."
   ]
  },
  {
   "cell_type": "markdown",
   "metadata": {},
   "source": [
    "##### Wheeler's method #####\n",
    "\n",
    "Deliverable. Insert code to calculate Wheeler's method. Edit. Need more words to describe this deliverable."
   ]
  },
  {
   "cell_type": "markdown",
   "metadata": {},
   "source": [
    "##### Guard banding #####\n",
    "\n",
    "Deliverable. Insert code to calculate guard banding. Edit. Need more words to describe this deliverable."
   ]
  },
  {
   "cell_type": "markdown",
   "metadata": {},
   "source": [
    "### Estimate process capability ###"
   ]
  },
  {
   "cell_type": "markdown",
   "metadata": {},
   "source": [
    "#### Random sample ####"
   ]
  },
  {
   "cell_type": "markdown",
   "metadata": {},
   "source": [
    "##### Basic graphical analysis #####\n",
    "\n",
    "Deliverable. Insert code to calculate a box plot and a dot plot. Edit. Need more words to describe this deliverable."
   ]
  },
  {
   "cell_type": "markdown",
   "metadata": {},
   "source": [
    "##### Distribution analysis #####\n",
    "\n",
    "Deliverable. Insert code to calculate a probability plot with lack-of-fit test. The goal is to identify what type of distribution is a good approximation for the data. Edit. Need more words to describe this deliverable."
   ]
  },
  {
   "cell_type": "markdown",
   "metadata": {},
   "source": [
    "##### Capability analysis #####\n",
    "\n",
    "Deliverable. Insert code to calculate Ppk statistics and confidence intervals. Edit. Need more words to describe this deliverable."
   ]
  },
  {
   "cell_type": "markdown",
   "metadata": {},
   "source": [
    "#### Rational sample, n = 1 ####"
   ]
  },
  {
   "cell_type": "markdown",
   "metadata": {},
   "source": [
    "##### XmR control chart #####\n",
    "\n",
    "Deliverable. Insert code to calculate an XmR control chart, with rules for out-of-control points. Edit. Need more words to describe this deliverable."
   ]
  },
  {
   "cell_type": "markdown",
   "metadata": {},
   "source": [
    "##### Capability analysis #####\n",
    "\n",
    "Deliverable. Insert code to calculate Cpk statistics and confidence intervals. Edit. Need more words to describe this deliverable."
   ]
  },
  {
   "cell_type": "markdown",
   "metadata": {},
   "source": [
    "#### Rational sample, n > 1 ####"
   ]
  },
  {
   "cell_type": "markdown",
   "metadata": {},
   "source": [
    "##### XbarR control chart #####\n",
    "\n",
    "Deliverable. Insert code to calculate an XbarR control chart, with rules for out-of-control points. Edit. Need more words to describe this deliverable."
   ]
  },
  {
   "cell_type": "markdown",
   "metadata": {},
   "source": [
    "##### Capability analysis #####\n",
    "\n",
    "Deliverable. Insert code to calculate Cpk statistics and confidence intervals. Edit. Need more words to describe this deliverable."
   ]
  },
  {
   "cell_type": "markdown",
   "metadata": {},
   "source": [
    "Edit. <span style=\"color:red\";>The cells below need to be moved to appropriate places in the cells above.</span>"
   ]
  },
  {
   "cell_type": "markdown",
   "metadata": {},
   "source": [
    "The data file should be created with appropriate software (Minitab, JMP, Excel, LibreOffice) and saved as a CSV (comma-separated values). Import required libraries. Read the data file."
   ]
  },
  {
   "cell_type": "code",
   "execution_count": 1,
   "metadata": {},
   "outputs": [
    {
     "name": "stderr",
     "output_type": "stream",
     "text": [
      "/home/gilles/.pyenv/versions/3.6.6/lib/python3.6/importlib/_bootstrap.py:219: RuntimeWarning: numpy.dtype size changed, may indicate binary incompatibility. Expected 96, got 88\n",
      "  return f(*args, **kwds)\n",
      "/home/gilles/.pyenv/versions/3.6.6/lib/python3.6/importlib/_bootstrap.py:219: RuntimeWarning: numpy.dtype size changed, may indicate binary incompatibility. Expected 96, got 88\n",
      "  return f(*args, **kwds)\n"
     ]
    }
   ],
   "source": [
    "import pandas as pd\n",
    "import scipy.stats as stats"
   ]
  },
  {
   "cell_type": "code",
   "execution_count": 2,
   "metadata": {},
   "outputs": [],
   "source": [
    "df = pd.read_csv('minitab_introduction.csv', encoding='utf-16')"
   ]
  },
  {
   "cell_type": "markdown",
   "metadata": {},
   "source": [
    "The documentation for the above \"command\" is found:\n",
    "1. while typing `pd.read_csv` above, `<Shift>-<Tab>`\n",
    "2. online\n",
    "3. in the code. so in the python shell, including ipython, `help(pd.read_csv)` or in the system shell `pydoc pandas.read_csv`\n",
    "4. the pdf manual for pandas"
   ]
  },
  {
   "cell_type": "code",
   "execution_count": 3,
   "metadata": {},
   "outputs": [
    {
     "data": {
      "text/html": [
       "<div>\n",
       "<style scoped>\n",
       "    .dataframe tbody tr th:only-of-type {\n",
       "        vertical-align: middle;\n",
       "    }\n",
       "\n",
       "    .dataframe tbody tr th {\n",
       "        vertical-align: top;\n",
       "    }\n",
       "\n",
       "    .dataframe thead th {\n",
       "        text-align: right;\n",
       "    }\n",
       "</style>\n",
       "<table border=\"1\" class=\"dataframe\">\n",
       "  <thead>\n",
       "    <tr style=\"text-align: right;\">\n",
       "      <th></th>\n",
       "      <th>Thickness</th>\n",
       "      <th>Type</th>\n",
       "      <th>Calories</th>\n",
       "      <th>Sodium</th>\n",
       "      <th>Num of Ops</th>\n",
       "      <th>Cycle Time</th>\n",
       "      <th>Shift</th>\n",
       "      <th>Part</th>\n",
       "      <th>Trial</th>\n",
       "      <th>Height</th>\n",
       "      <th>Cycle Time_1</th>\n",
       "      <th>Work station Time</th>\n",
       "    </tr>\n",
       "  </thead>\n",
       "  <tbody>\n",
       "    <tr>\n",
       "      <th>0</th>\n",
       "      <td>19.18</td>\n",
       "      <td>Beef</td>\n",
       "      <td>186.0</td>\n",
       "      <td>495.0</td>\n",
       "      <td>18.0</td>\n",
       "      <td>200.0</td>\n",
       "      <td>A</td>\n",
       "      <td>1</td>\n",
       "      <td>1</td>\n",
       "      <td>5.226</td>\n",
       "      <td>30.0</td>\n",
       "      <td>96.0</td>\n",
       "    </tr>\n",
       "    <tr>\n",
       "      <th>1</th>\n",
       "      <td>19.15</td>\n",
       "      <td>Beef</td>\n",
       "      <td>181.0</td>\n",
       "      <td>477.0</td>\n",
       "      <td>23.0</td>\n",
       "      <td>232.0</td>\n",
       "      <td>B</td>\n",
       "      <td>1</td>\n",
       "      <td>2</td>\n",
       "      <td>5.212</td>\n",
       "      <td>34.0</td>\n",
       "      <td>101.0</td>\n",
       "    </tr>\n",
       "    <tr>\n",
       "      <th>2</th>\n",
       "      <td>19.41</td>\n",
       "      <td>Beef</td>\n",
       "      <td>176.0</td>\n",
       "      <td>425.0</td>\n",
       "      <td>28.0</td>\n",
       "      <td>312.0</td>\n",
       "      <td>A</td>\n",
       "      <td>1</td>\n",
       "      <td>3</td>\n",
       "      <td>5.202</td>\n",
       "      <td>32.0</td>\n",
       "      <td>102.0</td>\n",
       "    </tr>\n",
       "    <tr>\n",
       "      <th>3</th>\n",
       "      <td>19.89</td>\n",
       "      <td>Beef</td>\n",
       "      <td>149.0</td>\n",
       "      <td>322.0</td>\n",
       "      <td>32.0</td>\n",
       "      <td>385.0</td>\n",
       "      <td>B</td>\n",
       "      <td>2</td>\n",
       "      <td>1</td>\n",
       "      <td>5.316</td>\n",
       "      <td>28.0</td>\n",
       "      <td>101.0</td>\n",
       "    </tr>\n",
       "    <tr>\n",
       "      <th>4</th>\n",
       "      <td>18.73</td>\n",
       "      <td>Beef</td>\n",
       "      <td>184.0</td>\n",
       "      <td>482.0</td>\n",
       "      <td>38.0</td>\n",
       "      <td>392.0</td>\n",
       "      <td>A</td>\n",
       "      <td>2</td>\n",
       "      <td>2</td>\n",
       "      <td>5.305</td>\n",
       "      <td>29.0</td>\n",
       "      <td>107.0</td>\n",
       "    </tr>\n",
       "    <tr>\n",
       "      <th>5</th>\n",
       "      <td>19.17</td>\n",
       "      <td>Beef</td>\n",
       "      <td>190.0</td>\n",
       "      <td>587.0</td>\n",
       "      <td>41.0</td>\n",
       "      <td>406.0</td>\n",
       "      <td>B</td>\n",
       "      <td>2</td>\n",
       "      <td>3</td>\n",
       "      <td>5.299</td>\n",
       "      <td>27.0</td>\n",
       "      <td>94.0</td>\n",
       "    </tr>\n",
       "    <tr>\n",
       "      <th>6</th>\n",
       "      <td>18.40</td>\n",
       "      <td>Beef</td>\n",
       "      <td>158.0</td>\n",
       "      <td>370.0</td>\n",
       "      <td>41.0</td>\n",
       "      <td>406.0</td>\n",
       "      <td>A</td>\n",
       "      <td>3</td>\n",
       "      <td>1</td>\n",
       "      <td>5.094</td>\n",
       "      <td>26.0</td>\n",
       "      <td>95.0</td>\n",
       "    </tr>\n",
       "    <tr>\n",
       "      <th>7</th>\n",
       "      <td>18.54</td>\n",
       "      <td>Beef</td>\n",
       "      <td>139.0</td>\n",
       "      <td>322.0</td>\n",
       "      <td>45.0</td>\n",
       "      <td>438.0</td>\n",
       "      <td>B</td>\n",
       "      <td>3</td>\n",
       "      <td>2</td>\n",
       "      <td>5.071</td>\n",
       "      <td>28.0</td>\n",
       "      <td>99.0</td>\n",
       "    </tr>\n",
       "    <tr>\n",
       "      <th>8</th>\n",
       "      <td>19.02</td>\n",
       "      <td>Beef</td>\n",
       "      <td>175.0</td>\n",
       "      <td>479.0</td>\n",
       "      <td>55.0</td>\n",
       "      <td>401.0</td>\n",
       "      <td>A</td>\n",
       "      <td>3</td>\n",
       "      <td>3</td>\n",
       "      <td>5.076</td>\n",
       "      <td>27.0</td>\n",
       "      <td>98.0</td>\n",
       "    </tr>\n",
       "    <tr>\n",
       "      <th>9</th>\n",
       "      <td>19.40</td>\n",
       "      <td>Beef</td>\n",
       "      <td>148.0</td>\n",
       "      <td>375.0</td>\n",
       "      <td>65.0</td>\n",
       "      <td>601.0</td>\n",
       "      <td>B</td>\n",
       "      <td>4</td>\n",
       "      <td>1</td>\n",
       "      <td>5.168</td>\n",
       "      <td>30.0</td>\n",
       "      <td>101.0</td>\n",
       "    </tr>\n",
       "    <tr>\n",
       "      <th>10</th>\n",
       "      <td>18.82</td>\n",
       "      <td>Beef</td>\n",
       "      <td>152.0</td>\n",
       "      <td>330.0</td>\n",
       "      <td>NaN</td>\n",
       "      <td>NaN</td>\n",
       "      <td>NaN</td>\n",
       "      <td>4</td>\n",
       "      <td>2</td>\n",
       "      <td>5.163</td>\n",
       "      <td>31.0</td>\n",
       "      <td>105.0</td>\n",
       "    </tr>\n",
       "    <tr>\n",
       "      <th>11</th>\n",
       "      <td>18.94</td>\n",
       "      <td>Beef</td>\n",
       "      <td>111.0</td>\n",
       "      <td>300.0</td>\n",
       "      <td>NaN</td>\n",
       "      <td>NaN</td>\n",
       "      <td>NaN</td>\n",
       "      <td>4</td>\n",
       "      <td>3</td>\n",
       "      <td>5.158</td>\n",
       "      <td>31.0</td>\n",
       "      <td>103.0</td>\n",
       "    </tr>\n",
       "    <tr>\n",
       "      <th>12</th>\n",
       "      <td>18.63</td>\n",
       "      <td>Beef</td>\n",
       "      <td>141.0</td>\n",
       "      <td>386.0</td>\n",
       "      <td>NaN</td>\n",
       "      <td>NaN</td>\n",
       "      <td>NaN</td>\n",
       "      <td>5</td>\n",
       "      <td>1</td>\n",
       "      <td>5.138</td>\n",
       "      <td>34.0</td>\n",
       "      <td>100.0</td>\n",
       "    </tr>\n",
       "    <tr>\n",
       "      <th>13</th>\n",
       "      <td>18.76</td>\n",
       "      <td>Beef</td>\n",
       "      <td>153.0</td>\n",
       "      <td>401.0</td>\n",
       "      <td>NaN</td>\n",
       "      <td>NaN</td>\n",
       "      <td>NaN</td>\n",
       "      <td>5</td>\n",
       "      <td>2</td>\n",
       "      <td>5.138</td>\n",
       "      <td>33.0</td>\n",
       "      <td>98.0</td>\n",
       "    </tr>\n",
       "    <tr>\n",
       "      <th>14</th>\n",
       "      <td>18.73</td>\n",
       "      <td>Beef</td>\n",
       "      <td>190.0</td>\n",
       "      <td>645.0</td>\n",
       "      <td>NaN</td>\n",
       "      <td>NaN</td>\n",
       "      <td>NaN</td>\n",
       "      <td>5</td>\n",
       "      <td>3</td>\n",
       "      <td>5.145</td>\n",
       "      <td>31.0</td>\n",
       "      <td>97.0</td>\n",
       "    </tr>\n",
       "    <tr>\n",
       "      <th>15</th>\n",
       "      <td>19.46</td>\n",
       "      <td>Beef</td>\n",
       "      <td>157.0</td>\n",
       "      <td>440.0</td>\n",
       "      <td>NaN</td>\n",
       "      <td>NaN</td>\n",
       "      <td>NaN</td>\n",
       "      <td>6</td>\n",
       "      <td>1</td>\n",
       "      <td>5.251</td>\n",
       "      <td>29.0</td>\n",
       "      <td>98.0</td>\n",
       "    </tr>\n",
       "    <tr>\n",
       "      <th>16</th>\n",
       "      <td>19.09</td>\n",
       "      <td>Meat</td>\n",
       "      <td>173.0</td>\n",
       "      <td>458.0</td>\n",
       "      <td>NaN</td>\n",
       "      <td>NaN</td>\n",
       "      <td>NaN</td>\n",
       "      <td>6</td>\n",
       "      <td>2</td>\n",
       "      <td>5.238</td>\n",
       "      <td>37.0</td>\n",
       "      <td>96.0</td>\n",
       "    </tr>\n",
       "    <tr>\n",
       "      <th>17</th>\n",
       "      <td>19.62</td>\n",
       "      <td>Meat</td>\n",
       "      <td>191.0</td>\n",
       "      <td>506.0</td>\n",
       "      <td>NaN</td>\n",
       "      <td>NaN</td>\n",
       "      <td>NaN</td>\n",
       "      <td>6</td>\n",
       "      <td>3</td>\n",
       "      <td>5.238</td>\n",
       "      <td>35.0</td>\n",
       "      <td>102.0</td>\n",
       "    </tr>\n",
       "    <tr>\n",
       "      <th>18</th>\n",
       "      <td>19.14</td>\n",
       "      <td>Meat</td>\n",
       "      <td>182.0</td>\n",
       "      <td>473.0</td>\n",
       "      <td>NaN</td>\n",
       "      <td>NaN</td>\n",
       "      <td>NaN</td>\n",
       "      <td>7</td>\n",
       "      <td>1</td>\n",
       "      <td>5.247</td>\n",
       "      <td>38.0</td>\n",
       "      <td>101.0</td>\n",
       "    </tr>\n",
       "    <tr>\n",
       "      <th>19</th>\n",
       "      <td>19.40</td>\n",
       "      <td>Meat</td>\n",
       "      <td>190.0</td>\n",
       "      <td>545.0</td>\n",
       "      <td>NaN</td>\n",
       "      <td>NaN</td>\n",
       "      <td>NaN</td>\n",
       "      <td>7</td>\n",
       "      <td>2</td>\n",
       "      <td>5.222</td>\n",
       "      <td>35.0</td>\n",
       "      <td>100.0</td>\n",
       "    </tr>\n",
       "    <tr>\n",
       "      <th>20</th>\n",
       "      <td>18.79</td>\n",
       "      <td>Meat</td>\n",
       "      <td>172.0</td>\n",
       "      <td>496.0</td>\n",
       "      <td>NaN</td>\n",
       "      <td>NaN</td>\n",
       "      <td>NaN</td>\n",
       "      <td>7</td>\n",
       "      <td>3</td>\n",
       "      <td>5.227</td>\n",
       "      <td>36.0</td>\n",
       "      <td>100.0</td>\n",
       "    </tr>\n",
       "    <tr>\n",
       "      <th>21</th>\n",
       "      <td>18.94</td>\n",
       "      <td>Meat</td>\n",
       "      <td>147.0</td>\n",
       "      <td>360.0</td>\n",
       "      <td>NaN</td>\n",
       "      <td>NaN</td>\n",
       "      <td>NaN</td>\n",
       "      <td>8</td>\n",
       "      <td>1</td>\n",
       "      <td>5.232</td>\n",
       "      <td>34.0</td>\n",
       "      <td>93.0</td>\n",
       "    </tr>\n",
       "    <tr>\n",
       "      <th>22</th>\n",
       "      <td>19.04</td>\n",
       "      <td>Meat</td>\n",
       "      <td>146.0</td>\n",
       "      <td>387.0</td>\n",
       "      <td>NaN</td>\n",
       "      <td>NaN</td>\n",
       "      <td>NaN</td>\n",
       "      <td>8</td>\n",
       "      <td>2</td>\n",
       "      <td>5.223</td>\n",
       "      <td>26.0</td>\n",
       "      <td>94.0</td>\n",
       "    </tr>\n",
       "    <tr>\n",
       "      <th>23</th>\n",
       "      <td>18.97</td>\n",
       "      <td>Meat</td>\n",
       "      <td>139.0</td>\n",
       "      <td>386.0</td>\n",
       "      <td>NaN</td>\n",
       "      <td>NaN</td>\n",
       "      <td>NaN</td>\n",
       "      <td>8</td>\n",
       "      <td>3</td>\n",
       "      <td>5.222</td>\n",
       "      <td>25.0</td>\n",
       "      <td>95.0</td>\n",
       "    </tr>\n",
       "    <tr>\n",
       "      <th>24</th>\n",
       "      <td>19.15</td>\n",
       "      <td>Meat</td>\n",
       "      <td>175.0</td>\n",
       "      <td>507.0</td>\n",
       "      <td>NaN</td>\n",
       "      <td>NaN</td>\n",
       "      <td>NaN</td>\n",
       "      <td>9</td>\n",
       "      <td>1</td>\n",
       "      <td>5.242</td>\n",
       "      <td>24.0</td>\n",
       "      <td>95.0</td>\n",
       "    </tr>\n",
       "    <tr>\n",
       "      <th>25</th>\n",
       "      <td>NaN</td>\n",
       "      <td>Meat</td>\n",
       "      <td>136.0</td>\n",
       "      <td>393.0</td>\n",
       "      <td>NaN</td>\n",
       "      <td>NaN</td>\n",
       "      <td>NaN</td>\n",
       "      <td>9</td>\n",
       "      <td>2</td>\n",
       "      <td>5.231</td>\n",
       "      <td>32.0</td>\n",
       "      <td>101.0</td>\n",
       "    </tr>\n",
       "    <tr>\n",
       "      <th>26</th>\n",
       "      <td>NaN</td>\n",
       "      <td>Meat</td>\n",
       "      <td>179.0</td>\n",
       "      <td>405.0</td>\n",
       "      <td>NaN</td>\n",
       "      <td>NaN</td>\n",
       "      <td>NaN</td>\n",
       "      <td>9</td>\n",
       "      <td>3</td>\n",
       "      <td>5.233</td>\n",
       "      <td>30.0</td>\n",
       "      <td>103.0</td>\n",
       "    </tr>\n",
       "    <tr>\n",
       "      <th>27</th>\n",
       "      <td>NaN</td>\n",
       "      <td>Meat</td>\n",
       "      <td>153.0</td>\n",
       "      <td>372.0</td>\n",
       "      <td>NaN</td>\n",
       "      <td>NaN</td>\n",
       "      <td>NaN</td>\n",
       "      <td>10</td>\n",
       "      <td>1</td>\n",
       "      <td>5.254</td>\n",
       "      <td>31.0</td>\n",
       "      <td>103.0</td>\n",
       "    </tr>\n",
       "    <tr>\n",
       "      <th>28</th>\n",
       "      <td>NaN</td>\n",
       "      <td>Meat</td>\n",
       "      <td>107.0</td>\n",
       "      <td>144.0</td>\n",
       "      <td>NaN</td>\n",
       "      <td>NaN</td>\n",
       "      <td>NaN</td>\n",
       "      <td>10</td>\n",
       "      <td>2</td>\n",
       "      <td>5.253</td>\n",
       "      <td>36.0</td>\n",
       "      <td>102.0</td>\n",
       "    </tr>\n",
       "    <tr>\n",
       "      <th>29</th>\n",
       "      <td>NaN</td>\n",
       "      <td>Meat</td>\n",
       "      <td>195.0</td>\n",
       "      <td>511.0</td>\n",
       "      <td>NaN</td>\n",
       "      <td>NaN</td>\n",
       "      <td>NaN</td>\n",
       "      <td>10</td>\n",
       "      <td>3</td>\n",
       "      <td>5.247</td>\n",
       "      <td>27.0</td>\n",
       "      <td>106.0</td>\n",
       "    </tr>\n",
       "    <tr>\n",
       "      <th>30</th>\n",
       "      <td>NaN</td>\n",
       "      <td>Meat</td>\n",
       "      <td>135.0</td>\n",
       "      <td>405.0</td>\n",
       "      <td>NaN</td>\n",
       "      <td>NaN</td>\n",
       "      <td>NaN</td>\n",
       "      <td>1</td>\n",
       "      <td>1</td>\n",
       "      <td>5.215</td>\n",
       "      <td>24.0</td>\n",
       "      <td>105.0</td>\n",
       "    </tr>\n",
       "    <tr>\n",
       "      <th>31</th>\n",
       "      <td>NaN</td>\n",
       "      <td>Meat</td>\n",
       "      <td>140.0</td>\n",
       "      <td>428.0</td>\n",
       "      <td>NaN</td>\n",
       "      <td>NaN</td>\n",
       "      <td>NaN</td>\n",
       "      <td>1</td>\n",
       "      <td>2</td>\n",
       "      <td>5.199</td>\n",
       "      <td>39.0</td>\n",
       "      <td>105.0</td>\n",
       "    </tr>\n",
       "    <tr>\n",
       "      <th>32</th>\n",
       "      <td>NaN</td>\n",
       "      <td>Poultry</td>\n",
       "      <td>129.0</td>\n",
       "      <td>430.0</td>\n",
       "      <td>NaN</td>\n",
       "      <td>NaN</td>\n",
       "      <td>NaN</td>\n",
       "      <td>1</td>\n",
       "      <td>3</td>\n",
       "      <td>5.200</td>\n",
       "      <td>33.0</td>\n",
       "      <td>104.0</td>\n",
       "    </tr>\n",
       "    <tr>\n",
       "      <th>33</th>\n",
       "      <td>NaN</td>\n",
       "      <td>Poultry</td>\n",
       "      <td>132.0</td>\n",
       "      <td>375.0</td>\n",
       "      <td>NaN</td>\n",
       "      <td>NaN</td>\n",
       "      <td>NaN</td>\n",
       "      <td>2</td>\n",
       "      <td>1</td>\n",
       "      <td>5.302</td>\n",
       "      <td>34.0</td>\n",
       "      <td>101.0</td>\n",
       "    </tr>\n",
       "    <tr>\n",
       "      <th>34</th>\n",
       "      <td>NaN</td>\n",
       "      <td>Poultry</td>\n",
       "      <td>102.0</td>\n",
       "      <td>396.0</td>\n",
       "      <td>NaN</td>\n",
       "      <td>NaN</td>\n",
       "      <td>NaN</td>\n",
       "      <td>2</td>\n",
       "      <td>2</td>\n",
       "      <td>5.297</td>\n",
       "      <td>34.0</td>\n",
       "      <td>104.0</td>\n",
       "    </tr>\n",
       "    <tr>\n",
       "      <th>35</th>\n",
       "      <td>NaN</td>\n",
       "      <td>Poultry</td>\n",
       "      <td>106.0</td>\n",
       "      <td>383.0</td>\n",
       "      <td>NaN</td>\n",
       "      <td>NaN</td>\n",
       "      <td>NaN</td>\n",
       "      <td>2</td>\n",
       "      <td>3</td>\n",
       "      <td>5.304</td>\n",
       "      <td>30.0</td>\n",
       "      <td>102.0</td>\n",
       "    </tr>\n",
       "    <tr>\n",
       "      <th>36</th>\n",
       "      <td>NaN</td>\n",
       "      <td>Poultry</td>\n",
       "      <td>94.0</td>\n",
       "      <td>387.0</td>\n",
       "      <td>NaN</td>\n",
       "      <td>NaN</td>\n",
       "      <td>NaN</td>\n",
       "      <td>3</td>\n",
       "      <td>1</td>\n",
       "      <td>5.065</td>\n",
       "      <td>29.0</td>\n",
       "      <td>104.0</td>\n",
       "    </tr>\n",
       "    <tr>\n",
       "      <th>37</th>\n",
       "      <td>NaN</td>\n",
       "      <td>Poultry</td>\n",
       "      <td>102.0</td>\n",
       "      <td>542.0</td>\n",
       "      <td>NaN</td>\n",
       "      <td>NaN</td>\n",
       "      <td>NaN</td>\n",
       "      <td>3</td>\n",
       "      <td>2</td>\n",
       "      <td>5.074</td>\n",
       "      <td>28.0</td>\n",
       "      <td>99.0</td>\n",
       "    </tr>\n",
       "    <tr>\n",
       "      <th>38</th>\n",
       "      <td>NaN</td>\n",
       "      <td>Poultry</td>\n",
       "      <td>87.0</td>\n",
       "      <td>359.0</td>\n",
       "      <td>NaN</td>\n",
       "      <td>NaN</td>\n",
       "      <td>NaN</td>\n",
       "      <td>3</td>\n",
       "      <td>3</td>\n",
       "      <td>5.064</td>\n",
       "      <td>30.0</td>\n",
       "      <td>99.0</td>\n",
       "    </tr>\n",
       "    <tr>\n",
       "      <th>39</th>\n",
       "      <td>NaN</td>\n",
       "      <td>Poultry</td>\n",
       "      <td>99.0</td>\n",
       "      <td>357.0</td>\n",
       "      <td>NaN</td>\n",
       "      <td>NaN</td>\n",
       "      <td>NaN</td>\n",
       "      <td>4</td>\n",
       "      <td>1</td>\n",
       "      <td>5.161</td>\n",
       "      <td>33.0</td>\n",
       "      <td>96.0</td>\n",
       "    </tr>\n",
       "    <tr>\n",
       "      <th>40</th>\n",
       "      <td>NaN</td>\n",
       "      <td>Poultry</td>\n",
       "      <td>107.0</td>\n",
       "      <td>528.0</td>\n",
       "      <td>NaN</td>\n",
       "      <td>NaN</td>\n",
       "      <td>NaN</td>\n",
       "      <td>4</td>\n",
       "      <td>2</td>\n",
       "      <td>5.155</td>\n",
       "      <td>31.0</td>\n",
       "      <td>97.0</td>\n",
       "    </tr>\n",
       "    <tr>\n",
       "      <th>41</th>\n",
       "      <td>NaN</td>\n",
       "      <td>Poultry</td>\n",
       "      <td>113.0</td>\n",
       "      <td>513.0</td>\n",
       "      <td>NaN</td>\n",
       "      <td>NaN</td>\n",
       "      <td>NaN</td>\n",
       "      <td>4</td>\n",
       "      <td>3</td>\n",
       "      <td>5.152</td>\n",
       "      <td>31.0</td>\n",
       "      <td>98.0</td>\n",
       "    </tr>\n",
       "    <tr>\n",
       "      <th>42</th>\n",
       "      <td>NaN</td>\n",
       "      <td>Poultry</td>\n",
       "      <td>135.0</td>\n",
       "      <td>426.0</td>\n",
       "      <td>NaN</td>\n",
       "      <td>NaN</td>\n",
       "      <td>NaN</td>\n",
       "      <td>5</td>\n",
       "      <td>1</td>\n",
       "      <td>5.110</td>\n",
       "      <td>32.0</td>\n",
       "      <td>98.0</td>\n",
       "    </tr>\n",
       "    <tr>\n",
       "      <th>43</th>\n",
       "      <td>NaN</td>\n",
       "      <td>Poultry</td>\n",
       "      <td>142.0</td>\n",
       "      <td>513.0</td>\n",
       "      <td>NaN</td>\n",
       "      <td>NaN</td>\n",
       "      <td>NaN</td>\n",
       "      <td>5</td>\n",
       "      <td>2</td>\n",
       "      <td>5.122</td>\n",
       "      <td>30.0</td>\n",
       "      <td>97.0</td>\n",
       "    </tr>\n",
       "    <tr>\n",
       "      <th>44</th>\n",
       "      <td>NaN</td>\n",
       "      <td>Poultry</td>\n",
       "      <td>86.0</td>\n",
       "      <td>358.0</td>\n",
       "      <td>NaN</td>\n",
       "      <td>NaN</td>\n",
       "      <td>NaN</td>\n",
       "      <td>5</td>\n",
       "      <td>3</td>\n",
       "      <td>5.108</td>\n",
       "      <td>23.0</td>\n",
       "      <td>100.0</td>\n",
       "    </tr>\n",
       "    <tr>\n",
       "      <th>45</th>\n",
       "      <td>NaN</td>\n",
       "      <td>Poultry</td>\n",
       "      <td>143.0</td>\n",
       "      <td>581.0</td>\n",
       "      <td>NaN</td>\n",
       "      <td>NaN</td>\n",
       "      <td>NaN</td>\n",
       "      <td>6</td>\n",
       "      <td>1</td>\n",
       "      <td>5.227</td>\n",
       "      <td>25.0</td>\n",
       "      <td>101.0</td>\n",
       "    </tr>\n",
       "    <tr>\n",
       "      <th>46</th>\n",
       "      <td>NaN</td>\n",
       "      <td>Poultry</td>\n",
       "      <td>152.0</td>\n",
       "      <td>588.0</td>\n",
       "      <td>NaN</td>\n",
       "      <td>NaN</td>\n",
       "      <td>NaN</td>\n",
       "      <td>6</td>\n",
       "      <td>2</td>\n",
       "      <td>5.245</td>\n",
       "      <td>33.0</td>\n",
       "      <td>100.0</td>\n",
       "    </tr>\n",
       "    <tr>\n",
       "      <th>47</th>\n",
       "      <td>NaN</td>\n",
       "      <td>Poultry</td>\n",
       "      <td>146.0</td>\n",
       "      <td>522.0</td>\n",
       "      <td>NaN</td>\n",
       "      <td>NaN</td>\n",
       "      <td>NaN</td>\n",
       "      <td>6</td>\n",
       "      <td>3</td>\n",
       "      <td>5.227</td>\n",
       "      <td>27.0</td>\n",
       "      <td>101.0</td>\n",
       "    </tr>\n",
       "    <tr>\n",
       "      <th>48</th>\n",
       "      <td>NaN</td>\n",
       "      <td>NaN</td>\n",
       "      <td>NaN</td>\n",
       "      <td>NaN</td>\n",
       "      <td>NaN</td>\n",
       "      <td>NaN</td>\n",
       "      <td>NaN</td>\n",
       "      <td>7</td>\n",
       "      <td>1</td>\n",
       "      <td>5.217</td>\n",
       "      <td>29.0</td>\n",
       "      <td>100.0</td>\n",
       "    </tr>\n",
       "    <tr>\n",
       "      <th>49</th>\n",
       "      <td>NaN</td>\n",
       "      <td>NaN</td>\n",
       "      <td>NaN</td>\n",
       "      <td>NaN</td>\n",
       "      <td>NaN</td>\n",
       "      <td>NaN</td>\n",
       "      <td>NaN</td>\n",
       "      <td>7</td>\n",
       "      <td>2</td>\n",
       "      <td>5.216</td>\n",
       "      <td>33.0</td>\n",
       "      <td>99.0</td>\n",
       "    </tr>\n",
       "    <tr>\n",
       "      <th>50</th>\n",
       "      <td>NaN</td>\n",
       "      <td>NaN</td>\n",
       "      <td>NaN</td>\n",
       "      <td>NaN</td>\n",
       "      <td>NaN</td>\n",
       "      <td>NaN</td>\n",
       "      <td>NaN</td>\n",
       "      <td>7</td>\n",
       "      <td>3</td>\n",
       "      <td>5.210</td>\n",
       "      <td>NaN</td>\n",
       "      <td>NaN</td>\n",
       "    </tr>\n",
       "    <tr>\n",
       "      <th>51</th>\n",
       "      <td>NaN</td>\n",
       "      <td>NaN</td>\n",
       "      <td>NaN</td>\n",
       "      <td>NaN</td>\n",
       "      <td>NaN</td>\n",
       "      <td>NaN</td>\n",
       "      <td>NaN</td>\n",
       "      <td>8</td>\n",
       "      <td>1</td>\n",
       "      <td>5.220</td>\n",
       "      <td>NaN</td>\n",
       "      <td>NaN</td>\n",
       "    </tr>\n",
       "    <tr>\n",
       "      <th>52</th>\n",
       "      <td>NaN</td>\n",
       "      <td>NaN</td>\n",
       "      <td>NaN</td>\n",
       "      <td>NaN</td>\n",
       "      <td>NaN</td>\n",
       "      <td>NaN</td>\n",
       "      <td>NaN</td>\n",
       "      <td>8</td>\n",
       "      <td>2</td>\n",
       "      <td>5.223</td>\n",
       "      <td>NaN</td>\n",
       "      <td>NaN</td>\n",
       "    </tr>\n",
       "    <tr>\n",
       "      <th>53</th>\n",
       "      <td>NaN</td>\n",
       "      <td>NaN</td>\n",
       "      <td>NaN</td>\n",
       "      <td>NaN</td>\n",
       "      <td>NaN</td>\n",
       "      <td>NaN</td>\n",
       "      <td>NaN</td>\n",
       "      <td>8</td>\n",
       "      <td>3</td>\n",
       "      <td>5.214</td>\n",
       "      <td>NaN</td>\n",
       "      <td>NaN</td>\n",
       "    </tr>\n",
       "    <tr>\n",
       "      <th>54</th>\n",
       "      <td>NaN</td>\n",
       "      <td>NaN</td>\n",
       "      <td>NaN</td>\n",
       "      <td>NaN</td>\n",
       "      <td>NaN</td>\n",
       "      <td>NaN</td>\n",
       "      <td>NaN</td>\n",
       "      <td>9</td>\n",
       "      <td>1</td>\n",
       "      <td>5.227</td>\n",
       "      <td>NaN</td>\n",
       "      <td>NaN</td>\n",
       "    </tr>\n",
       "    <tr>\n",
       "      <th>55</th>\n",
       "      <td>NaN</td>\n",
       "      <td>NaN</td>\n",
       "      <td>NaN</td>\n",
       "      <td>NaN</td>\n",
       "      <td>NaN</td>\n",
       "      <td>NaN</td>\n",
       "      <td>NaN</td>\n",
       "      <td>9</td>\n",
       "      <td>2</td>\n",
       "      <td>5.230</td>\n",
       "      <td>NaN</td>\n",
       "      <td>NaN</td>\n",
       "    </tr>\n",
       "    <tr>\n",
       "      <th>56</th>\n",
       "      <td>NaN</td>\n",
       "      <td>NaN</td>\n",
       "      <td>NaN</td>\n",
       "      <td>NaN</td>\n",
       "      <td>NaN</td>\n",
       "      <td>NaN</td>\n",
       "      <td>NaN</td>\n",
       "      <td>9</td>\n",
       "      <td>3</td>\n",
       "      <td>5.229</td>\n",
       "      <td>NaN</td>\n",
       "      <td>NaN</td>\n",
       "    </tr>\n",
       "    <tr>\n",
       "      <th>57</th>\n",
       "      <td>NaN</td>\n",
       "      <td>NaN</td>\n",
       "      <td>NaN</td>\n",
       "      <td>NaN</td>\n",
       "      <td>NaN</td>\n",
       "      <td>NaN</td>\n",
       "      <td>NaN</td>\n",
       "      <td>10</td>\n",
       "      <td>1</td>\n",
       "      <td>5.231</td>\n",
       "      <td>NaN</td>\n",
       "      <td>NaN</td>\n",
       "    </tr>\n",
       "    <tr>\n",
       "      <th>58</th>\n",
       "      <td>NaN</td>\n",
       "      <td>NaN</td>\n",
       "      <td>NaN</td>\n",
       "      <td>NaN</td>\n",
       "      <td>NaN</td>\n",
       "      <td>NaN</td>\n",
       "      <td>NaN</td>\n",
       "      <td>10</td>\n",
       "      <td>2</td>\n",
       "      <td>5.247</td>\n",
       "      <td>NaN</td>\n",
       "      <td>NaN</td>\n",
       "    </tr>\n",
       "    <tr>\n",
       "      <th>59</th>\n",
       "      <td>NaN</td>\n",
       "      <td>NaN</td>\n",
       "      <td>NaN</td>\n",
       "      <td>NaN</td>\n",
       "      <td>NaN</td>\n",
       "      <td>NaN</td>\n",
       "      <td>NaN</td>\n",
       "      <td>10</td>\n",
       "      <td>3</td>\n",
       "      <td>5.237</td>\n",
       "      <td>NaN</td>\n",
       "      <td>NaN</td>\n",
       "    </tr>\n",
       "  </tbody>\n",
       "</table>\n",
       "</div>"
      ],
      "text/plain": [
       "    Thickness     Type  Calories  Sodium  Num of Ops  Cycle Time Shift  Part  \\\n",
       "0       19.18     Beef     186.0   495.0        18.0       200.0     A     1   \n",
       "1       19.15     Beef     181.0   477.0        23.0       232.0     B     1   \n",
       "2       19.41     Beef     176.0   425.0        28.0       312.0     A     1   \n",
       "3       19.89     Beef     149.0   322.0        32.0       385.0     B     2   \n",
       "4       18.73     Beef     184.0   482.0        38.0       392.0     A     2   \n",
       "5       19.17     Beef     190.0   587.0        41.0       406.0     B     2   \n",
       "6       18.40     Beef     158.0   370.0        41.0       406.0     A     3   \n",
       "7       18.54     Beef     139.0   322.0        45.0       438.0     B     3   \n",
       "8       19.02     Beef     175.0   479.0        55.0       401.0     A     3   \n",
       "9       19.40     Beef     148.0   375.0        65.0       601.0     B     4   \n",
       "10      18.82     Beef     152.0   330.0         NaN         NaN   NaN     4   \n",
       "11      18.94     Beef     111.0   300.0         NaN         NaN   NaN     4   \n",
       "12      18.63     Beef     141.0   386.0         NaN         NaN   NaN     5   \n",
       "13      18.76     Beef     153.0   401.0         NaN         NaN   NaN     5   \n",
       "14      18.73     Beef     190.0   645.0         NaN         NaN   NaN     5   \n",
       "15      19.46     Beef     157.0   440.0         NaN         NaN   NaN     6   \n",
       "16      19.09     Meat     173.0   458.0         NaN         NaN   NaN     6   \n",
       "17      19.62     Meat     191.0   506.0         NaN         NaN   NaN     6   \n",
       "18      19.14     Meat     182.0   473.0         NaN         NaN   NaN     7   \n",
       "19      19.40     Meat     190.0   545.0         NaN         NaN   NaN     7   \n",
       "20      18.79     Meat     172.0   496.0         NaN         NaN   NaN     7   \n",
       "21      18.94     Meat     147.0   360.0         NaN         NaN   NaN     8   \n",
       "22      19.04     Meat     146.0   387.0         NaN         NaN   NaN     8   \n",
       "23      18.97     Meat     139.0   386.0         NaN         NaN   NaN     8   \n",
       "24      19.15     Meat     175.0   507.0         NaN         NaN   NaN     9   \n",
       "25        NaN     Meat     136.0   393.0         NaN         NaN   NaN     9   \n",
       "26        NaN     Meat     179.0   405.0         NaN         NaN   NaN     9   \n",
       "27        NaN     Meat     153.0   372.0         NaN         NaN   NaN    10   \n",
       "28        NaN     Meat     107.0   144.0         NaN         NaN   NaN    10   \n",
       "29        NaN     Meat     195.0   511.0         NaN         NaN   NaN    10   \n",
       "30        NaN     Meat     135.0   405.0         NaN         NaN   NaN     1   \n",
       "31        NaN     Meat     140.0   428.0         NaN         NaN   NaN     1   \n",
       "32        NaN  Poultry     129.0   430.0         NaN         NaN   NaN     1   \n",
       "33        NaN  Poultry     132.0   375.0         NaN         NaN   NaN     2   \n",
       "34        NaN  Poultry     102.0   396.0         NaN         NaN   NaN     2   \n",
       "35        NaN  Poultry     106.0   383.0         NaN         NaN   NaN     2   \n",
       "36        NaN  Poultry      94.0   387.0         NaN         NaN   NaN     3   \n",
       "37        NaN  Poultry     102.0   542.0         NaN         NaN   NaN     3   \n",
       "38        NaN  Poultry      87.0   359.0         NaN         NaN   NaN     3   \n",
       "39        NaN  Poultry      99.0   357.0         NaN         NaN   NaN     4   \n",
       "40        NaN  Poultry     107.0   528.0         NaN         NaN   NaN     4   \n",
       "41        NaN  Poultry     113.0   513.0         NaN         NaN   NaN     4   \n",
       "42        NaN  Poultry     135.0   426.0         NaN         NaN   NaN     5   \n",
       "43        NaN  Poultry     142.0   513.0         NaN         NaN   NaN     5   \n",
       "44        NaN  Poultry      86.0   358.0         NaN         NaN   NaN     5   \n",
       "45        NaN  Poultry     143.0   581.0         NaN         NaN   NaN     6   \n",
       "46        NaN  Poultry     152.0   588.0         NaN         NaN   NaN     6   \n",
       "47        NaN  Poultry     146.0   522.0         NaN         NaN   NaN     6   \n",
       "48        NaN      NaN       NaN     NaN         NaN         NaN   NaN     7   \n",
       "49        NaN      NaN       NaN     NaN         NaN         NaN   NaN     7   \n",
       "50        NaN      NaN       NaN     NaN         NaN         NaN   NaN     7   \n",
       "51        NaN      NaN       NaN     NaN         NaN         NaN   NaN     8   \n",
       "52        NaN      NaN       NaN     NaN         NaN         NaN   NaN     8   \n",
       "53        NaN      NaN       NaN     NaN         NaN         NaN   NaN     8   \n",
       "54        NaN      NaN       NaN     NaN         NaN         NaN   NaN     9   \n",
       "55        NaN      NaN       NaN     NaN         NaN         NaN   NaN     9   \n",
       "56        NaN      NaN       NaN     NaN         NaN         NaN   NaN     9   \n",
       "57        NaN      NaN       NaN     NaN         NaN         NaN   NaN    10   \n",
       "58        NaN      NaN       NaN     NaN         NaN         NaN   NaN    10   \n",
       "59        NaN      NaN       NaN     NaN         NaN         NaN   NaN    10   \n",
       "\n",
       "    Trial  Height  Cycle Time_1  Work station Time  \n",
       "0       1   5.226          30.0               96.0  \n",
       "1       2   5.212          34.0              101.0  \n",
       "2       3   5.202          32.0              102.0  \n",
       "3       1   5.316          28.0              101.0  \n",
       "4       2   5.305          29.0              107.0  \n",
       "5       3   5.299          27.0               94.0  \n",
       "6       1   5.094          26.0               95.0  \n",
       "7       2   5.071          28.0               99.0  \n",
       "8       3   5.076          27.0               98.0  \n",
       "9       1   5.168          30.0              101.0  \n",
       "10      2   5.163          31.0              105.0  \n",
       "11      3   5.158          31.0              103.0  \n",
       "12      1   5.138          34.0              100.0  \n",
       "13      2   5.138          33.0               98.0  \n",
       "14      3   5.145          31.0               97.0  \n",
       "15      1   5.251          29.0               98.0  \n",
       "16      2   5.238          37.0               96.0  \n",
       "17      3   5.238          35.0              102.0  \n",
       "18      1   5.247          38.0              101.0  \n",
       "19      2   5.222          35.0              100.0  \n",
       "20      3   5.227          36.0              100.0  \n",
       "21      1   5.232          34.0               93.0  \n",
       "22      2   5.223          26.0               94.0  \n",
       "23      3   5.222          25.0               95.0  \n",
       "24      1   5.242          24.0               95.0  \n",
       "25      2   5.231          32.0              101.0  \n",
       "26      3   5.233          30.0              103.0  \n",
       "27      1   5.254          31.0              103.0  \n",
       "28      2   5.253          36.0              102.0  \n",
       "29      3   5.247          27.0              106.0  \n",
       "30      1   5.215          24.0              105.0  \n",
       "31      2   5.199          39.0              105.0  \n",
       "32      3   5.200          33.0              104.0  \n",
       "33      1   5.302          34.0              101.0  \n",
       "34      2   5.297          34.0              104.0  \n",
       "35      3   5.304          30.0              102.0  \n",
       "36      1   5.065          29.0              104.0  \n",
       "37      2   5.074          28.0               99.0  \n",
       "38      3   5.064          30.0               99.0  \n",
       "39      1   5.161          33.0               96.0  \n",
       "40      2   5.155          31.0               97.0  \n",
       "41      3   5.152          31.0               98.0  \n",
       "42      1   5.110          32.0               98.0  \n",
       "43      2   5.122          30.0               97.0  \n",
       "44      3   5.108          23.0              100.0  \n",
       "45      1   5.227          25.0              101.0  \n",
       "46      2   5.245          33.0              100.0  \n",
       "47      3   5.227          27.0              101.0  \n",
       "48      1   5.217          29.0              100.0  \n",
       "49      2   5.216          33.0               99.0  \n",
       "50      3   5.210           NaN                NaN  \n",
       "51      1   5.220           NaN                NaN  \n",
       "52      2   5.223           NaN                NaN  \n",
       "53      3   5.214           NaN                NaN  \n",
       "54      1   5.227           NaN                NaN  \n",
       "55      2   5.230           NaN                NaN  \n",
       "56      3   5.229           NaN                NaN  \n",
       "57      1   5.231           NaN                NaN  \n",
       "58      2   5.247           NaN                NaN  \n",
       "59      3   5.237           NaN                NaN  "
      ]
     },
     "execution_count": 3,
     "metadata": {},
     "output_type": "execute_result"
    }
   ],
   "source": [
    "df"
   ]
  },
  {
   "cell_type": "markdown",
   "metadata": {},
   "source": [
    "Calculate basic statistics for the Xs and Ys."
   ]
  },
  {
   "cell_type": "code",
   "execution_count": 4,
   "metadata": {},
   "outputs": [
    {
     "data": {
      "text/html": [
       "<div>\n",
       "<style scoped>\n",
       "    .dataframe tbody tr th:only-of-type {\n",
       "        vertical-align: middle;\n",
       "    }\n",
       "\n",
       "    .dataframe tbody tr th {\n",
       "        vertical-align: top;\n",
       "    }\n",
       "\n",
       "    .dataframe thead th {\n",
       "        text-align: right;\n",
       "    }\n",
       "</style>\n",
       "<table border=\"1\" class=\"dataframe\">\n",
       "  <thead>\n",
       "    <tr style=\"text-align: right;\">\n",
       "      <th></th>\n",
       "      <th>Thickness</th>\n",
       "      <th>Calories</th>\n",
       "      <th>Sodium</th>\n",
       "      <th>Num of Ops</th>\n",
       "      <th>Cycle Time</th>\n",
       "      <th>Part</th>\n",
       "      <th>Trial</th>\n",
       "      <th>Height</th>\n",
       "      <th>Cycle Time_1</th>\n",
       "      <th>Work station Time</th>\n",
       "    </tr>\n",
       "  </thead>\n",
       "  <tbody>\n",
       "    <tr>\n",
       "      <th>count</th>\n",
       "      <td>25.00000</td>\n",
       "      <td>48.000000</td>\n",
       "      <td>48.000000</td>\n",
       "      <td>10.000000</td>\n",
       "      <td>10.000000</td>\n",
       "      <td>60.00000</td>\n",
       "      <td>60.000000</td>\n",
       "      <td>60.000000</td>\n",
       "      <td>50.000000</td>\n",
       "      <td>50.000000</td>\n",
       "    </tr>\n",
       "    <tr>\n",
       "      <th>mean</th>\n",
       "      <td>19.05480</td>\n",
       "      <td>146.354167</td>\n",
       "      <td>434.791667</td>\n",
       "      <td>38.600000</td>\n",
       "      <td>377.300000</td>\n",
       "      <td>5.50000</td>\n",
       "      <td>2.000000</td>\n",
       "      <td>5.203317</td>\n",
       "      <td>30.680000</td>\n",
       "      <td>99.920000</td>\n",
       "    </tr>\n",
       "    <tr>\n",
       "      <th>std</th>\n",
       "      <td>0.34962</td>\n",
       "      <td>30.994502</td>\n",
       "      <td>91.323358</td>\n",
       "      <td>14.307729</td>\n",
       "      <td>112.062532</td>\n",
       "      <td>2.89652</td>\n",
       "      <td>0.823387</td>\n",
       "      <td>0.063710</td>\n",
       "      <td>3.754942</td>\n",
       "      <td>3.361487</td>\n",
       "    </tr>\n",
       "    <tr>\n",
       "      <th>min</th>\n",
       "      <td>18.40000</td>\n",
       "      <td>86.000000</td>\n",
       "      <td>144.000000</td>\n",
       "      <td>18.000000</td>\n",
       "      <td>200.000000</td>\n",
       "      <td>1.00000</td>\n",
       "      <td>1.000000</td>\n",
       "      <td>5.064000</td>\n",
       "      <td>23.000000</td>\n",
       "      <td>93.000000</td>\n",
       "    </tr>\n",
       "    <tr>\n",
       "      <th>25%</th>\n",
       "      <td>18.79000</td>\n",
       "      <td>131.250000</td>\n",
       "      <td>375.000000</td>\n",
       "      <td>29.000000</td>\n",
       "      <td>330.250000</td>\n",
       "      <td>3.00000</td>\n",
       "      <td>1.000000</td>\n",
       "      <td>5.160250</td>\n",
       "      <td>28.000000</td>\n",
       "      <td>98.000000</td>\n",
       "    </tr>\n",
       "    <tr>\n",
       "      <th>50%</th>\n",
       "      <td>19.04000</td>\n",
       "      <td>146.500000</td>\n",
       "      <td>425.500000</td>\n",
       "      <td>39.500000</td>\n",
       "      <td>396.500000</td>\n",
       "      <td>5.50000</td>\n",
       "      <td>2.000000</td>\n",
       "      <td>5.222500</td>\n",
       "      <td>31.000000</td>\n",
       "      <td>100.000000</td>\n",
       "    </tr>\n",
       "    <tr>\n",
       "      <th>75%</th>\n",
       "      <td>19.18000</td>\n",
       "      <td>175.000000</td>\n",
       "      <td>506.250000</td>\n",
       "      <td>44.000000</td>\n",
       "      <td>406.000000</td>\n",
       "      <td>8.00000</td>\n",
       "      <td>3.000000</td>\n",
       "      <td>5.238000</td>\n",
       "      <td>33.000000</td>\n",
       "      <td>102.000000</td>\n",
       "    </tr>\n",
       "    <tr>\n",
       "      <th>max</th>\n",
       "      <td>19.89000</td>\n",
       "      <td>195.000000</td>\n",
       "      <td>645.000000</td>\n",
       "      <td>65.000000</td>\n",
       "      <td>601.000000</td>\n",
       "      <td>10.00000</td>\n",
       "      <td>3.000000</td>\n",
       "      <td>5.316000</td>\n",
       "      <td>39.000000</td>\n",
       "      <td>107.000000</td>\n",
       "    </tr>\n",
       "  </tbody>\n",
       "</table>\n",
       "</div>"
      ],
      "text/plain": [
       "       Thickness    Calories      Sodium  Num of Ops  Cycle Time      Part  \\\n",
       "count   25.00000   48.000000   48.000000   10.000000   10.000000  60.00000   \n",
       "mean    19.05480  146.354167  434.791667   38.600000  377.300000   5.50000   \n",
       "std      0.34962   30.994502   91.323358   14.307729  112.062532   2.89652   \n",
       "min     18.40000   86.000000  144.000000   18.000000  200.000000   1.00000   \n",
       "25%     18.79000  131.250000  375.000000   29.000000  330.250000   3.00000   \n",
       "50%     19.04000  146.500000  425.500000   39.500000  396.500000   5.50000   \n",
       "75%     19.18000  175.000000  506.250000   44.000000  406.000000   8.00000   \n",
       "max     19.89000  195.000000  645.000000   65.000000  601.000000  10.00000   \n",
       "\n",
       "           Trial     Height  Cycle Time_1  Work station Time  \n",
       "count  60.000000  60.000000     50.000000          50.000000  \n",
       "mean    2.000000   5.203317     30.680000          99.920000  \n",
       "std     0.823387   0.063710      3.754942           3.361487  \n",
       "min     1.000000   5.064000     23.000000          93.000000  \n",
       "25%     1.000000   5.160250     28.000000          98.000000  \n",
       "50%     2.000000   5.222500     31.000000         100.000000  \n",
       "75%     3.000000   5.238000     33.000000         102.000000  \n",
       "max     3.000000   5.316000     39.000000         107.000000  "
      ]
     },
     "execution_count": 4,
     "metadata": {},
     "output_type": "execute_result"
    }
   ],
   "source": [
    "df.describe()"
   ]
  },
  {
   "cell_type": "markdown",
   "metadata": {},
   "source": [
    "The documentation for the above command is in:\n",
    "1. while typing `df.describe` above, `<Shift>-<Tab>`\n",
    "2. online\n",
    "3. in the code. so in the python shell, including ipython, `help(df.describe)` or `pd.DataFrame.describe` or in the system shell `pydoc pandas.DataFrame.describe`\n",
    "4. the pdf manual for pandas"
   ]
  },
  {
   "cell_type": "code",
   "execution_count": 5,
   "metadata": {
    "scrolled": true
   },
   "outputs": [
    {
     "data": {
      "text/plain": [
       "Thickness             0.069924\n",
       "Calories              4.473671\n",
       "Sodium               13.181391\n",
       "Num of Ops            4.524501\n",
       "Cycle Time           35.437284\n",
       "Part                  0.373939\n",
       "Trial                 0.106299\n",
       "Height                0.008225\n",
       "Cycle Time_1          0.531029\n",
       "Work station Time     0.475386\n",
       "dtype: float64"
      ]
     },
     "execution_count": 5,
     "metadata": {},
     "output_type": "execute_result"
    }
   ],
   "source": [
    "df.sem()"
   ]
  },
  {
   "cell_type": "code",
   "execution_count": 6,
   "metadata": {},
   "outputs": [
    {
     "data": {
      "text/plain": [
       "0     19.18\n",
       "1     19.15\n",
       "2     19.41\n",
       "3     19.89\n",
       "4     18.73\n",
       "5     19.17\n",
       "6     18.40\n",
       "7     18.54\n",
       "8     19.02\n",
       "9     19.40\n",
       "10    18.82\n",
       "11    18.94\n",
       "12    18.63\n",
       "13    18.76\n",
       "14    18.73\n",
       "15    19.46\n",
       "16    19.09\n",
       "17    19.62\n",
       "18    19.14\n",
       "19    19.40\n",
       "20    18.79\n",
       "21    18.94\n",
       "22    19.04\n",
       "23    18.97\n",
       "24    19.15\n",
       "25      NaN\n",
       "26      NaN\n",
       "27      NaN\n",
       "28      NaN\n",
       "29      NaN\n",
       "30      NaN\n",
       "31      NaN\n",
       "32      NaN\n",
       "33      NaN\n",
       "34      NaN\n",
       "35      NaN\n",
       "36      NaN\n",
       "37      NaN\n",
       "38      NaN\n",
       "39      NaN\n",
       "40      NaN\n",
       "41      NaN\n",
       "42      NaN\n",
       "43      NaN\n",
       "44      NaN\n",
       "45      NaN\n",
       "46      NaN\n",
       "47      NaN\n",
       "48      NaN\n",
       "49      NaN\n",
       "50      NaN\n",
       "51      NaN\n",
       "52      NaN\n",
       "53      NaN\n",
       "54      NaN\n",
       "55      NaN\n",
       "56      NaN\n",
       "57      NaN\n",
       "58      NaN\n",
       "59      NaN\n",
       "Name: Thickness, dtype: float64"
      ]
     },
     "execution_count": 6,
     "metadata": {},
     "output_type": "execute_result"
    }
   ],
   "source": [
    "df['Thickness']"
   ]
  },
  {
   "cell_type": "code",
   "execution_count": 7,
   "metadata": {},
   "outputs": [
    {
     "data": {
      "text/plain": [
       "0      True\n",
       "1      True\n",
       "2      True\n",
       "3      True\n",
       "4      True\n",
       "5      True\n",
       "6      True\n",
       "7      True\n",
       "8      True\n",
       "9      True\n",
       "10     True\n",
       "11     True\n",
       "12     True\n",
       "13     True\n",
       "14     True\n",
       "15     True\n",
       "16     True\n",
       "17     True\n",
       "18     True\n",
       "19     True\n",
       "20     True\n",
       "21     True\n",
       "22     True\n",
       "23     True\n",
       "24     True\n",
       "25    False\n",
       "26    False\n",
       "27    False\n",
       "28    False\n",
       "29    False\n",
       "30    False\n",
       "31    False\n",
       "32    False\n",
       "33    False\n",
       "34    False\n",
       "35    False\n",
       "36    False\n",
       "37    False\n",
       "38    False\n",
       "39    False\n",
       "40    False\n",
       "41    False\n",
       "42    False\n",
       "43    False\n",
       "44    False\n",
       "45    False\n",
       "46    False\n",
       "47    False\n",
       "48    False\n",
       "49    False\n",
       "50    False\n",
       "51    False\n",
       "52    False\n",
       "53    False\n",
       "54    False\n",
       "55    False\n",
       "56    False\n",
       "57    False\n",
       "58    False\n",
       "59    False\n",
       "Name: Thickness, dtype: bool"
      ]
     },
     "execution_count": 7,
     "metadata": {},
     "output_type": "execute_result"
    }
   ],
   "source": [
    "df['Thickness'].notnull()"
   ]
  },
  {
   "cell_type": "code",
   "execution_count": 8,
   "metadata": {},
   "outputs": [
    {
     "data": {
      "text/plain": [
       "0     19.18\n",
       "1     19.15\n",
       "2     19.41\n",
       "3     19.89\n",
       "4     18.73\n",
       "5     19.17\n",
       "6     18.40\n",
       "7     18.54\n",
       "8     19.02\n",
       "9     19.40\n",
       "10    18.82\n",
       "11    18.94\n",
       "12    18.63\n",
       "13    18.76\n",
       "14    18.73\n",
       "15    19.46\n",
       "16    19.09\n",
       "17    19.62\n",
       "18    19.14\n",
       "19    19.40\n",
       "20    18.79\n",
       "21    18.94\n",
       "22    19.04\n",
       "23    18.97\n",
       "24    19.15\n",
       "Name: Thickness, dtype: float64"
      ]
     },
     "execution_count": 8,
     "metadata": {},
     "output_type": "execute_result"
    }
   ],
   "source": [
    "thickness = df['Thickness'][df['Thickness'].notnull()]\n",
    "thickness"
   ]
  },
  {
   "cell_type": "code",
   "execution_count": 9,
   "metadata": {},
   "outputs": [
    {
     "data": {
      "text/plain": [
       "(18.369556862146727, 19.740043137853274)"
      ]
     },
     "execution_count": 9,
     "metadata": {},
     "output_type": "execute_result"
    }
   ],
   "source": [
    "stats.norm.interval(0.95, loc=thickness.mean(), scale=thickness.std())"
   ]
  },
  {
   "cell_type": "code",
   "execution_count": 10,
   "metadata": {},
   "outputs": [
    {
     "data": {
      "text/plain": [
       "(18.88348921553668, 19.22611078446332)"
      ]
     },
     "execution_count": 10,
     "metadata": {},
     "output_type": "execute_result"
    }
   ],
   "source": [
    "from numpy import sqrt\n",
    "stats.norm.interval(0.95, loc=thickness.mean(), scale=thickness.std() / (sqrt(len(thickness)) - 1))"
   ]
  },
  {
   "cell_type": "code",
   "execution_count": 11,
   "metadata": {},
   "outputs": [],
   "source": [
    "#stats.norm.interval(0.95, loc=thickness.median(), scale=TODO)"
   ]
  },
  {
   "cell_type": "code",
   "execution_count": 12,
   "metadata": {},
   "outputs": [
    {
     "data": {
      "text/plain": [
       "<matplotlib.axes._subplots.AxesSubplot at 0x7fee0f7a5dd8>"
      ]
     },
     "execution_count": 12,
     "metadata": {},
     "output_type": "execute_result"
    },
    {
     "data": {
      "image/png": "[encoded data removed]",
      "text/plain": [
       "<Figure size 432x288 with 1 Axes>"
      ]
     },
     "metadata": {},
     "output_type": "display_data"
    }
   ],
   "source": [
    "%matplotlib inline\n",
    "thickness.to_frame().boxplot()"
   ]
  },
  {
   "cell_type": "code",
   "execution_count": 13,
   "metadata": {},
   "outputs": [
    {
     "data": {
      "text/plain": [
       "<matplotlib.axes._subplots.AxesSubplot at 0x7fee0d749dd8>"
      ]
     },
     "execution_count": 13,
     "metadata": {},
     "output_type": "execute_result"
    },
    {
     "data": {
      "image/png": "[encoded data removed]",
      "text/plain": [
       "<Figure size 432x288 with 1 Axes>"
      ]
     },
     "metadata": {},
     "output_type": "display_data"
    }
   ],
   "source": [
    "thickness.hist()"
   ]
  },
  {
   "cell_type": "code",
   "execution_count": 14,
   "metadata": {},
   "outputs": [
    {
     "name": "stderr",
     "output_type": "stream",
     "text": [
      "/home/gilles/.pyenv/versions/3.6.6/lib/python3.6/site-packages/numpy/core/_methods.py:32: RuntimeWarning: invalid value encountered in reduce\n",
      "  return umr_minimum(a, axis, None, out, keepdims, initial)\n",
      "/home/gilles/.pyenv/versions/3.6.6/lib/python3.6/site-packages/numpy/core/_methods.py:28: RuntimeWarning: invalid value encountered in reduce\n",
      "  return umr_maximum(a, axis, None, out, keepdims, initial)\n"
     ]
    },
    {
     "ename": "ValueError",
     "evalue": "max must be larger than min in range parameter.",
     "output_type": "error",
     "traceback": [
      "\u001b[0;31m---------------------------------------------------------------------------\u001b[0m",
      "\u001b[0;31mValueError\u001b[0m                                Traceback (most recent call last)",
      "\u001b[0;32m<ipython-input-14-541c32312790>\u001b[0m in \u001b[0;36m<module>\u001b[0;34m()\u001b[0m\n\u001b[1;32m      1\u001b[0m \u001b[0;32mimport\u001b[0m \u001b[0mseaborn\u001b[0m \u001b[0;32mas\u001b[0m \u001b[0msns\u001b[0m\u001b[0;34m\u001b[0m\u001b[0m\n\u001b[0;32m----> 2\u001b[0;31m \u001b[0msns\u001b[0m\u001b[0;34m.\u001b[0m\u001b[0mpairplot\u001b[0m\u001b[0;34m(\u001b[0m\u001b[0mdf\u001b[0m\u001b[0;34m)\u001b[0m\u001b[0;34m\u001b[0m\u001b[0m\n\u001b[0m",
      "\u001b[0;32m~/.pyenv/versions/3.6.6/lib/python3.6/site-packages/seaborn/axisgrid.py\u001b[0m in \u001b[0;36mpairplot\u001b[0;34m(data, hue, hue_order, palette, vars, x_vars, y_vars, kind, diag_kind, markers, height, aspect, dropna, plot_kws, diag_kws, grid_kws, size)\u001b[0m\n\u001b[1;32m   2105\u001b[0m     \u001b[0;32mif\u001b[0m \u001b[0mgrid\u001b[0m\u001b[0;34m.\u001b[0m\u001b[0msquare_grid\u001b[0m\u001b[0;34m:\u001b[0m\u001b[0;34m\u001b[0m\u001b[0m\n\u001b[1;32m   2106\u001b[0m         \u001b[0;32mif\u001b[0m \u001b[0mdiag_kind\u001b[0m \u001b[0;34m==\u001b[0m \u001b[0;34m\"hist\"\u001b[0m\u001b[0;34m:\u001b[0m\u001b[0;34m\u001b[0m\u001b[0m\n\u001b[0;32m-> 2107\u001b[0;31m             \u001b[0mgrid\u001b[0m\u001b[0;34m.\u001b[0m\u001b[0mmap_diag\u001b[0m\u001b[0;34m(\u001b[0m\u001b[0mplt\u001b[0m\u001b[0;34m.\u001b[0m\u001b[0mhist\u001b[0m\u001b[0;34m,\u001b[0m \u001b[0;34m**\u001b[0m\u001b[0mdiag_kws\u001b[0m\u001b[0;34m)\u001b[0m\u001b[0;34m\u001b[0m\u001b[0m\n\u001b[0m\u001b[1;32m   2108\u001b[0m         \u001b[0;32melif\u001b[0m \u001b[0mdiag_kind\u001b[0m \u001b[0;34m==\u001b[0m \u001b[0;34m\"kde\"\u001b[0m\u001b[0;34m:\u001b[0m\u001b[0;34m\u001b[0m\u001b[0m\n\u001b[1;32m   2109\u001b[0m             \u001b[0mdiag_kws\u001b[0m\u001b[0;34m.\u001b[0m\u001b[0msetdefault\u001b[0m\u001b[0;34m(\u001b[0m\u001b[0;34m\"shade\"\u001b[0m\u001b[0;34m,\u001b[0m \u001b[0;32mTrue\u001b[0m\u001b[0;34m)\u001b[0m\u001b[0;34m\u001b[0m\u001b[0m\n",
      "\u001b[0;32m~/.pyenv/versions/3.6.6/lib/python3.6/site-packages/seaborn/axisgrid.py\u001b[0m in \u001b[0;36mmap_diag\u001b[0;34m(self, func, **kwargs)\u001b[0m\n\u001b[1;32m   1397\u001b[0m                     \u001b[0mcolor\u001b[0m \u001b[0;34m=\u001b[0m \u001b[0mfixed_color\u001b[0m\u001b[0;34m\u001b[0m\u001b[0m\n\u001b[1;32m   1398\u001b[0m \u001b[0;34m\u001b[0m\u001b[0m\n\u001b[0;32m-> 1399\u001b[0;31m                 \u001b[0mfunc\u001b[0m\u001b[0;34m(\u001b[0m\u001b[0mdata_k\u001b[0m\u001b[0;34m,\u001b[0m \u001b[0mlabel\u001b[0m\u001b[0;34m=\u001b[0m\u001b[0mlabel_k\u001b[0m\u001b[0;34m,\u001b[0m \u001b[0mcolor\u001b[0m\u001b[0;34m=\u001b[0m\u001b[0mcolor\u001b[0m\u001b[0;34m,\u001b[0m \u001b[0;34m**\u001b[0m\u001b[0mkwargs\u001b[0m\u001b[0;34m)\u001b[0m\u001b[0;34m\u001b[0m\u001b[0m\n\u001b[0m\u001b[1;32m   1400\u001b[0m \u001b[0;34m\u001b[0m\u001b[0m\n\u001b[1;32m   1401\u001b[0m             \u001b[0mself\u001b[0m\u001b[0;34m.\u001b[0m\u001b[0m_clean_axis\u001b[0m\u001b[0;34m(\u001b[0m\u001b[0max\u001b[0m\u001b[0;34m)\u001b[0m\u001b[0;34m\u001b[0m\u001b[0m\n",
      "\u001b[0;32m~/.pyenv/versions/3.6.6/lib/python3.6/site-packages/matplotlib/pyplot.py\u001b[0m in \u001b[0;36mhist\u001b[0;34m(x, bins, range, density, weights, cumulative, bottom, histtype, align, orientation, rwidth, log, color, label, stacked, normed, hold, data, **kwargs)\u001b[0m\n\u001b[1;32m   3130\u001b[0m                       \u001b[0mhisttype\u001b[0m\u001b[0;34m=\u001b[0m\u001b[0mhisttype\u001b[0m\u001b[0;34m,\u001b[0m \u001b[0malign\u001b[0m\u001b[0;34m=\u001b[0m\u001b[0malign\u001b[0m\u001b[0;34m,\u001b[0m \u001b[0morientation\u001b[0m\u001b[0;34m=\u001b[0m\u001b[0morientation\u001b[0m\u001b[0;34m,\u001b[0m\u001b[0;34m\u001b[0m\u001b[0m\n\u001b[1;32m   3131\u001b[0m                       \u001b[0mrwidth\u001b[0m\u001b[0;34m=\u001b[0m\u001b[0mrwidth\u001b[0m\u001b[0;34m,\u001b[0m \u001b[0mlog\u001b[0m\u001b[0;34m=\u001b[0m\u001b[0mlog\u001b[0m\u001b[0;34m,\u001b[0m \u001b[0mcolor\u001b[0m\u001b[0;34m=\u001b[0m\u001b[0mcolor\u001b[0m\u001b[0;34m,\u001b[0m \u001b[0mlabel\u001b[0m\u001b[0;34m=\u001b[0m\u001b[0mlabel\u001b[0m\u001b[0;34m,\u001b[0m\u001b[0;34m\u001b[0m\u001b[0m\n\u001b[0;32m-> 3132\u001b[0;31m                       stacked=stacked, normed=normed, data=data, **kwargs)\n\u001b[0m\u001b[1;32m   3133\u001b[0m     \u001b[0;32mfinally\u001b[0m\u001b[0;34m:\u001b[0m\u001b[0;34m\u001b[0m\u001b[0m\n\u001b[1;32m   3134\u001b[0m         \u001b[0max\u001b[0m\u001b[0;34m.\u001b[0m\u001b[0m_hold\u001b[0m \u001b[0;34m=\u001b[0m \u001b[0mwashold\u001b[0m\u001b[0;34m\u001b[0m\u001b[0m\n",
      "\u001b[0;32m~/.pyenv/versions/3.6.6/lib/python3.6/site-packages/matplotlib/__init__.py\u001b[0m in \u001b[0;36minner\u001b[0;34m(ax, *args, **kwargs)\u001b[0m\n\u001b[1;32m   1853\u001b[0m                         \u001b[0;34m\"the Matplotlib list!)\"\u001b[0m \u001b[0;34m%\u001b[0m \u001b[0;34m(\u001b[0m\u001b[0mlabel_namer\u001b[0m\u001b[0;34m,\u001b[0m \u001b[0mfunc\u001b[0m\u001b[0;34m.\u001b[0m\u001b[0m__name__\u001b[0m\u001b[0;34m)\u001b[0m\u001b[0;34m,\u001b[0m\u001b[0;34m\u001b[0m\u001b[0m\n\u001b[1;32m   1854\u001b[0m                         RuntimeWarning, stacklevel=2)\n\u001b[0;32m-> 1855\u001b[0;31m             \u001b[0;32mreturn\u001b[0m \u001b[0mfunc\u001b[0m\u001b[0;34m(\u001b[0m\u001b[0max\u001b[0m\u001b[0;34m,\u001b[0m \u001b[0;34m*\u001b[0m\u001b[0margs\u001b[0m\u001b[0;34m,\u001b[0m \u001b[0;34m**\u001b[0m\u001b[0mkwargs\u001b[0m\u001b[0;34m)\u001b[0m\u001b[0;34m\u001b[0m\u001b[0m\n\u001b[0m\u001b[1;32m   1856\u001b[0m \u001b[0;34m\u001b[0m\u001b[0m\n\u001b[1;32m   1857\u001b[0m         inner.__doc__ = _add_data_doc(inner.__doc__,\n",
      "\u001b[0;32m~/.pyenv/versions/3.6.6/lib/python3.6/site-packages/matplotlib/axes/_axes.py\u001b[0m in \u001b[0;36mhist\u001b[0;34m(***failed resolving arguments***)\u001b[0m\n\u001b[1;32m   6528\u001b[0m             \u001b[0;31m# this will automatically overwrite bins,\u001b[0m\u001b[0;34m\u001b[0m\u001b[0;34m\u001b[0m\u001b[0m\n\u001b[1;32m   6529\u001b[0m             \u001b[0;31m# so that each histogram uses the same bins\u001b[0m\u001b[0;34m\u001b[0m\u001b[0;34m\u001b[0m\u001b[0m\n\u001b[0;32m-> 6530\u001b[0;31m             \u001b[0mm\u001b[0m\u001b[0;34m,\u001b[0m \u001b[0mbins\u001b[0m \u001b[0;34m=\u001b[0m \u001b[0mnp\u001b[0m\u001b[0;34m.\u001b[0m\u001b[0mhistogram\u001b[0m\u001b[0;34m(\u001b[0m\u001b[0mx\u001b[0m\u001b[0;34m[\u001b[0m\u001b[0mi\u001b[0m\u001b[0;34m]\u001b[0m\u001b[0;34m,\u001b[0m \u001b[0mbins\u001b[0m\u001b[0;34m,\u001b[0m \u001b[0mweights\u001b[0m\u001b[0;34m=\u001b[0m\u001b[0mw\u001b[0m\u001b[0;34m[\u001b[0m\u001b[0mi\u001b[0m\u001b[0;34m]\u001b[0m\u001b[0;34m,\u001b[0m \u001b[0;34m**\u001b[0m\u001b[0mhist_kwargs\u001b[0m\u001b[0;34m)\u001b[0m\u001b[0;34m\u001b[0m\u001b[0m\n\u001b[0m\u001b[1;32m   6531\u001b[0m             \u001b[0mm\u001b[0m \u001b[0;34m=\u001b[0m \u001b[0mm\u001b[0m\u001b[0;34m.\u001b[0m\u001b[0mastype\u001b[0m\u001b[0;34m(\u001b[0m\u001b[0mfloat\u001b[0m\u001b[0;34m)\u001b[0m  \u001b[0;31m# causes problems later if it's an int\u001b[0m\u001b[0;34m\u001b[0m\u001b[0m\n\u001b[1;32m   6532\u001b[0m             \u001b[0;32mif\u001b[0m \u001b[0mmlast\u001b[0m \u001b[0;32mis\u001b[0m \u001b[0;32mNone\u001b[0m\u001b[0;34m:\u001b[0m\u001b[0;34m\u001b[0m\u001b[0m\n",
      "\u001b[0;32m~/.pyenv/versions/3.6.6/lib/python3.6/site-packages/numpy/lib/histograms.py\u001b[0m in \u001b[0;36mhistogram\u001b[0;34m(a, bins, range, normed, weights, density)\u001b[0m\n\u001b[1;32m    674\u001b[0m     \u001b[0ma\u001b[0m\u001b[0;34m,\u001b[0m \u001b[0mweights\u001b[0m \u001b[0;34m=\u001b[0m \u001b[0m_ravel_and_check_weights\u001b[0m\u001b[0;34m(\u001b[0m\u001b[0ma\u001b[0m\u001b[0;34m,\u001b[0m \u001b[0mweights\u001b[0m\u001b[0;34m)\u001b[0m\u001b[0;34m\u001b[0m\u001b[0m\n\u001b[1;32m    675\u001b[0m \u001b[0;34m\u001b[0m\u001b[0m\n\u001b[0;32m--> 676\u001b[0;31m     \u001b[0mbin_edges\u001b[0m\u001b[0;34m,\u001b[0m \u001b[0muniform_bins\u001b[0m \u001b[0;34m=\u001b[0m \u001b[0m_get_bin_edges\u001b[0m\u001b[0;34m(\u001b[0m\u001b[0ma\u001b[0m\u001b[0;34m,\u001b[0m \u001b[0mbins\u001b[0m\u001b[0;34m,\u001b[0m \u001b[0mrange\u001b[0m\u001b[0;34m,\u001b[0m \u001b[0mweights\u001b[0m\u001b[0;34m)\u001b[0m\u001b[0;34m\u001b[0m\u001b[0m\n\u001b[0m\u001b[1;32m    677\u001b[0m \u001b[0;34m\u001b[0m\u001b[0m\n\u001b[1;32m    678\u001b[0m     \u001b[0;31m# Histogram is an integer or a float array depending on the weights.\u001b[0m\u001b[0;34m\u001b[0m\u001b[0;34m\u001b[0m\u001b[0m\n",
      "\u001b[0;32m~/.pyenv/versions/3.6.6/lib/python3.6/site-packages/numpy/lib/histograms.py\u001b[0m in \u001b[0;36m_get_bin_edges\u001b[0;34m(a, bins, range, weights)\u001b[0m\n\u001b[1;32m    327\u001b[0m             \u001b[0;32mraise\u001b[0m \u001b[0mValueError\u001b[0m\u001b[0;34m(\u001b[0m\u001b[0;34m'`bins` must be positive, when an integer'\u001b[0m\u001b[0;34m)\u001b[0m\u001b[0;34m\u001b[0m\u001b[0m\n\u001b[1;32m    328\u001b[0m \u001b[0;34m\u001b[0m\u001b[0m\n\u001b[0;32m--> 329\u001b[0;31m         \u001b[0mfirst_edge\u001b[0m\u001b[0;34m,\u001b[0m \u001b[0mlast_edge\u001b[0m \u001b[0;34m=\u001b[0m \u001b[0m_get_outer_edges\u001b[0m\u001b[0;34m(\u001b[0m\u001b[0ma\u001b[0m\u001b[0;34m,\u001b[0m \u001b[0mrange\u001b[0m\u001b[0;34m)\u001b[0m\u001b[0;34m\u001b[0m\u001b[0m\n\u001b[0m\u001b[1;32m    330\u001b[0m \u001b[0;34m\u001b[0m\u001b[0m\n\u001b[1;32m    331\u001b[0m     \u001b[0;32melif\u001b[0m \u001b[0mnp\u001b[0m\u001b[0;34m.\u001b[0m\u001b[0mndim\u001b[0m\u001b[0;34m(\u001b[0m\u001b[0mbins\u001b[0m\u001b[0;34m)\u001b[0m \u001b[0;34m==\u001b[0m \u001b[0;36m1\u001b[0m\u001b[0;34m:\u001b[0m\u001b[0;34m\u001b[0m\u001b[0m\n",
      "\u001b[0;32m~/.pyenv/versions/3.6.6/lib/python3.6/site-packages/numpy/lib/histograms.py\u001b[0m in \u001b[0;36m_get_outer_edges\u001b[0;34m(a, range)\u001b[0m\n\u001b[1;32m    240\u001b[0m         \u001b[0;32mif\u001b[0m \u001b[0mfirst_edge\u001b[0m \u001b[0;34m>\u001b[0m \u001b[0mlast_edge\u001b[0m\u001b[0;34m:\u001b[0m\u001b[0;34m\u001b[0m\u001b[0m\n\u001b[1;32m    241\u001b[0m             raise ValueError(\n\u001b[0;32m--> 242\u001b[0;31m                 'max must be larger than min in range parameter.')\n\u001b[0m\u001b[1;32m    243\u001b[0m         \u001b[0;32mif\u001b[0m \u001b[0;32mnot\u001b[0m \u001b[0;34m(\u001b[0m\u001b[0mnp\u001b[0m\u001b[0;34m.\u001b[0m\u001b[0misfinite\u001b[0m\u001b[0;34m(\u001b[0m\u001b[0mfirst_edge\u001b[0m\u001b[0;34m)\u001b[0m \u001b[0;32mand\u001b[0m \u001b[0mnp\u001b[0m\u001b[0;34m.\u001b[0m\u001b[0misfinite\u001b[0m\u001b[0;34m(\u001b[0m\u001b[0mlast_edge\u001b[0m\u001b[0;34m)\u001b[0m\u001b[0;34m)\u001b[0m\u001b[0;34m:\u001b[0m\u001b[0;34m\u001b[0m\u001b[0m\n\u001b[1;32m    244\u001b[0m             raise ValueError(\n",
      "\u001b[0;31mValueError\u001b[0m: max must be larger than min in range parameter."
     ]
    },
    {
     "data": {
      "image/png": "[encoded data removed]",
      "text/plain": [
       "<Figure size 1800x1800 with 110 Axes>"
      ]
     },
     "metadata": {},
     "output_type": "display_data"
    }
   ],
   "source": [
    "import seaborn as sns\n",
    "sns.pairplot(df)"
   ]
  },
  {
   "cell_type": "code",
   "execution_count": null,
   "metadata": {},
   "outputs": [],
   "source": [
    "sns.pairplot(df)"
   ]
  },
  {
   "cell_type": "code",
   "execution_count": null,
   "metadata": {},
   "outputs": [],
   "source": [
    "from pandas.tools import plotting\n",
    "from matplotlib import pyplot as plt"
   ]
  },
  {
   "cell_type": "code",
   "execution_count": null,
   "metadata": {},
   "outputs": [],
   "source": [
    "stats.probplot(thickness, dist=stats.norm, plot=plt)"
   ]
  },
  {
   "cell_type": "code",
   "execution_count": null,
   "metadata": {},
   "outputs": [],
   "source": [
    "from pandas.stats.api import ols\n",
    "regression = ols(y=df['Cycle Time'], x=df['Num of Ops'])"
   ]
  },
  {
   "cell_type": "code",
   "execution_count": null,
   "metadata": {},
   "outputs": [],
   "source": [
    "regression"
   ]
  },
  {
   "cell_type": "code",
   "execution_count": null,
   "metadata": {},
   "outputs": [],
   "source": [
    "regression.fr"
   ]
  },
  {
   "cell_type": "markdown",
   "metadata": {
    "collapsed": true
   },
   "source": [
    "# Analyze phase #\n",
    "\n",
    "## Intent ##"
   ]
  },
  {
   "cell_type": "markdown",
   "metadata": {},
   "source": [
    "### Identify potential Xs and Ys ###"
   ]
  },
  {
   "cell_type": "markdown",
   "metadata": {},
   "source": [
    "##### Affinity diagram #####\n",
    "\n",
    "Deliverable. Insert a diagram as required. Edit. Need more words to describe this deliverable."
   ]
  },
  {
   "cell_type": "markdown",
   "metadata": {},
   "source": [
    "##### Cause-and-effect diagram #####\n",
    "\n",
    "Deliverable. Insert a diagram as required. Edit. Need more words to describe this deliverable."
   ]
  },
  {
   "cell_type": "markdown",
   "metadata": {},
   "source": [
    "##### Matrix plot #####\n",
    "\n",
    "Deliverable. Insert code to create this diagram. Edit. Need more words to describe this deliverable."
   ]
  },
  {
   "cell_type": "markdown",
   "metadata": {},
   "source": [
    "### Confirm critical Xs and Ys ###"
   ]
  },
  {
   "cell_type": "markdown",
   "metadata": {},
   "source": [
    "#### Measurements + Normal + Location ####"
   ]
  },
  {
   "cell_type": "markdown",
   "metadata": {},
   "source": [
    "##### Target v. average (ene-sample t test) #####\n",
    "\n",
    "Deliverable. [one-sample t notebook](one_sample_t/notebook_one_sample_t.ipynb)"
   ]
  },
  {
   "cell_type": "markdown",
   "metadata": {},
   "source": [
    "##### Two averages #####\n",
    "\n",
    "Deliverable. Insert code to calculate two-sample t. Edit. Need more words to describe this deliverable."
   ]
  },
  {
   "cell_type": "code",
   "execution_count": null,
   "metadata": {},
   "outputs": [],
   "source": [
    "meat = df['Thickness'][df['Type'] == 'Meat']\n",
    "beef = df['Thickness'][df['Type'] == 'Beef']\n",
    "\n",
    "meat = meat[meat.notnull()]\n",
    "beef = beef[beef.notnull()]\n",
    "\n",
    "result = stats.ttest_ind(meat, beef)\n",
    "result"
   ]
  },
  {
   "cell_type": "code",
   "execution_count": null,
   "metadata": {},
   "outputs": [],
   "source": [
    "if result.pvalue < 0.05:\n",
    "    print('Statistically significant')\n",
    "else:\n",
    "    print('Not signficant')"
   ]
  },
  {
   "cell_type": "markdown",
   "metadata": {},
   "source": [
    "##### Averages of differences, paired data #####\n",
    "\n",
    "Deliverable. Insert code to calculate paired t. Edit. Need more words to describe this deliverable."
   ]
  },
  {
   "cell_type": "markdown",
   "metadata": {},
   "source": [
    "##### More than two averages #####\n",
    "\n",
    "Deliverable. Insert code to calculate ANOVA. Edit. Need more words to describe this deliverable."
   ]
  },
  {
   "cell_type": "markdown",
   "metadata": {},
   "source": [
    "#### Measurements + Normal + Dispersion ####"
   ]
  },
  {
   "cell_type": "markdown",
   "metadata": {},
   "source": [
    "##### One variance #####\n",
    "\n",
    "Deliverable. Insert code to calculate chi-squared. Edit. Need more words to describe this deliverable."
   ]
  },
  {
   "cell_type": "markdown",
   "metadata": {},
   "source": [
    "##### Two variances #####\n",
    "\n",
    "Deliverable. Insert code to calculate F. Edit. Need more words to describe this deliverable."
   ]
  },
  {
   "cell_type": "markdown",
   "metadata": {},
   "source": [
    "##### More than two variances #####\n",
    "\n",
    "Deliverable. Insert code to calculate Bartlett. Edit. Need more words to describe this deliverable."
   ]
  },
  {
   "cell_type": "markdown",
   "metadata": {},
   "source": [
    "#### Measurements + Non-normal + Location ####"
   ]
  },
  {
   "cell_type": "markdown",
   "metadata": {},
   "source": [
    "##### One median #####\n",
    "\n",
    "Deliverable. Insert code to calculate. Edit. Need more words to describe this deliverable."
   ]
  },
  {
   "cell_type": "markdown",
   "metadata": {},
   "source": [
    "##### Many medians #####\n",
    "\n",
    "Deliverable. Insert code to calculate Mood median. Edit. Need more words to describe this deliverable."
   ]
  },
  {
   "cell_type": "markdown",
   "metadata": {},
   "source": [
    "#### Measurements + Non-normal + Dispersion ####"
   ]
  },
  {
   "cell_type": "markdown",
   "metadata": {},
   "source": [
    "##### Target v. variance #####\n",
    "\n",
    "Deliverable. Insert code to calculate Bonett. Edit. Need more words to describe this deliverable."
   ]
  },
  {
   "cell_type": "markdown",
   "metadata": {},
   "source": [
    "##### Two variances #####\n",
    "\n",
    "Deliverable. Insert code to calculate Levene. Edit. Need more words to describe this deliverable."
   ]
  },
  {
   "cell_type": "markdown",
   "metadata": {},
   "source": [
    "##### Many variances #####\n",
    "\n",
    "Deliverable. Insert code to calculate Levene. Edit. Need more words to describe this deliverable."
   ]
  },
  {
   "cell_type": "markdown",
   "metadata": {},
   "source": [
    "#### Counts ####"
   ]
  },
  {
   "cell_type": "markdown",
   "metadata": {},
   "source": [
    "##### One proportion #####\n",
    "\n",
    "Deliverable. Insert code to calculate. Edit. Need more words to describe this deliverable."
   ]
  },
  {
   "cell_type": "markdown",
   "metadata": {},
   "source": [
    "##### Two proportions #####\n",
    "\n",
    "Deliverable. Insert code to calculate. Edit. Need more words to describe this deliverable."
   ]
  },
  {
   "cell_type": "markdown",
   "metadata": {},
   "source": [
    "##### Contingency table #####\n",
    "\n",
    "Deliverable. Insert code to calculate chi-squared. Edit. Need more words to describe this deliverable."
   ]
  },
  {
   "cell_type": "markdown",
   "metadata": {},
   "source": [
    "##### One-sample event rate #####\n",
    "\n",
    "Deliverable. Insert code to calculate. Edit. Need more words to describe this deliverable."
   ]
  },
  {
   "cell_type": "markdown",
   "metadata": {},
   "source": [
    "##### Two-sample event rate #####\n",
    "\n",
    "Deliverable. Insert code to calculate. Edit. Need more words to describe this deliverable."
   ]
  },
  {
   "cell_type": "markdown",
   "metadata": {},
   "source": [
    "### Validate measurement system on Xs ###"
   ]
  },
  {
   "cell_type": "markdown",
   "metadata": {},
   "source": [
    "##### Bias and linearity #####\n",
    "\n",
    "Deliverable. Insert code to calculate bias and linearity. Edit. Need more words to describe this deliverable."
   ]
  },
  {
   "cell_type": "markdown",
   "metadata": {},
   "source": [
    "##### Wheeler's method #####\n",
    "\n",
    "Deliverable. Insert code to calculate Wheeler's method. Edit. Need more words to describe this deliverable."
   ]
  },
  {
   "cell_type": "markdown",
   "metadata": {},
   "source": [
    "##### Guard banding #####\n",
    "\n",
    "Deliverable. Insert code to calculate guard banding. Edit. Need more words to describe this deliverable."
   ]
  },
  {
   "cell_type": "markdown",
   "metadata": {},
   "source": [
    "### Estimate initial process model ###"
   ]
  },
  {
   "cell_type": "markdown",
   "metadata": {},
   "source": [
    "#### Random sample, one X ####\n",
    "\n",
    "In general it is model, residuals, model. Edit. Need more words to describe this deliverable."
   ]
  },
  {
   "cell_type": "markdown",
   "metadata": {},
   "source": [
    "##### One-factor regression #####\n",
    "\n",
    "Deliverable. Insert code to calculate. Linear, quadratic and cubic at least. Edit. Need more words to describe this deliverable."
   ]
  },
  {
   "cell_type": "markdown",
   "metadata": {},
   "source": [
    "#### Random sample, many Xs ####"
   ]
  },
  {
   "cell_type": "markdown",
   "metadata": {},
   "source": [
    "##### Multiple regression #####\n",
    "\n",
    "Deliverable. Insert code to calculate. Edit. Need more words to describe this deliverable."
   ]
  },
  {
   "cell_type": "markdown",
   "metadata": {},
   "source": [
    "#### Structured sample ####"
   ]
  },
  {
   "cell_type": "markdown",
   "metadata": {},
   "source": [
    "##### Fractional factorials #####\n",
    "\n",
    "Deliverable. Insert code to calculate. Edit. Need more words to describe this deliverable."
   ]
  },
  {
   "cell_type": "markdown",
   "metadata": {},
   "source": [
    "##### Evolutionary operation #####\n",
    "\n",
    "Deliverable. Insert code to calculate. Edit. Need more words to describe this deliverable."
   ]
  },
  {
   "cell_type": "markdown",
   "metadata": {},
   "source": [
    "##### Response surface #####\n",
    "\n",
    "Deliverable. Insert code to calculate. Edit. Need more words to describe this deliverable."
   ]
  },
  {
   "cell_type": "markdown",
   "metadata": {},
   "source": [
    "##### Mixture #####\n",
    "\n",
    "Deliverable. Insert code to calculate. Edit. Need more words to describe this deliverable."
   ]
  },
  {
   "cell_type": "markdown",
   "metadata": {},
   "source": [
    "# Improve phase #\n",
    "\n",
    "## Intent ##\n",
    "\n",
    "“Fix the root causes. Conduct experiments.” The purpose of **improve** is to identify, experiment, and validate a solution to the problem and estimate the improved performance of the process."
   ]
  },
  {
   "cell_type": "markdown",
   "metadata": {},
   "source": [
    "### Conduct experiments ###\n",
    "\n",
    "In general it is model, residuals, model."
   ]
  },
  {
   "cell_type": "markdown",
   "metadata": {},
   "source": [
    "##### Fractional factorials #####\n",
    "\n",
    "Deliverable. Insert code to calculate. Edit. Need more words to describe this deliverable."
   ]
  },
  {
   "cell_type": "markdown",
   "metadata": {},
   "source": [
    "##### Evolutionary operation #####\n",
    "\n",
    "Deliverable. Insert code to calculate. Edit. Need more words to describe this deliverable."
   ]
  },
  {
   "cell_type": "markdown",
   "metadata": {},
   "source": [
    "##### Response surface #####\n",
    "\n",
    "Deliverable. Insert code to calculate. Edit. Need more words to describe this deliverable."
   ]
  },
  {
   "cell_type": "markdown",
   "metadata": {},
   "source": [
    "##### Mixture #####\n",
    "\n",
    "Deliverable. Insert code to calculate. Edit. Need more words to describe this deliverable."
   ]
  },
  {
   "cell_type": "markdown",
   "metadata": {},
   "source": [
    "### Select and deploy solution ###"
   ]
  },
  {
   "cell_type": "markdown",
   "metadata": {},
   "source": [
    "##### Solution deployed #####\n",
    "\n",
    "Deliverable. Insert text to describe. Edit. Need more words to describe this deliverable."
   ]
  },
  {
   "cell_type": "markdown",
   "metadata": {},
   "source": [
    "# Control phase #\n",
    "\n",
    "## Intent ##\n",
    "\n",
    "“How do I keep the process at its new level of performance?” The purpose of **control** is to maintain the process at the improved level of performance."
   ]
  },
  {
   "cell_type": "markdown",
   "metadata": {},
   "source": [
    "### Revise process map ###\n",
    "\n",
    "Edit. Insert text to describe."
   ]
  },
  {
   "cell_type": "markdown",
   "metadata": {},
   "source": [
    "##### Value-stream map #####\n",
    "\n",
    "Deliverable. Insert a value-stream map. Edit. Need more words to describe this deliverable."
   ]
  },
  {
   "cell_type": "markdown",
   "metadata": {},
   "source": [
    "##### Flow chart #####\n",
    "\n",
    "Deliverable. Insert a flow chart. Edit. Need more words to describe this deliverable."
   ]
  },
  {
   "cell_type": "markdown",
   "metadata": {},
   "source": [
    "##### Swim-lane map #####\n",
    "\n",
    "Deliverable. Insert a swim-lane map. Edit. Need more words to describe this deliverable."
   ]
  },
  {
   "cell_type": "markdown",
   "metadata": {},
   "source": [
    "### Document key causes of between and within variation ###\n",
    "\n",
    "Edit. Insert text to describe."
   ]
  },
  {
   "cell_type": "markdown",
   "metadata": {},
   "source": [
    "##### Between-sample Xs #####\n",
    "\n",
    "Deliverable. List factors that statistically-significantly cause between-sample variation. Edit. Need more words to describe this deliverable."
   ]
  },
  {
   "cell_type": "markdown",
   "metadata": {},
   "source": [
    "##### Within-sample variation #####\n",
    "\n",
    "Deliverable. List factors that statistically-significantly cause within-sample variation. Edit. Need more words to describe this deliverable."
   ]
  },
  {
   "cell_type": "markdown",
   "metadata": {},
   "source": [
    "### Validate measurement system on Ys and Xs ###\n",
    "\n",
    "Edit. Insert text to describe."
   ]
  },
  {
   "cell_type": "markdown",
   "metadata": {},
   "source": [
    "##### Bias and linearity #####\n",
    "\n",
    "Deliverable. Insert code to calculate bias and linearity. Edit. Need more words to describe this deliverable."
   ]
  },
  {
   "cell_type": "markdown",
   "metadata": {},
   "source": [
    "##### Wheeler's method #####\n",
    "\n",
    "Deliverable. Insert code to calculate Wheeler's method. Edit. Need more words to describe this deliverable."
   ]
  },
  {
   "cell_type": "markdown",
   "metadata": {},
   "source": [
    "##### Guard banding #####\n",
    "\n",
    "Deliverable. Insert code to calculate guard banding. Edit. Need more words to describe this deliverable."
   ]
  },
  {
   "cell_type": "markdown",
   "metadata": {},
   "source": [
    "### Estimate process capability ###\n",
    "\n",
    "Edit. Insert text to describe."
   ]
  },
  {
   "cell_type": "markdown",
   "metadata": {},
   "source": [
    "#### Random sample ####"
   ]
  },
  {
   "cell_type": "markdown",
   "metadata": {},
   "source": [
    "##### Basic graphical analysis #####\n",
    "\n",
    "Deliverable. Insert code to calculate a box plot and a dot plot. Edit. Need more words to describe this deliverable."
   ]
  },
  {
   "cell_type": "markdown",
   "metadata": {},
   "source": [
    "##### Distribution analysis #####\n",
    "\n",
    "Deliverable. Insert code to calculate a probability plot with lack-of-fit test. The goal is \n",
    "to identify what type of distribution is a good approximation for the data. Edit. Need more words to describe this deliverable."
   ]
  },
  {
   "cell_type": "markdown",
   "metadata": {},
   "source": [
    "##### Capability analysis #####\n",
    "\n",
    "Deliverable. Insert code to calculate Ppk statistics and confidence intervals. Edit. Need more words to describe this deliverable."
   ]
  },
  {
   "cell_type": "markdown",
   "metadata": {},
   "source": [
    "#### Rational sample, n = 1 ####"
   ]
  },
  {
   "cell_type": "markdown",
   "metadata": {},
   "source": [
    "##### XmR control chart #####\n",
    "\n",
    "Deliverable. Insert code to calculate an XmR control chart, with rules for out-of-control points. Edit. Need more words to describe this deliverable."
   ]
  },
  {
   "cell_type": "markdown",
   "metadata": {},
   "source": [
    "##### Capability analysis #####\n",
    "\n",
    "Deliverable. Insert code to calculate Cpk statistics and confidence intervals. Edit. Need more words to describe this deliverable."
   ]
  },
  {
   "cell_type": "markdown",
   "metadata": {},
   "source": [
    "#### Rational sample, n > 1 ####"
   ]
  },
  {
   "cell_type": "markdown",
   "metadata": {},
   "source": [
    "##### XbarR control chart #####\n",
    "\n",
    "Deliverable. Insert code to calculate an XbarR control chart, with rules for out-of-control points. Edit. Need more words to describe this deliverable."
   ]
  },
  {
   "cell_type": "markdown",
   "metadata": {},
   "source": [
    "##### Capability analysis #####\n",
    "\n",
    "Deliverable. Insert code to calculate Cpk statistics and confidence intervals. Edit. Need more words to describe this deliverable."
   ]
  },
  {
   "cell_type": "markdown",
   "metadata": {},
   "source": [
    "### Implement + manage process control ###\n",
    "\n",
    "Edit. Insert text to describe."
   ]
  },
  {
   "cell_type": "markdown",
   "metadata": {},
   "source": [
    "##### Control plan #####\n",
    "\n",
    "Deliverable. Insert text to describe. Edit. Need more words to describe this deliverable."
   ]
  },
  {
   "cell_type": "markdown",
   "metadata": {},
   "source": [
    "##### Standard work #####\n",
    "\n",
    "Deliverable. Insert text to describe. Edit. Need more words to describe this deliverable."
   ]
  },
  {
   "cell_type": "markdown",
   "metadata": {},
   "source": [
    "##### Visual controls #####\n",
    "\n",
    "Deliverable. Insert text to describe. Edit. Need more words to describe this deliverable."
   ]
  },
  {
   "cell_type": "markdown",
   "metadata": {},
   "source": [
    "##### Standard management #####\n",
    "\n",
    "Deliverable. Insert text to describe."
   ]
  },
  {
   "cell_type": "markdown",
   "metadata": {},
   "source": [
    "# References #\n",
    "\n",
    "<span style=\"color:red\";>edit this cell</span>"
   ]
  },
  {
   "cell_type": "markdown",
   "metadata": {},
   "source": [
    "# Colophon #\n",
    "\n",
    "This notebook was created with [Jupyter Notebook software](http://jupyter.org/) and a [Python programming language](https://www.python.org/) kernel. It is structured using the [DMAIC methodology](https://en.wikipedia.org/wiki/DMAIC).\n",
    "\n",
    "For all inquiries about this document, improvements, errors, and additional features, please send me a mail (<gilles.pilon@forteconsultants.ca>).\n",
    "\n",
    "Last updated 2016.02.01.\n",
    "\n",
    "Gilles Pilon."
   ]
  }
 ],
 "metadata": {
  "kernelspec": {
   "display_name": "Python 3",
   "language": "python",
   "name": "python3"
  },
  "language_info": {
   "codemirror_mode": {
    "name": "ipython",
    "version": 3
   },
   "file_extension": ".py",
   "mimetype": "text/x-python",
   "name": "python",
   "nbconvert_exporter": "python",
   "pygments_lexer": "ipython3",
   "version": "3.6.6"
  }
 },
 "nbformat": 4,
 "nbformat_minor": 1
}
