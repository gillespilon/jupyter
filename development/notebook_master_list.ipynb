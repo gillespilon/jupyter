{
 "cells": [
  {
   "cell_type": "markdown",
   "metadata": {},
   "source": [
    "# Notebook master list of notebooks #\n",
    "\n",
    "\n",
    "## In brevi ##\n",
    "\n",
    "This document is a list of links to all of the Jupyter notebooks I have developed."
   ]
  },
  {
   "cell_type": "markdown",
   "metadata": {},
   "source": [
    "## Hypothesis tests ##\n",
    "\n",
    "- [One-sample t test](notebook_one_sample_t.ipynb)\n",
    "- [Two-sample t test](notebook_two_sample_t.ipynb)"
   ]
  }
 ],
 "metadata": {
  "kernelspec": {
   "display_name": "Python 3",
   "language": "python",
   "name": "python3"
  },
  "language_info": {
   "codemirror_mode": {
    "name": "ipython",
    "version": 3
   },
   "file_extension": ".py",
   "mimetype": "text/x-python",
   "name": "python",
   "nbconvert_exporter": "python",
   "pygments_lexer": "ipython3",
   "version": "3.5.1"
  }
 },
 "nbformat": 4,
 "nbformat_minor": 0
}
