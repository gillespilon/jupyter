{
 "cells": [
  {
   "cell_type": "markdown",
   "metadata": {},
   "source": [
    "# Lean Six Sigma Notebook #\n",
    "\n",
    "## About this document ##\n",
    "\n",
    "This notebook was created with [Jupyter Notebook software](http://jupyter.org/) and a [Python programming language](https://www.python.org/) kernel. It is structured using the [DMAIC methodology](https://www.python.org/).\n",
    "\n",
    "For all inquiries about this document, improvements, errors, and additional features, please send me a mail (<gilles.pilon@forteconsultants.ca>)."
   ]
  },
  {
   "cell_type": "markdown",
   "metadata": {},
   "source": [
    "# Define phase #\n",
    "\n",
    "## Intent ##\n",
    "\n",
    "“What problem are we trying to solve?”The purpose of **define** is to clearly state the problem to solve."
   ]
  },
  {
   "cell_type": "markdown",
   "metadata": {},
   "source": [
    "### Define the problem ###"
   ]
  },
  {
   "cell_type": "markdown",
   "metadata": {},
   "source": [
    "##### Problem Statement #####\n",
    "\n",
    "Deliverable. Insert a template."
   ]
  },
  {
   "cell_type": "markdown",
   "metadata": {},
   "source": [
    "##### Projects #####\n",
    "\n",
    "Deliverable. Insert a list of projects to solve the problem."
   ]
  },
  {
   "cell_type": "markdown",
   "metadata": {},
   "source": [
    "### Define the team ###"
   ]
  },
  {
   "cell_type": "markdown",
   "metadata": {},
   "source": [
    "##### Team members #####\n",
    "\n",
    "Deliverable. Insert a template for team leader and team members."
   ]
  },
  {
   "cell_type": "markdown",
   "metadata": {},
   "source": [
    "### Define the project ###"
   ]
  },
  {
   "cell_type": "markdown",
   "metadata": {},
   "source": [
    "##### Project charter #####\n",
    "\n",
    "Deliverable. Insert a template for a project charter."
   ]
  },
  {
   "cell_type": "markdown",
   "metadata": {},
   "source": [
    "### Identify the Ys ###"
   ]
  },
  {
   "cell_type": "markdown",
   "metadata": {},
   "source": [
    "##### Primary measures #####\n",
    "\n",
    "Deliverable. List of primary measures + operational definitions. Edit. Need more words to describe this deliverable."
   ]
  },
  {
   "cell_type": "markdown",
   "metadata": {},
   "source": [
    "##### Seconday measures #####\n",
    "\n",
    "Deliverable. List of secondary measures + operational definitions. Edit. Need more words to describe this deliverable."
   ]
  },
  {
   "cell_type": "markdown",
   "metadata": {},
   "source": [
    "# Measure phase #\n",
    "\n",
    "## Intent ##\n",
    "\n",
    "“How bad is the problem?” The purpose of **measure** is to estimate the current performance of the process in which the problem occurs."
   ]
  },
  {
   "cell_type": "markdown",
   "metadata": {},
   "source": [
    "### Process map ###\n",
    "\n",
    "Insert one or more of the following diagrams, as appropriate."
   ]
  },
  {
   "cell_type": "markdown",
   "metadata": {},
   "source": [
    "##### Value-stream map #####\n",
    "\n",
    "Deliverable. Insert a value-stream map. Edit. Need more words to describe this deliverable."
   ]
  },
  {
   "cell_type": "markdown",
   "metadata": {},
   "source": [
    "##### Flow chart #####\n",
    "\n",
    "Deliverable. Insert a flow chart. Edit. Need more words to describe this deliverable."
   ]
  },
  {
   "cell_type": "markdown",
   "metadata": {},
   "source": [
    "##### Swim-lane map #####\n",
    "\n",
    "Deliverable. Insert a swim-lane map. Edit. Need more words to describe this deliverable."
   ]
  },
  {
   "cell_type": "markdown",
   "metadata": {},
   "source": [
    "### Identify potential between and within variation ###"
   ]
  },
  {
   "cell_type": "markdown",
   "metadata": {},
   "source": [
    "##### Between-sample Xs #####\n",
    "\n",
    "Deliverable. List factors that potentially cause between-sample variation. Edit. Need more words to describe this deliverable."
   ]
  },
  {
   "cell_type": "markdown",
   "metadata": {},
   "source": [
    "##### Within-sample variation #####\n",
    "\n",
    "Deliverable. List factors that potentially cause within-sample variation. Edit. Need more words to describe this deliverable."
   ]
  },
  {
   "cell_type": "markdown",
   "metadata": {},
   "source": [
    "##### Sampling plan #####\n",
    "\n",
    "Deliverable. Describe a sampling plan to capture between-sample and within-sample variation. Insert an example or a template. Edit. Need more words to describe this deliverable."
   ]
  },
  {
   "cell_type": "markdown",
   "metadata": {},
   "source": [
    "### Validate measurement system on Ys ###"
   ]
  },
  {
   "cell_type": "markdown",
   "metadata": {},
   "source": [
    "##### Bias and linearity #####\n",
    "\n",
    "Deliverable. Insert code to calculate bias and linearity. Edit. Need more words to describe this deliverable."
   ]
  },
  {
   "cell_type": "markdown",
   "metadata": {},
   "source": [
    "##### Wheeler's method #####\n",
    "\n",
    "Deliverable. Insert code to calculate Wheeler's method. Edit. Need more words to describe this deliverable."
   ]
  },
  {
   "cell_type": "markdown",
   "metadata": {},
   "source": [
    "##### Guard banding #####\n",
    "\n",
    "Deliverable. Insert code to calculate guard banding. Edit. Need more words to describe this deliverable."
   ]
  },
  {
   "cell_type": "markdown",
   "metadata": {},
   "source": [
    "### Estimate process capability ###"
   ]
  },
  {
   "cell_type": "markdown",
   "metadata": {},
   "source": [
    "#### Random sample ####"
   ]
  },
  {
   "cell_type": "markdown",
   "metadata": {},
   "source": [
    "##### Basic graphical analysis #####\n",
    "\n",
    "Deliverable. Insert code to calculate a box plot and a dot plot. Edit. Need more words to describe this deliverable."
   ]
  },
  {
   "cell_type": "markdown",
   "metadata": {},
   "source": [
    "##### Distribution analysis #####\n",
    "\n",
    "Deliverable. Insert code to calculate a probability plot with lack-of-fit test. The goal is to identify what type of distribution is a good approximation for the data. Edit. Need more words to describe this deliverable."
   ]
  },
  {
   "cell_type": "markdown",
   "metadata": {},
   "source": [
    "##### Capability analysis #####\n",
    "\n",
    "Deliverable. Insert code to calculate Ppk statistics and confidence intervals. Edit. Need more words to describe this deliverable."
   ]
  },
  {
   "cell_type": "markdown",
   "metadata": {},
   "source": [
    "#### Rational sample, n = 1 ####"
   ]
  },
  {
   "cell_type": "markdown",
   "metadata": {},
   "source": [
    "##### XmR control chart #####\n",
    "\n",
    "Deliverable. Insert code to calculate an XmR control chart, with rules for out-of-control points. Edit. Need more words to describe this deliverable."
   ]
  },
  {
   "cell_type": "markdown",
   "metadata": {},
   "source": [
    "##### Capability analysis #####\n",
    "\n",
    "Deliverable. Insert code to calculate Cpk statistics and confidence intervals. Edit. Need more words to describe this deliverable."
   ]
  },
  {
   "cell_type": "markdown",
   "metadata": {},
   "source": [
    "#### Rational sample, n > 1 ####"
   ]
  },
  {
   "cell_type": "markdown",
   "metadata": {},
   "source": [
    "##### XbarR control chart #####\n",
    "\n",
    "Deliverable. Insert code to calculate an XbarR control chart, with rules for out-of-control points. Edit. Need more words to describe this deliverable."
   ]
  },
  {
   "cell_type": "markdown",
   "metadata": {},
   "source": [
    "##### Capability analysis #####\n",
    "\n",
    "Deliverable. Insert code to calculate Cpk statistics and confidence intervals. Edit. Need more words to describe this deliverable."
   ]
  },
  {
   "cell_type": "markdown",
   "metadata": {},
   "source": [
    "Edit. <span style=\"color:red\";>The cells below need to be moved to appropriate places in the cells above.</span>"
   ]
  },
  {
   "cell_type": "markdown",
   "metadata": {},
   "source": [
    "The data file should be created with appropriate software (Minitab, JMP, Excel, LibreOffice) and saved as a CSV (comma-separated values). Import required libraries. Read the data file."
   ]
  },
  {
   "cell_type": "code",
   "execution_count": 2,
   "metadata": {
    "collapsed": true
   },
   "outputs": [],
   "source": [
    "import pandas as pd\n",
    "import scipy.stats as stats"
   ]
  },
  {
   "cell_type": "code",
   "execution_count": 3,
   "metadata": {
    "collapsed": true
   },
   "outputs": [],
   "source": [
    "df = pd.read_csv('minitab_introduction.csv', encoding='utf-16')"
   ]
  },
  {
   "cell_type": "markdown",
   "metadata": {},
   "source": [
    "The documentation for the above \"command\" is found:\n",
    "1. while typing `pd.read_csv` above, `<Shift>-<Tab>`\n",
    "2. online\n",
    "3. in the code. so in the python shell, including ipython, `help(pd.read_csv)` or in the system shell `pydoc pandas.read_csv`\n",
    "4. the pdf manual for pandas"
   ]
  },
  {
   "cell_type": "code",
   "execution_count": 4,
   "metadata": {
    "collapsed": false
   },
   "outputs": [
    {
     "data": {
      "text/html": [
       "<div>\n",
       "<table border=\"1\" class=\"dataframe\">\n",
       "  <thead>\n",
       "    <tr style=\"text-align: right;\">\n",
       "      <th></th>\n",
       "      <th>Thickness</th>\n",
       "      <th>Type</th>\n",
       "      <th>Calories</th>\n",
       "      <th>Sodium</th>\n",
       "      <th>Num of Ops</th>\n",
       "      <th>Cycle Time</th>\n",
       "      <th>Shift</th>\n",
       "      <th>Part</th>\n",
       "      <th>Trial</th>\n",
       "      <th>Height</th>\n",
       "      <th>Cycle Time_1</th>\n",
       "      <th>Work station Time</th>\n",
       "    </tr>\n",
       "  </thead>\n",
       "  <tbody>\n",
       "    <tr>\n",
       "      <th>0</th>\n",
       "      <td>19.18</td>\n",
       "      <td>Beef</td>\n",
       "      <td>186</td>\n",
       "      <td>495</td>\n",
       "      <td>18</td>\n",
       "      <td>200</td>\n",
       "      <td>A</td>\n",
       "      <td>1</td>\n",
       "      <td>1</td>\n",
       "      <td>5.226</td>\n",
       "      <td>30</td>\n",
       "      <td>96</td>\n",
       "    </tr>\n",
       "    <tr>\n",
       "      <th>1</th>\n",
       "      <td>19.15</td>\n",
       "      <td>Beef</td>\n",
       "      <td>181</td>\n",
       "      <td>477</td>\n",
       "      <td>23</td>\n",
       "      <td>232</td>\n",
       "      <td>B</td>\n",
       "      <td>1</td>\n",
       "      <td>2</td>\n",
       "      <td>5.212</td>\n",
       "      <td>34</td>\n",
       "      <td>101</td>\n",
       "    </tr>\n",
       "    <tr>\n",
       "      <th>2</th>\n",
       "      <td>19.41</td>\n",
       "      <td>Beef</td>\n",
       "      <td>176</td>\n",
       "      <td>425</td>\n",
       "      <td>28</td>\n",
       "      <td>312</td>\n",
       "      <td>A</td>\n",
       "      <td>1</td>\n",
       "      <td>3</td>\n",
       "      <td>5.202</td>\n",
       "      <td>32</td>\n",
       "      <td>102</td>\n",
       "    </tr>\n",
       "    <tr>\n",
       "      <th>3</th>\n",
       "      <td>19.89</td>\n",
       "      <td>Beef</td>\n",
       "      <td>149</td>\n",
       "      <td>322</td>\n",
       "      <td>32</td>\n",
       "      <td>385</td>\n",
       "      <td>B</td>\n",
       "      <td>2</td>\n",
       "      <td>1</td>\n",
       "      <td>5.316</td>\n",
       "      <td>28</td>\n",
       "      <td>101</td>\n",
       "    </tr>\n",
       "    <tr>\n",
       "      <th>4</th>\n",
       "      <td>18.73</td>\n",
       "      <td>Beef</td>\n",
       "      <td>184</td>\n",
       "      <td>482</td>\n",
       "      <td>38</td>\n",
       "      <td>392</td>\n",
       "      <td>A</td>\n",
       "      <td>2</td>\n",
       "      <td>2</td>\n",
       "      <td>5.305</td>\n",
       "      <td>29</td>\n",
       "      <td>107</td>\n",
       "    </tr>\n",
       "    <tr>\n",
       "      <th>5</th>\n",
       "      <td>19.17</td>\n",
       "      <td>Beef</td>\n",
       "      <td>190</td>\n",
       "      <td>587</td>\n",
       "      <td>41</td>\n",
       "      <td>406</td>\n",
       "      <td>B</td>\n",
       "      <td>2</td>\n",
       "      <td>3</td>\n",
       "      <td>5.299</td>\n",
       "      <td>27</td>\n",
       "      <td>94</td>\n",
       "    </tr>\n",
       "    <tr>\n",
       "      <th>6</th>\n",
       "      <td>18.40</td>\n",
       "      <td>Beef</td>\n",
       "      <td>158</td>\n",
       "      <td>370</td>\n",
       "      <td>41</td>\n",
       "      <td>406</td>\n",
       "      <td>A</td>\n",
       "      <td>3</td>\n",
       "      <td>1</td>\n",
       "      <td>5.094</td>\n",
       "      <td>26</td>\n",
       "      <td>95</td>\n",
       "    </tr>\n",
       "    <tr>\n",
       "      <th>7</th>\n",
       "      <td>18.54</td>\n",
       "      <td>Beef</td>\n",
       "      <td>139</td>\n",
       "      <td>322</td>\n",
       "      <td>45</td>\n",
       "      <td>438</td>\n",
       "      <td>B</td>\n",
       "      <td>3</td>\n",
       "      <td>2</td>\n",
       "      <td>5.071</td>\n",
       "      <td>28</td>\n",
       "      <td>99</td>\n",
       "    </tr>\n",
       "    <tr>\n",
       "      <th>8</th>\n",
       "      <td>19.02</td>\n",
       "      <td>Beef</td>\n",
       "      <td>175</td>\n",
       "      <td>479</td>\n",
       "      <td>55</td>\n",
       "      <td>401</td>\n",
       "      <td>A</td>\n",
       "      <td>3</td>\n",
       "      <td>3</td>\n",
       "      <td>5.076</td>\n",
       "      <td>27</td>\n",
       "      <td>98</td>\n",
       "    </tr>\n",
       "    <tr>\n",
       "      <th>9</th>\n",
       "      <td>19.40</td>\n",
       "      <td>Beef</td>\n",
       "      <td>148</td>\n",
       "      <td>375</td>\n",
       "      <td>65</td>\n",
       "      <td>601</td>\n",
       "      <td>B</td>\n",
       "      <td>4</td>\n",
       "      <td>1</td>\n",
       "      <td>5.168</td>\n",
       "      <td>30</td>\n",
       "      <td>101</td>\n",
       "    </tr>\n",
       "    <tr>\n",
       "      <th>10</th>\n",
       "      <td>18.82</td>\n",
       "      <td>Beef</td>\n",
       "      <td>152</td>\n",
       "      <td>330</td>\n",
       "      <td>NaN</td>\n",
       "      <td>NaN</td>\n",
       "      <td>NaN</td>\n",
       "      <td>4</td>\n",
       "      <td>2</td>\n",
       "      <td>5.163</td>\n",
       "      <td>31</td>\n",
       "      <td>105</td>\n",
       "    </tr>\n",
       "    <tr>\n",
       "      <th>11</th>\n",
       "      <td>18.94</td>\n",
       "      <td>Beef</td>\n",
       "      <td>111</td>\n",
       "      <td>300</td>\n",
       "      <td>NaN</td>\n",
       "      <td>NaN</td>\n",
       "      <td>NaN</td>\n",
       "      <td>4</td>\n",
       "      <td>3</td>\n",
       "      <td>5.158</td>\n",
       "      <td>31</td>\n",
       "      <td>103</td>\n",
       "    </tr>\n",
       "    <tr>\n",
       "      <th>12</th>\n",
       "      <td>18.63</td>\n",
       "      <td>Beef</td>\n",
       "      <td>141</td>\n",
       "      <td>386</td>\n",
       "      <td>NaN</td>\n",
       "      <td>NaN</td>\n",
       "      <td>NaN</td>\n",
       "      <td>5</td>\n",
       "      <td>1</td>\n",
       "      <td>5.138</td>\n",
       "      <td>34</td>\n",
       "      <td>100</td>\n",
       "    </tr>\n",
       "    <tr>\n",
       "      <th>13</th>\n",
       "      <td>18.76</td>\n",
       "      <td>Beef</td>\n",
       "      <td>153</td>\n",
       "      <td>401</td>\n",
       "      <td>NaN</td>\n",
       "      <td>NaN</td>\n",
       "      <td>NaN</td>\n",
       "      <td>5</td>\n",
       "      <td>2</td>\n",
       "      <td>5.138</td>\n",
       "      <td>33</td>\n",
       "      <td>98</td>\n",
       "    </tr>\n",
       "    <tr>\n",
       "      <th>14</th>\n",
       "      <td>18.73</td>\n",
       "      <td>Beef</td>\n",
       "      <td>190</td>\n",
       "      <td>645</td>\n",
       "      <td>NaN</td>\n",
       "      <td>NaN</td>\n",
       "      <td>NaN</td>\n",
       "      <td>5</td>\n",
       "      <td>3</td>\n",
       "      <td>5.145</td>\n",
       "      <td>31</td>\n",
       "      <td>97</td>\n",
       "    </tr>\n",
       "    <tr>\n",
       "      <th>15</th>\n",
       "      <td>19.46</td>\n",
       "      <td>Beef</td>\n",
       "      <td>157</td>\n",
       "      <td>440</td>\n",
       "      <td>NaN</td>\n",
       "      <td>NaN</td>\n",
       "      <td>NaN</td>\n",
       "      <td>6</td>\n",
       "      <td>1</td>\n",
       "      <td>5.251</td>\n",
       "      <td>29</td>\n",
       "      <td>98</td>\n",
       "    </tr>\n",
       "    <tr>\n",
       "      <th>16</th>\n",
       "      <td>19.09</td>\n",
       "      <td>Meat</td>\n",
       "      <td>173</td>\n",
       "      <td>458</td>\n",
       "      <td>NaN</td>\n",
       "      <td>NaN</td>\n",
       "      <td>NaN</td>\n",
       "      <td>6</td>\n",
       "      <td>2</td>\n",
       "      <td>5.238</td>\n",
       "      <td>37</td>\n",
       "      <td>96</td>\n",
       "    </tr>\n",
       "    <tr>\n",
       "      <th>17</th>\n",
       "      <td>19.62</td>\n",
       "      <td>Meat</td>\n",
       "      <td>191</td>\n",
       "      <td>506</td>\n",
       "      <td>NaN</td>\n",
       "      <td>NaN</td>\n",
       "      <td>NaN</td>\n",
       "      <td>6</td>\n",
       "      <td>3</td>\n",
       "      <td>5.238</td>\n",
       "      <td>35</td>\n",
       "      <td>102</td>\n",
       "    </tr>\n",
       "    <tr>\n",
       "      <th>18</th>\n",
       "      <td>19.14</td>\n",
       "      <td>Meat</td>\n",
       "      <td>182</td>\n",
       "      <td>473</td>\n",
       "      <td>NaN</td>\n",
       "      <td>NaN</td>\n",
       "      <td>NaN</td>\n",
       "      <td>7</td>\n",
       "      <td>1</td>\n",
       "      <td>5.247</td>\n",
       "      <td>38</td>\n",
       "      <td>101</td>\n",
       "    </tr>\n",
       "    <tr>\n",
       "      <th>19</th>\n",
       "      <td>19.40</td>\n",
       "      <td>Meat</td>\n",
       "      <td>190</td>\n",
       "      <td>545</td>\n",
       "      <td>NaN</td>\n",
       "      <td>NaN</td>\n",
       "      <td>NaN</td>\n",
       "      <td>7</td>\n",
       "      <td>2</td>\n",
       "      <td>5.222</td>\n",
       "      <td>35</td>\n",
       "      <td>100</td>\n",
       "    </tr>\n",
       "    <tr>\n",
       "      <th>20</th>\n",
       "      <td>18.79</td>\n",
       "      <td>Meat</td>\n",
       "      <td>172</td>\n",
       "      <td>496</td>\n",
       "      <td>NaN</td>\n",
       "      <td>NaN</td>\n",
       "      <td>NaN</td>\n",
       "      <td>7</td>\n",
       "      <td>3</td>\n",
       "      <td>5.227</td>\n",
       "      <td>36</td>\n",
       "      <td>100</td>\n",
       "    </tr>\n",
       "    <tr>\n",
       "      <th>21</th>\n",
       "      <td>18.94</td>\n",
       "      <td>Meat</td>\n",
       "      <td>147</td>\n",
       "      <td>360</td>\n",
       "      <td>NaN</td>\n",
       "      <td>NaN</td>\n",
       "      <td>NaN</td>\n",
       "      <td>8</td>\n",
       "      <td>1</td>\n",
       "      <td>5.232</td>\n",
       "      <td>34</td>\n",
       "      <td>93</td>\n",
       "    </tr>\n",
       "    <tr>\n",
       "      <th>22</th>\n",
       "      <td>19.04</td>\n",
       "      <td>Meat</td>\n",
       "      <td>146</td>\n",
       "      <td>387</td>\n",
       "      <td>NaN</td>\n",
       "      <td>NaN</td>\n",
       "      <td>NaN</td>\n",
       "      <td>8</td>\n",
       "      <td>2</td>\n",
       "      <td>5.223</td>\n",
       "      <td>26</td>\n",
       "      <td>94</td>\n",
       "    </tr>\n",
       "    <tr>\n",
       "      <th>23</th>\n",
       "      <td>18.97</td>\n",
       "      <td>Meat</td>\n",
       "      <td>139</td>\n",
       "      <td>386</td>\n",
       "      <td>NaN</td>\n",
       "      <td>NaN</td>\n",
       "      <td>NaN</td>\n",
       "      <td>8</td>\n",
       "      <td>3</td>\n",
       "      <td>5.222</td>\n",
       "      <td>25</td>\n",
       "      <td>95</td>\n",
       "    </tr>\n",
       "    <tr>\n",
       "      <th>24</th>\n",
       "      <td>19.15</td>\n",
       "      <td>Meat</td>\n",
       "      <td>175</td>\n",
       "      <td>507</td>\n",
       "      <td>NaN</td>\n",
       "      <td>NaN</td>\n",
       "      <td>NaN</td>\n",
       "      <td>9</td>\n",
       "      <td>1</td>\n",
       "      <td>5.242</td>\n",
       "      <td>24</td>\n",
       "      <td>95</td>\n",
       "    </tr>\n",
       "    <tr>\n",
       "      <th>25</th>\n",
       "      <td>NaN</td>\n",
       "      <td>Meat</td>\n",
       "      <td>136</td>\n",
       "      <td>393</td>\n",
       "      <td>NaN</td>\n",
       "      <td>NaN</td>\n",
       "      <td>NaN</td>\n",
       "      <td>9</td>\n",
       "      <td>2</td>\n",
       "      <td>5.231</td>\n",
       "      <td>32</td>\n",
       "      <td>101</td>\n",
       "    </tr>\n",
       "    <tr>\n",
       "      <th>26</th>\n",
       "      <td>NaN</td>\n",
       "      <td>Meat</td>\n",
       "      <td>179</td>\n",
       "      <td>405</td>\n",
       "      <td>NaN</td>\n",
       "      <td>NaN</td>\n",
       "      <td>NaN</td>\n",
       "      <td>9</td>\n",
       "      <td>3</td>\n",
       "      <td>5.233</td>\n",
       "      <td>30</td>\n",
       "      <td>103</td>\n",
       "    </tr>\n",
       "    <tr>\n",
       "      <th>27</th>\n",
       "      <td>NaN</td>\n",
       "      <td>Meat</td>\n",
       "      <td>153</td>\n",
       "      <td>372</td>\n",
       "      <td>NaN</td>\n",
       "      <td>NaN</td>\n",
       "      <td>NaN</td>\n",
       "      <td>10</td>\n",
       "      <td>1</td>\n",
       "      <td>5.254</td>\n",
       "      <td>31</td>\n",
       "      <td>103</td>\n",
       "    </tr>\n",
       "    <tr>\n",
       "      <th>28</th>\n",
       "      <td>NaN</td>\n",
       "      <td>Meat</td>\n",
       "      <td>107</td>\n",
       "      <td>144</td>\n",
       "      <td>NaN</td>\n",
       "      <td>NaN</td>\n",
       "      <td>NaN</td>\n",
       "      <td>10</td>\n",
       "      <td>2</td>\n",
       "      <td>5.253</td>\n",
       "      <td>36</td>\n",
       "      <td>102</td>\n",
       "    </tr>\n",
       "    <tr>\n",
       "      <th>29</th>\n",
       "      <td>NaN</td>\n",
       "      <td>Meat</td>\n",
       "      <td>195</td>\n",
       "      <td>511</td>\n",
       "      <td>NaN</td>\n",
       "      <td>NaN</td>\n",
       "      <td>NaN</td>\n",
       "      <td>10</td>\n",
       "      <td>3</td>\n",
       "      <td>5.247</td>\n",
       "      <td>27</td>\n",
       "      <td>106</td>\n",
       "    </tr>\n",
       "    <tr>\n",
       "      <th>30</th>\n",
       "      <td>NaN</td>\n",
       "      <td>Meat</td>\n",
       "      <td>135</td>\n",
       "      <td>405</td>\n",
       "      <td>NaN</td>\n",
       "      <td>NaN</td>\n",
       "      <td>NaN</td>\n",
       "      <td>1</td>\n",
       "      <td>1</td>\n",
       "      <td>5.215</td>\n",
       "      <td>24</td>\n",
       "      <td>105</td>\n",
       "    </tr>\n",
       "    <tr>\n",
       "      <th>31</th>\n",
       "      <td>NaN</td>\n",
       "      <td>Meat</td>\n",
       "      <td>140</td>\n",
       "      <td>428</td>\n",
       "      <td>NaN</td>\n",
       "      <td>NaN</td>\n",
       "      <td>NaN</td>\n",
       "      <td>1</td>\n",
       "      <td>2</td>\n",
       "      <td>5.199</td>\n",
       "      <td>39</td>\n",
       "      <td>105</td>\n",
       "    </tr>\n",
       "    <tr>\n",
       "      <th>32</th>\n",
       "      <td>NaN</td>\n",
       "      <td>Poultry</td>\n",
       "      <td>129</td>\n",
       "      <td>430</td>\n",
       "      <td>NaN</td>\n",
       "      <td>NaN</td>\n",
       "      <td>NaN</td>\n",
       "      <td>1</td>\n",
       "      <td>3</td>\n",
       "      <td>5.200</td>\n",
       "      <td>33</td>\n",
       "      <td>104</td>\n",
       "    </tr>\n",
       "    <tr>\n",
       "      <th>33</th>\n",
       "      <td>NaN</td>\n",
       "      <td>Poultry</td>\n",
       "      <td>132</td>\n",
       "      <td>375</td>\n",
       "      <td>NaN</td>\n",
       "      <td>NaN</td>\n",
       "      <td>NaN</td>\n",
       "      <td>2</td>\n",
       "      <td>1</td>\n",
       "      <td>5.302</td>\n",
       "      <td>34</td>\n",
       "      <td>101</td>\n",
       "    </tr>\n",
       "    <tr>\n",
       "      <th>34</th>\n",
       "      <td>NaN</td>\n",
       "      <td>Poultry</td>\n",
       "      <td>102</td>\n",
       "      <td>396</td>\n",
       "      <td>NaN</td>\n",
       "      <td>NaN</td>\n",
       "      <td>NaN</td>\n",
       "      <td>2</td>\n",
       "      <td>2</td>\n",
       "      <td>5.297</td>\n",
       "      <td>34</td>\n",
       "      <td>104</td>\n",
       "    </tr>\n",
       "    <tr>\n",
       "      <th>35</th>\n",
       "      <td>NaN</td>\n",
       "      <td>Poultry</td>\n",
       "      <td>106</td>\n",
       "      <td>383</td>\n",
       "      <td>NaN</td>\n",
       "      <td>NaN</td>\n",
       "      <td>NaN</td>\n",
       "      <td>2</td>\n",
       "      <td>3</td>\n",
       "      <td>5.304</td>\n",
       "      <td>30</td>\n",
       "      <td>102</td>\n",
       "    </tr>\n",
       "    <tr>\n",
       "      <th>36</th>\n",
       "      <td>NaN</td>\n",
       "      <td>Poultry</td>\n",
       "      <td>94</td>\n",
       "      <td>387</td>\n",
       "      <td>NaN</td>\n",
       "      <td>NaN</td>\n",
       "      <td>NaN</td>\n",
       "      <td>3</td>\n",
       "      <td>1</td>\n",
       "      <td>5.065</td>\n",
       "      <td>29</td>\n",
       "      <td>104</td>\n",
       "    </tr>\n",
       "    <tr>\n",
       "      <th>37</th>\n",
       "      <td>NaN</td>\n",
       "      <td>Poultry</td>\n",
       "      <td>102</td>\n",
       "      <td>542</td>\n",
       "      <td>NaN</td>\n",
       "      <td>NaN</td>\n",
       "      <td>NaN</td>\n",
       "      <td>3</td>\n",
       "      <td>2</td>\n",
       "      <td>5.074</td>\n",
       "      <td>28</td>\n",
       "      <td>99</td>\n",
       "    </tr>\n",
       "    <tr>\n",
       "      <th>38</th>\n",
       "      <td>NaN</td>\n",
       "      <td>Poultry</td>\n",
       "      <td>87</td>\n",
       "      <td>359</td>\n",
       "      <td>NaN</td>\n",
       "      <td>NaN</td>\n",
       "      <td>NaN</td>\n",
       "      <td>3</td>\n",
       "      <td>3</td>\n",
       "      <td>5.064</td>\n",
       "      <td>30</td>\n",
       "      <td>99</td>\n",
       "    </tr>\n",
       "    <tr>\n",
       "      <th>39</th>\n",
       "      <td>NaN</td>\n",
       "      <td>Poultry</td>\n",
       "      <td>99</td>\n",
       "      <td>357</td>\n",
       "      <td>NaN</td>\n",
       "      <td>NaN</td>\n",
       "      <td>NaN</td>\n",
       "      <td>4</td>\n",
       "      <td>1</td>\n",
       "      <td>5.161</td>\n",
       "      <td>33</td>\n",
       "      <td>96</td>\n",
       "    </tr>\n",
       "    <tr>\n",
       "      <th>40</th>\n",
       "      <td>NaN</td>\n",
       "      <td>Poultry</td>\n",
       "      <td>107</td>\n",
       "      <td>528</td>\n",
       "      <td>NaN</td>\n",
       "      <td>NaN</td>\n",
       "      <td>NaN</td>\n",
       "      <td>4</td>\n",
       "      <td>2</td>\n",
       "      <td>5.155</td>\n",
       "      <td>31</td>\n",
       "      <td>97</td>\n",
       "    </tr>\n",
       "    <tr>\n",
       "      <th>41</th>\n",
       "      <td>NaN</td>\n",
       "      <td>Poultry</td>\n",
       "      <td>113</td>\n",
       "      <td>513</td>\n",
       "      <td>NaN</td>\n",
       "      <td>NaN</td>\n",
       "      <td>NaN</td>\n",
       "      <td>4</td>\n",
       "      <td>3</td>\n",
       "      <td>5.152</td>\n",
       "      <td>31</td>\n",
       "      <td>98</td>\n",
       "    </tr>\n",
       "    <tr>\n",
       "      <th>42</th>\n",
       "      <td>NaN</td>\n",
       "      <td>Poultry</td>\n",
       "      <td>135</td>\n",
       "      <td>426</td>\n",
       "      <td>NaN</td>\n",
       "      <td>NaN</td>\n",
       "      <td>NaN</td>\n",
       "      <td>5</td>\n",
       "      <td>1</td>\n",
       "      <td>5.110</td>\n",
       "      <td>32</td>\n",
       "      <td>98</td>\n",
       "    </tr>\n",
       "    <tr>\n",
       "      <th>43</th>\n",
       "      <td>NaN</td>\n",
       "      <td>Poultry</td>\n",
       "      <td>142</td>\n",
       "      <td>513</td>\n",
       "      <td>NaN</td>\n",
       "      <td>NaN</td>\n",
       "      <td>NaN</td>\n",
       "      <td>5</td>\n",
       "      <td>2</td>\n",
       "      <td>5.122</td>\n",
       "      <td>30</td>\n",
       "      <td>97</td>\n",
       "    </tr>\n",
       "    <tr>\n",
       "      <th>44</th>\n",
       "      <td>NaN</td>\n",
       "      <td>Poultry</td>\n",
       "      <td>86</td>\n",
       "      <td>358</td>\n",
       "      <td>NaN</td>\n",
       "      <td>NaN</td>\n",
       "      <td>NaN</td>\n",
       "      <td>5</td>\n",
       "      <td>3</td>\n",
       "      <td>5.108</td>\n",
       "      <td>23</td>\n",
       "      <td>100</td>\n",
       "    </tr>\n",
       "    <tr>\n",
       "      <th>45</th>\n",
       "      <td>NaN</td>\n",
       "      <td>Poultry</td>\n",
       "      <td>143</td>\n",
       "      <td>581</td>\n",
       "      <td>NaN</td>\n",
       "      <td>NaN</td>\n",
       "      <td>NaN</td>\n",
       "      <td>6</td>\n",
       "      <td>1</td>\n",
       "      <td>5.227</td>\n",
       "      <td>25</td>\n",
       "      <td>101</td>\n",
       "    </tr>\n",
       "    <tr>\n",
       "      <th>46</th>\n",
       "      <td>NaN</td>\n",
       "      <td>Poultry</td>\n",
       "      <td>152</td>\n",
       "      <td>588</td>\n",
       "      <td>NaN</td>\n",
       "      <td>NaN</td>\n",
       "      <td>NaN</td>\n",
       "      <td>6</td>\n",
       "      <td>2</td>\n",
       "      <td>5.245</td>\n",
       "      <td>33</td>\n",
       "      <td>100</td>\n",
       "    </tr>\n",
       "    <tr>\n",
       "      <th>47</th>\n",
       "      <td>NaN</td>\n",
       "      <td>Poultry</td>\n",
       "      <td>146</td>\n",
       "      <td>522</td>\n",
       "      <td>NaN</td>\n",
       "      <td>NaN</td>\n",
       "      <td>NaN</td>\n",
       "      <td>6</td>\n",
       "      <td>3</td>\n",
       "      <td>5.227</td>\n",
       "      <td>27</td>\n",
       "      <td>101</td>\n",
       "    </tr>\n",
       "    <tr>\n",
       "      <th>48</th>\n",
       "      <td>NaN</td>\n",
       "      <td>NaN</td>\n",
       "      <td>NaN</td>\n",
       "      <td>NaN</td>\n",
       "      <td>NaN</td>\n",
       "      <td>NaN</td>\n",
       "      <td>NaN</td>\n",
       "      <td>7</td>\n",
       "      <td>1</td>\n",
       "      <td>5.217</td>\n",
       "      <td>29</td>\n",
       "      <td>100</td>\n",
       "    </tr>\n",
       "    <tr>\n",
       "      <th>49</th>\n",
       "      <td>NaN</td>\n",
       "      <td>NaN</td>\n",
       "      <td>NaN</td>\n",
       "      <td>NaN</td>\n",
       "      <td>NaN</td>\n",
       "      <td>NaN</td>\n",
       "      <td>NaN</td>\n",
       "      <td>7</td>\n",
       "      <td>2</td>\n",
       "      <td>5.216</td>\n",
       "      <td>33</td>\n",
       "      <td>99</td>\n",
       "    </tr>\n",
       "    <tr>\n",
       "      <th>50</th>\n",
       "      <td>NaN</td>\n",
       "      <td>NaN</td>\n",
       "      <td>NaN</td>\n",
       "      <td>NaN</td>\n",
       "      <td>NaN</td>\n",
       "      <td>NaN</td>\n",
       "      <td>NaN</td>\n",
       "      <td>7</td>\n",
       "      <td>3</td>\n",
       "      <td>5.210</td>\n",
       "      <td>NaN</td>\n",
       "      <td>NaN</td>\n",
       "    </tr>\n",
       "    <tr>\n",
       "      <th>51</th>\n",
       "      <td>NaN</td>\n",
       "      <td>NaN</td>\n",
       "      <td>NaN</td>\n",
       "      <td>NaN</td>\n",
       "      <td>NaN</td>\n",
       "      <td>NaN</td>\n",
       "      <td>NaN</td>\n",
       "      <td>8</td>\n",
       "      <td>1</td>\n",
       "      <td>5.220</td>\n",
       "      <td>NaN</td>\n",
       "      <td>NaN</td>\n",
       "    </tr>\n",
       "    <tr>\n",
       "      <th>52</th>\n",
       "      <td>NaN</td>\n",
       "      <td>NaN</td>\n",
       "      <td>NaN</td>\n",
       "      <td>NaN</td>\n",
       "      <td>NaN</td>\n",
       "      <td>NaN</td>\n",
       "      <td>NaN</td>\n",
       "      <td>8</td>\n",
       "      <td>2</td>\n",
       "      <td>5.223</td>\n",
       "      <td>NaN</td>\n",
       "      <td>NaN</td>\n",
       "    </tr>\n",
       "    <tr>\n",
       "      <th>53</th>\n",
       "      <td>NaN</td>\n",
       "      <td>NaN</td>\n",
       "      <td>NaN</td>\n",
       "      <td>NaN</td>\n",
       "      <td>NaN</td>\n",
       "      <td>NaN</td>\n",
       "      <td>NaN</td>\n",
       "      <td>8</td>\n",
       "      <td>3</td>\n",
       "      <td>5.214</td>\n",
       "      <td>NaN</td>\n",
       "      <td>NaN</td>\n",
       "    </tr>\n",
       "    <tr>\n",
       "      <th>54</th>\n",
       "      <td>NaN</td>\n",
       "      <td>NaN</td>\n",
       "      <td>NaN</td>\n",
       "      <td>NaN</td>\n",
       "      <td>NaN</td>\n",
       "      <td>NaN</td>\n",
       "      <td>NaN</td>\n",
       "      <td>9</td>\n",
       "      <td>1</td>\n",
       "      <td>5.227</td>\n",
       "      <td>NaN</td>\n",
       "      <td>NaN</td>\n",
       "    </tr>\n",
       "    <tr>\n",
       "      <th>55</th>\n",
       "      <td>NaN</td>\n",
       "      <td>NaN</td>\n",
       "      <td>NaN</td>\n",
       "      <td>NaN</td>\n",
       "      <td>NaN</td>\n",
       "      <td>NaN</td>\n",
       "      <td>NaN</td>\n",
       "      <td>9</td>\n",
       "      <td>2</td>\n",
       "      <td>5.230</td>\n",
       "      <td>NaN</td>\n",
       "      <td>NaN</td>\n",
       "    </tr>\n",
       "    <tr>\n",
       "      <th>56</th>\n",
       "      <td>NaN</td>\n",
       "      <td>NaN</td>\n",
       "      <td>NaN</td>\n",
       "      <td>NaN</td>\n",
       "      <td>NaN</td>\n",
       "      <td>NaN</td>\n",
       "      <td>NaN</td>\n",
       "      <td>9</td>\n",
       "      <td>3</td>\n",
       "      <td>5.229</td>\n",
       "      <td>NaN</td>\n",
       "      <td>NaN</td>\n",
       "    </tr>\n",
       "    <tr>\n",
       "      <th>57</th>\n",
       "      <td>NaN</td>\n",
       "      <td>NaN</td>\n",
       "      <td>NaN</td>\n",
       "      <td>NaN</td>\n",
       "      <td>NaN</td>\n",
       "      <td>NaN</td>\n",
       "      <td>NaN</td>\n",
       "      <td>10</td>\n",
       "      <td>1</td>\n",
       "      <td>5.231</td>\n",
       "      <td>NaN</td>\n",
       "      <td>NaN</td>\n",
       "    </tr>\n",
       "    <tr>\n",
       "      <th>58</th>\n",
       "      <td>NaN</td>\n",
       "      <td>NaN</td>\n",
       "      <td>NaN</td>\n",
       "      <td>NaN</td>\n",
       "      <td>NaN</td>\n",
       "      <td>NaN</td>\n",
       "      <td>NaN</td>\n",
       "      <td>10</td>\n",
       "      <td>2</td>\n",
       "      <td>5.247</td>\n",
       "      <td>NaN</td>\n",
       "      <td>NaN</td>\n",
       "    </tr>\n",
       "    <tr>\n",
       "      <th>59</th>\n",
       "      <td>NaN</td>\n",
       "      <td>NaN</td>\n",
       "      <td>NaN</td>\n",
       "      <td>NaN</td>\n",
       "      <td>NaN</td>\n",
       "      <td>NaN</td>\n",
       "      <td>NaN</td>\n",
       "      <td>10</td>\n",
       "      <td>3</td>\n",
       "      <td>5.237</td>\n",
       "      <td>NaN</td>\n",
       "      <td>NaN</td>\n",
       "    </tr>\n",
       "  </tbody>\n",
       "</table>\n",
       "</div>"
      ],
      "text/plain": [
       "    Thickness     Type  Calories  Sodium  Num of Ops  Cycle Time Shift  Part  \\\n",
       "0       19.18     Beef       186     495          18         200     A     1   \n",
       "1       19.15     Beef       181     477          23         232     B     1   \n",
       "2       19.41     Beef       176     425          28         312     A     1   \n",
       "3       19.89     Beef       149     322          32         385     B     2   \n",
       "4       18.73     Beef       184     482          38         392     A     2   \n",
       "5       19.17     Beef       190     587          41         406     B     2   \n",
       "6       18.40     Beef       158     370          41         406     A     3   \n",
       "7       18.54     Beef       139     322          45         438     B     3   \n",
       "8       19.02     Beef       175     479          55         401     A     3   \n",
       "9       19.40     Beef       148     375          65         601     B     4   \n",
       "10      18.82     Beef       152     330         NaN         NaN   NaN     4   \n",
       "11      18.94     Beef       111     300         NaN         NaN   NaN     4   \n",
       "12      18.63     Beef       141     386         NaN         NaN   NaN     5   \n",
       "13      18.76     Beef       153     401         NaN         NaN   NaN     5   \n",
       "14      18.73     Beef       190     645         NaN         NaN   NaN     5   \n",
       "15      19.46     Beef       157     440         NaN         NaN   NaN     6   \n",
       "16      19.09     Meat       173     458         NaN         NaN   NaN     6   \n",
       "17      19.62     Meat       191     506         NaN         NaN   NaN     6   \n",
       "18      19.14     Meat       182     473         NaN         NaN   NaN     7   \n",
       "19      19.40     Meat       190     545         NaN         NaN   NaN     7   \n",
       "20      18.79     Meat       172     496         NaN         NaN   NaN     7   \n",
       "21      18.94     Meat       147     360         NaN         NaN   NaN     8   \n",
       "22      19.04     Meat       146     387         NaN         NaN   NaN     8   \n",
       "23      18.97     Meat       139     386         NaN         NaN   NaN     8   \n",
       "24      19.15     Meat       175     507         NaN         NaN   NaN     9   \n",
       "25        NaN     Meat       136     393         NaN         NaN   NaN     9   \n",
       "26        NaN     Meat       179     405         NaN         NaN   NaN     9   \n",
       "27        NaN     Meat       153     372         NaN         NaN   NaN    10   \n",
       "28        NaN     Meat       107     144         NaN         NaN   NaN    10   \n",
       "29        NaN     Meat       195     511         NaN         NaN   NaN    10   \n",
       "30        NaN     Meat       135     405         NaN         NaN   NaN     1   \n",
       "31        NaN     Meat       140     428         NaN         NaN   NaN     1   \n",
       "32        NaN  Poultry       129     430         NaN         NaN   NaN     1   \n",
       "33        NaN  Poultry       132     375         NaN         NaN   NaN     2   \n",
       "34        NaN  Poultry       102     396         NaN         NaN   NaN     2   \n",
       "35        NaN  Poultry       106     383         NaN         NaN   NaN     2   \n",
       "36        NaN  Poultry        94     387         NaN         NaN   NaN     3   \n",
       "37        NaN  Poultry       102     542         NaN         NaN   NaN     3   \n",
       "38        NaN  Poultry        87     359         NaN         NaN   NaN     3   \n",
       "39        NaN  Poultry        99     357         NaN         NaN   NaN     4   \n",
       "40        NaN  Poultry       107     528         NaN         NaN   NaN     4   \n",
       "41        NaN  Poultry       113     513         NaN         NaN   NaN     4   \n",
       "42        NaN  Poultry       135     426         NaN         NaN   NaN     5   \n",
       "43        NaN  Poultry       142     513         NaN         NaN   NaN     5   \n",
       "44        NaN  Poultry        86     358         NaN         NaN   NaN     5   \n",
       "45        NaN  Poultry       143     581         NaN         NaN   NaN     6   \n",
       "46        NaN  Poultry       152     588         NaN         NaN   NaN     6   \n",
       "47        NaN  Poultry       146     522         NaN         NaN   NaN     6   \n",
       "48        NaN      NaN       NaN     NaN         NaN         NaN   NaN     7   \n",
       "49        NaN      NaN       NaN     NaN         NaN         NaN   NaN     7   \n",
       "50        NaN      NaN       NaN     NaN         NaN         NaN   NaN     7   \n",
       "51        NaN      NaN       NaN     NaN         NaN         NaN   NaN     8   \n",
       "52        NaN      NaN       NaN     NaN         NaN         NaN   NaN     8   \n",
       "53        NaN      NaN       NaN     NaN         NaN         NaN   NaN     8   \n",
       "54        NaN      NaN       NaN     NaN         NaN         NaN   NaN     9   \n",
       "55        NaN      NaN       NaN     NaN         NaN         NaN   NaN     9   \n",
       "56        NaN      NaN       NaN     NaN         NaN         NaN   NaN     9   \n",
       "57        NaN      NaN       NaN     NaN         NaN         NaN   NaN    10   \n",
       "58        NaN      NaN       NaN     NaN         NaN         NaN   NaN    10   \n",
       "59        NaN      NaN       NaN     NaN         NaN         NaN   NaN    10   \n",
       "\n",
       "    Trial  Height  Cycle Time_1  Work station Time  \n",
       "0       1   5.226            30                 96  \n",
       "1       2   5.212            34                101  \n",
       "2       3   5.202            32                102  \n",
       "3       1   5.316            28                101  \n",
       "4       2   5.305            29                107  \n",
       "5       3   5.299            27                 94  \n",
       "6       1   5.094            26                 95  \n",
       "7       2   5.071            28                 99  \n",
       "8       3   5.076            27                 98  \n",
       "9       1   5.168            30                101  \n",
       "10      2   5.163            31                105  \n",
       "11      3   5.158            31                103  \n",
       "12      1   5.138            34                100  \n",
       "13      2   5.138            33                 98  \n",
       "14      3   5.145            31                 97  \n",
       "15      1   5.251            29                 98  \n",
       "16      2   5.238            37                 96  \n",
       "17      3   5.238            35                102  \n",
       "18      1   5.247            38                101  \n",
       "19      2   5.222            35                100  \n",
       "20      3   5.227            36                100  \n",
       "21      1   5.232            34                 93  \n",
       "22      2   5.223            26                 94  \n",
       "23      3   5.222            25                 95  \n",
       "24      1   5.242            24                 95  \n",
       "25      2   5.231            32                101  \n",
       "26      3   5.233            30                103  \n",
       "27      1   5.254            31                103  \n",
       "28      2   5.253            36                102  \n",
       "29      3   5.247            27                106  \n",
       "30      1   5.215            24                105  \n",
       "31      2   5.199            39                105  \n",
       "32      3   5.200            33                104  \n",
       "33      1   5.302            34                101  \n",
       "34      2   5.297            34                104  \n",
       "35      3   5.304            30                102  \n",
       "36      1   5.065            29                104  \n",
       "37      2   5.074            28                 99  \n",
       "38      3   5.064            30                 99  \n",
       "39      1   5.161            33                 96  \n",
       "40      2   5.155            31                 97  \n",
       "41      3   5.152            31                 98  \n",
       "42      1   5.110            32                 98  \n",
       "43      2   5.122            30                 97  \n",
       "44      3   5.108            23                100  \n",
       "45      1   5.227            25                101  \n",
       "46      2   5.245            33                100  \n",
       "47      3   5.227            27                101  \n",
       "48      1   5.217            29                100  \n",
       "49      2   5.216            33                 99  \n",
       "50      3   5.210           NaN                NaN  \n",
       "51      1   5.220           NaN                NaN  \n",
       "52      2   5.223           NaN                NaN  \n",
       "53      3   5.214           NaN                NaN  \n",
       "54      1   5.227           NaN                NaN  \n",
       "55      2   5.230           NaN                NaN  \n",
       "56      3   5.229           NaN                NaN  \n",
       "57      1   5.231           NaN                NaN  \n",
       "58      2   5.247           NaN                NaN  \n",
       "59      3   5.237           NaN                NaN  "
      ]
     },
     "execution_count": 4,
     "metadata": {},
     "output_type": "execute_result"
    }
   ],
   "source": [
    "df"
   ]
  },
  {
   "cell_type": "markdown",
   "metadata": {},
   "source": [
    "Calculate basic statistics for the Xs and Ys."
   ]
  },
  {
   "cell_type": "code",
   "execution_count": 5,
   "metadata": {
    "collapsed": false
   },
   "outputs": [
    {
     "data": {
      "text/html": [
       "<div>\n",
       "<table border=\"1\" class=\"dataframe\">\n",
       "  <thead>\n",
       "    <tr style=\"text-align: right;\">\n",
       "      <th></th>\n",
       "      <th>Thickness</th>\n",
       "      <th>Calories</th>\n",
       "      <th>Sodium</th>\n",
       "      <th>Num of Ops</th>\n",
       "      <th>Cycle Time</th>\n",
       "      <th>Part</th>\n",
       "      <th>Trial</th>\n",
       "      <th>Height</th>\n",
       "      <th>Cycle Time_1</th>\n",
       "      <th>Work station Time</th>\n",
       "    </tr>\n",
       "  </thead>\n",
       "  <tbody>\n",
       "    <tr>\n",
       "      <th>count</th>\n",
       "      <td>25.00000</td>\n",
       "      <td>48.000000</td>\n",
       "      <td>48.000000</td>\n",
       "      <td>10.000000</td>\n",
       "      <td>10.000000</td>\n",
       "      <td>60.00000</td>\n",
       "      <td>60.000000</td>\n",
       "      <td>60.000000</td>\n",
       "      <td>50.000000</td>\n",
       "      <td>50.000000</td>\n",
       "    </tr>\n",
       "    <tr>\n",
       "      <th>mean</th>\n",
       "      <td>19.05480</td>\n",
       "      <td>146.354167</td>\n",
       "      <td>434.791667</td>\n",
       "      <td>38.600000</td>\n",
       "      <td>377.300000</td>\n",
       "      <td>5.50000</td>\n",
       "      <td>2.000000</td>\n",
       "      <td>5.203317</td>\n",
       "      <td>30.680000</td>\n",
       "      <td>99.920000</td>\n",
       "    </tr>\n",
       "    <tr>\n",
       "      <th>std</th>\n",
       "      <td>0.34962</td>\n",
       "      <td>30.994502</td>\n",
       "      <td>91.323358</td>\n",
       "      <td>14.307729</td>\n",
       "      <td>112.062532</td>\n",
       "      <td>2.89652</td>\n",
       "      <td>0.823387</td>\n",
       "      <td>0.063710</td>\n",
       "      <td>3.754942</td>\n",
       "      <td>3.361487</td>\n",
       "    </tr>\n",
       "    <tr>\n",
       "      <th>min</th>\n",
       "      <td>18.40000</td>\n",
       "      <td>86.000000</td>\n",
       "      <td>144.000000</td>\n",
       "      <td>18.000000</td>\n",
       "      <td>200.000000</td>\n",
       "      <td>1.00000</td>\n",
       "      <td>1.000000</td>\n",
       "      <td>5.064000</td>\n",
       "      <td>23.000000</td>\n",
       "      <td>93.000000</td>\n",
       "    </tr>\n",
       "    <tr>\n",
       "      <th>25%</th>\n",
       "      <td>18.79000</td>\n",
       "      <td>131.250000</td>\n",
       "      <td>375.000000</td>\n",
       "      <td>29.000000</td>\n",
       "      <td>330.250000</td>\n",
       "      <td>3.00000</td>\n",
       "      <td>1.000000</td>\n",
       "      <td>5.160250</td>\n",
       "      <td>28.000000</td>\n",
       "      <td>98.000000</td>\n",
       "    </tr>\n",
       "    <tr>\n",
       "      <th>50%</th>\n",
       "      <td>19.04000</td>\n",
       "      <td>146.500000</td>\n",
       "      <td>425.500000</td>\n",
       "      <td>39.500000</td>\n",
       "      <td>396.500000</td>\n",
       "      <td>5.50000</td>\n",
       "      <td>2.000000</td>\n",
       "      <td>5.222500</td>\n",
       "      <td>31.000000</td>\n",
       "      <td>100.000000</td>\n",
       "    </tr>\n",
       "    <tr>\n",
       "      <th>75%</th>\n",
       "      <td>19.18000</td>\n",
       "      <td>175.000000</td>\n",
       "      <td>506.250000</td>\n",
       "      <td>44.000000</td>\n",
       "      <td>406.000000</td>\n",
       "      <td>8.00000</td>\n",
       "      <td>3.000000</td>\n",
       "      <td>5.238000</td>\n",
       "      <td>33.000000</td>\n",
       "      <td>102.000000</td>\n",
       "    </tr>\n",
       "    <tr>\n",
       "      <th>max</th>\n",
       "      <td>19.89000</td>\n",
       "      <td>195.000000</td>\n",
       "      <td>645.000000</td>\n",
       "      <td>65.000000</td>\n",
       "      <td>601.000000</td>\n",
       "      <td>10.00000</td>\n",
       "      <td>3.000000</td>\n",
       "      <td>5.316000</td>\n",
       "      <td>39.000000</td>\n",
       "      <td>107.000000</td>\n",
       "    </tr>\n",
       "  </tbody>\n",
       "</table>\n",
       "</div>"
      ],
      "text/plain": [
       "       Thickness    Calories      Sodium  Num of Ops  Cycle Time      Part  \\\n",
       "count   25.00000   48.000000   48.000000   10.000000   10.000000  60.00000   \n",
       "mean    19.05480  146.354167  434.791667   38.600000  377.300000   5.50000   \n",
       "std      0.34962   30.994502   91.323358   14.307729  112.062532   2.89652   \n",
       "min     18.40000   86.000000  144.000000   18.000000  200.000000   1.00000   \n",
       "25%     18.79000  131.250000  375.000000   29.000000  330.250000   3.00000   \n",
       "50%     19.04000  146.500000  425.500000   39.500000  396.500000   5.50000   \n",
       "75%     19.18000  175.000000  506.250000   44.000000  406.000000   8.00000   \n",
       "max     19.89000  195.000000  645.000000   65.000000  601.000000  10.00000   \n",
       "\n",
       "           Trial     Height  Cycle Time_1  Work station Time  \n",
       "count  60.000000  60.000000     50.000000          50.000000  \n",
       "mean    2.000000   5.203317     30.680000          99.920000  \n",
       "std     0.823387   0.063710      3.754942           3.361487  \n",
       "min     1.000000   5.064000     23.000000          93.000000  \n",
       "25%     1.000000   5.160250     28.000000          98.000000  \n",
       "50%     2.000000   5.222500     31.000000         100.000000  \n",
       "75%     3.000000   5.238000     33.000000         102.000000  \n",
       "max     3.000000   5.316000     39.000000         107.000000  "
      ]
     },
     "execution_count": 5,
     "metadata": {},
     "output_type": "execute_result"
    }
   ],
   "source": [
    "df.describe()"
   ]
  },
  {
   "cell_type": "markdown",
   "metadata": {},
   "source": [
    "The documentation for the above command is in:\n",
    "1. while typing `df.describe` above, `<Shift>-<Tab>`\n",
    "2. online\n",
    "3. in the code. so in the python shell, including ipython, `help(df.describe)` or `pd.DataFrame.describe` or in the system shell `pydoc pandas.DataFrame.describe`\n",
    "4. the pdf manual for pandas"
   ]
  },
  {
   "cell_type": "code",
   "execution_count": 6,
   "metadata": {
    "collapsed": false,
    "scrolled": true
   },
   "outputs": [
    {
     "data": {
      "text/plain": [
       "Thickness             0.069924\n",
       "Calories              4.473671\n",
       "Sodium               13.181391\n",
       "Num of Ops            4.524501\n",
       "Cycle Time           35.437284\n",
       "Part                  0.373939\n",
       "Trial                 0.106299\n",
       "Height                0.008225\n",
       "Cycle Time_1          0.531029\n",
       "Work station Time     0.475386\n",
       "dtype: float64"
      ]
     },
     "execution_count": 6,
     "metadata": {},
     "output_type": "execute_result"
    }
   ],
   "source": [
    "df.sem()"
   ]
  },
  {
   "cell_type": "code",
   "execution_count": 7,
   "metadata": {
    "collapsed": false
   },
   "outputs": [
    {
     "data": {
      "text/plain": [
       "0     19.18\n",
       "1     19.15\n",
       "2     19.41\n",
       "3     19.89\n",
       "4     18.73\n",
       "5     19.17\n",
       "6     18.40\n",
       "7     18.54\n",
       "8     19.02\n",
       "9     19.40\n",
       "10    18.82\n",
       "11    18.94\n",
       "12    18.63\n",
       "13    18.76\n",
       "14    18.73\n",
       "15    19.46\n",
       "16    19.09\n",
       "17    19.62\n",
       "18    19.14\n",
       "19    19.40\n",
       "20    18.79\n",
       "21    18.94\n",
       "22    19.04\n",
       "23    18.97\n",
       "24    19.15\n",
       "25      NaN\n",
       "26      NaN\n",
       "27      NaN\n",
       "28      NaN\n",
       "29      NaN\n",
       "30      NaN\n",
       "31      NaN\n",
       "32      NaN\n",
       "33      NaN\n",
       "34      NaN\n",
       "35      NaN\n",
       "36      NaN\n",
       "37      NaN\n",
       "38      NaN\n",
       "39      NaN\n",
       "40      NaN\n",
       "41      NaN\n",
       "42      NaN\n",
       "43      NaN\n",
       "44      NaN\n",
       "45      NaN\n",
       "46      NaN\n",
       "47      NaN\n",
       "48      NaN\n",
       "49      NaN\n",
       "50      NaN\n",
       "51      NaN\n",
       "52      NaN\n",
       "53      NaN\n",
       "54      NaN\n",
       "55      NaN\n",
       "56      NaN\n",
       "57      NaN\n",
       "58      NaN\n",
       "59      NaN\n",
       "Name: Thickness, dtype: float64"
      ]
     },
     "execution_count": 7,
     "metadata": {},
     "output_type": "execute_result"
    }
   ],
   "source": [
    "df['Thickness']"
   ]
  },
  {
   "cell_type": "code",
   "execution_count": 8,
   "metadata": {
    "collapsed": false
   },
   "outputs": [
    {
     "data": {
      "text/plain": [
       "0      True\n",
       "1      True\n",
       "2      True\n",
       "3      True\n",
       "4      True\n",
       "5      True\n",
       "6      True\n",
       "7      True\n",
       "8      True\n",
       "9      True\n",
       "10     True\n",
       "11     True\n",
       "12     True\n",
       "13     True\n",
       "14     True\n",
       "15     True\n",
       "16     True\n",
       "17     True\n",
       "18     True\n",
       "19     True\n",
       "20     True\n",
       "21     True\n",
       "22     True\n",
       "23     True\n",
       "24     True\n",
       "25    False\n",
       "26    False\n",
       "27    False\n",
       "28    False\n",
       "29    False\n",
       "30    False\n",
       "31    False\n",
       "32    False\n",
       "33    False\n",
       "34    False\n",
       "35    False\n",
       "36    False\n",
       "37    False\n",
       "38    False\n",
       "39    False\n",
       "40    False\n",
       "41    False\n",
       "42    False\n",
       "43    False\n",
       "44    False\n",
       "45    False\n",
       "46    False\n",
       "47    False\n",
       "48    False\n",
       "49    False\n",
       "50    False\n",
       "51    False\n",
       "52    False\n",
       "53    False\n",
       "54    False\n",
       "55    False\n",
       "56    False\n",
       "57    False\n",
       "58    False\n",
       "59    False\n",
       "Name: Thickness, dtype: bool"
      ]
     },
     "execution_count": 8,
     "metadata": {},
     "output_type": "execute_result"
    }
   ],
   "source": [
    "df['Thickness'].notnull()"
   ]
  },
  {
   "cell_type": "code",
   "execution_count": 9,
   "metadata": {
    "collapsed": false
   },
   "outputs": [
    {
     "data": {
      "text/plain": [
       "0     19.18\n",
       "1     19.15\n",
       "2     19.41\n",
       "3     19.89\n",
       "4     18.73\n",
       "5     19.17\n",
       "6     18.40\n",
       "7     18.54\n",
       "8     19.02\n",
       "9     19.40\n",
       "10    18.82\n",
       "11    18.94\n",
       "12    18.63\n",
       "13    18.76\n",
       "14    18.73\n",
       "15    19.46\n",
       "16    19.09\n",
       "17    19.62\n",
       "18    19.14\n",
       "19    19.40\n",
       "20    18.79\n",
       "21    18.94\n",
       "22    19.04\n",
       "23    18.97\n",
       "24    19.15\n",
       "Name: Thickness, dtype: float64"
      ]
     },
     "execution_count": 9,
     "metadata": {},
     "output_type": "execute_result"
    }
   ],
   "source": [
    "thickness = df['Thickness'][df['Thickness'].notnull()]\n",
    "thickness"
   ]
  },
  {
   "cell_type": "code",
   "execution_count": 10,
   "metadata": {
    "collapsed": false
   },
   "outputs": [
    {
     "data": {
      "text/plain": [
       "(18.369556862146727, 19.740043137853274)"
      ]
     },
     "execution_count": 10,
     "metadata": {},
     "output_type": "execute_result"
    }
   ],
   "source": [
    "stats.norm.interval(0.95, loc=thickness.mean(), scale=thickness.std())"
   ]
  },
  {
   "cell_type": "code",
   "execution_count": 11,
   "metadata": {
    "collapsed": false
   },
   "outputs": [
    {
     "data": {
      "text/plain": [
       "(18.883489215536681, 19.226110784463319)"
      ]
     },
     "execution_count": 11,
     "metadata": {},
     "output_type": "execute_result"
    }
   ],
   "source": [
    "from numpy import sqrt\n",
    "stats.norm.interval(0.95, loc=thickness.mean(), scale=thickness.std() / (sqrt(len(thickness)) - 1))"
   ]
  },
  {
   "cell_type": "code",
   "execution_count": 12,
   "metadata": {
    "collapsed": false
   },
   "outputs": [],
   "source": [
    "#stats.norm.interval(0.95, loc=thickness.median(), scale=TODO)"
   ]
  },
  {
   "cell_type": "code",
   "execution_count": 13,
   "metadata": {
    "collapsed": false
   },
   "outputs": [
    {
     "name": "stderr",
     "output_type": "stream",
     "text": [
      "/usr/lib/python3.5/site-packages/ipykernel/__main__.py:2: FutureWarning: \n",
      "The default value for 'return_type' will change to 'axes' in a future release.\n",
      " To use the future behavior now, set return_type='axes'.\n",
      " To keep the previous behavior and silence this warning, set return_type='dict'.\n",
      "  from ipykernel import kernelapp as app\n"
     ]
    },
    {
     "data": {
      "text/plain": [
       "{'boxes': [<matplotlib.lines.Line2D at 0x7f7ec758e668>],\n",
       " 'caps': [<matplotlib.lines.Line2D at 0x7f7ec759b9e8>,\n",
       "  <matplotlib.lines.Line2D at 0x7f7ec75a2940>],\n",
       " 'fliers': [<matplotlib.lines.Line2D at 0x7f7ec75279b0>],\n",
       " 'means': [],\n",
       " 'medians': [<matplotlib.lines.Line2D at 0x7f7ec75a2a58>],\n",
       " 'whiskers': [<matplotlib.lines.Line2D at 0x7f7ec758ef98>,\n",
       "  <matplotlib.lines.Line2D at 0x7f7ec759b8d0>]}"
      ]
     },
     "execution_count": 13,
     "metadata": {},
     "output_type": "execute_result"
    },
    {
     "data": {
      "image/png": "[encoded data removed]",
      "text/plain": [
       "<matplotlib.figure.Figure at 0x7f7ede680550>"
      ]
     },
     "metadata": {},
     "output_type": "display_data"
    }
   ],
   "source": [
    "%matplotlib inline\n",
    "thickness.to_frame().boxplot()"
   ]
  },
  {
   "cell_type": "code",
   "execution_count": 14,
   "metadata": {
    "collapsed": false
   },
   "outputs": [
    {
     "data": {
      "text/plain": [
       "<matplotlib.axes._subplots.AxesSubplot at 0x7f7ec75d3f60>"
      ]
     },
     "execution_count": 14,
     "metadata": {},
     "output_type": "execute_result"
    },
    {
     "data": {
      "image/png": "[encoded data removed]",
      "text/plain": [
       "<matplotlib.figure.Figure at 0x7f7eec3bfe10>"
      ]
     },
     "metadata": {},
     "output_type": "display_data"
    }
   ],
   "source": [
    "thickness.hist()"
   ]
  },
  {
   "cell_type": "code",
   "execution_count": 15,
   "metadata": {
    "collapsed": false
   },
   "outputs": [
    {
     "name": "stderr",
     "output_type": "stream",
     "text": [
      "/usr/lib/python3.5/site-packages/matplotlib/__init__.py:872: UserWarning: axes.color_cycle is deprecated and replaced with axes.prop_cycle; please use the latter.\n",
      "  warnings.warn(self.msg_depr % (key, alt_key))\n",
      "/usr/lib/python3.5/site-packages/matplotlib/__init__.py:892: UserWarning: axes.color_cycle is deprecated and replaced with axes.prop_cycle; please use the latter.\n",
      "  warnings.warn(self.msg_depr % (key, alt_key))\n"
     ]
    },
    {
     "ename": "AttributeError",
     "evalue": "max must be larger than min in range parameter.",
     "output_type": "error",
     "traceback": [
      "\u001b[1;31m---------------------------------------------------------------------------\u001b[0m",
      "\u001b[1;31mAttributeError\u001b[0m                            Traceback (most recent call last)",
      "\u001b[1;32m<ipython-input-15-67f962bf7fbd>\u001b[0m in \u001b[0;36m<module>\u001b[1;34m()\u001b[0m\n\u001b[0;32m      1\u001b[0m \u001b[1;32mimport\u001b[0m \u001b[0mseaborn\u001b[0m \u001b[1;32mas\u001b[0m \u001b[0msns\u001b[0m\u001b[1;33m\u001b[0m\u001b[0m\n\u001b[1;32m----> 2\u001b[1;33m \u001b[0msns\u001b[0m\u001b[1;33m.\u001b[0m\u001b[0mpairplot\u001b[0m\u001b[1;33m(\u001b[0m\u001b[0mdf\u001b[0m\u001b[1;33m)\u001b[0m\u001b[1;33m\u001b[0m\u001b[0m\n\u001b[0m",
      "\u001b[1;32m/home/gilles/.local/lib/python3.5/site-packages/seaborn/linearmodels.py\u001b[0m in \u001b[0;36mpairplot\u001b[1;34m(data, hue, hue_order, palette, vars, x_vars, y_vars, kind, diag_kind, markers, size, aspect, dropna, plot_kws, diag_kws, grid_kws)\u001b[0m\n\u001b[0;32m   1600\u001b[0m     \u001b[1;32mif\u001b[0m \u001b[0mgrid\u001b[0m\u001b[1;33m.\u001b[0m\u001b[0msquare_grid\u001b[0m\u001b[1;33m:\u001b[0m\u001b[1;33m\u001b[0m\u001b[0m\n\u001b[0;32m   1601\u001b[0m         \u001b[1;32mif\u001b[0m \u001b[0mdiag_kind\u001b[0m \u001b[1;33m==\u001b[0m \u001b[1;34m\"hist\"\u001b[0m\u001b[1;33m:\u001b[0m\u001b[1;33m\u001b[0m\u001b[0m\n\u001b[1;32m-> 1602\u001b[1;33m             \u001b[0mgrid\u001b[0m\u001b[1;33m.\u001b[0m\u001b[0mmap_diag\u001b[0m\u001b[1;33m(\u001b[0m\u001b[0mplt\u001b[0m\u001b[1;33m.\u001b[0m\u001b[0mhist\u001b[0m\u001b[1;33m,\u001b[0m \u001b[1;33m**\u001b[0m\u001b[0mdiag_kws\u001b[0m\u001b[1;33m)\u001b[0m\u001b[1;33m\u001b[0m\u001b[0m\n\u001b[0m\u001b[0;32m   1603\u001b[0m         \u001b[1;32melif\u001b[0m \u001b[0mdiag_kind\u001b[0m \u001b[1;33m==\u001b[0m \u001b[1;34m\"kde\"\u001b[0m\u001b[1;33m:\u001b[0m\u001b[1;33m\u001b[0m\u001b[0m\n\u001b[0;32m   1604\u001b[0m             \u001b[0mdiag_kws\u001b[0m\u001b[1;33m[\u001b[0m\u001b[1;34m\"legend\"\u001b[0m\u001b[1;33m]\u001b[0m \u001b[1;33m=\u001b[0m \u001b[1;32mFalse\u001b[0m\u001b[1;33m\u001b[0m\u001b[0m\n",
      "\u001b[1;32m/home/gilles/.local/lib/python3.5/site-packages/seaborn/axisgrid.py\u001b[0m in \u001b[0;36mmap_diag\u001b[1;34m(self, func, **kwargs)\u001b[0m\n\u001b[0;32m   1324\u001b[0m                         \u001b[0mvals\u001b[0m\u001b[1;33m.\u001b[0m\u001b[0mappend\u001b[0m\u001b[1;33m(\u001b[0m\u001b[0mnp\u001b[0m\u001b[1;33m.\u001b[0m\u001b[0marray\u001b[0m\u001b[1;33m(\u001b[0m\u001b[1;33m[\u001b[0m\u001b[1;33m]\u001b[0m\u001b[1;33m)\u001b[0m\u001b[1;33m)\u001b[0m\u001b[1;33m\u001b[0m\u001b[0m\n\u001b[0;32m   1325\u001b[0m                 func(vals, color=self.palette, histtype=\"barstacked\",\n\u001b[1;32m-> 1326\u001b[1;33m                      **kwargs)\n\u001b[0m\u001b[0;32m   1327\u001b[0m             \u001b[1;32melse\u001b[0m\u001b[1;33m:\u001b[0m\u001b[1;33m\u001b[0m\u001b[0m\n\u001b[0;32m   1328\u001b[0m                 \u001b[1;32mfor\u001b[0m \u001b[0mk\u001b[0m\u001b[1;33m,\u001b[0m \u001b[0mlabel_k\u001b[0m \u001b[1;32min\u001b[0m \u001b[0menumerate\u001b[0m\u001b[1;33m(\u001b[0m\u001b[0mself\u001b[0m\u001b[1;33m.\u001b[0m\u001b[0mhue_names\u001b[0m\u001b[1;33m)\u001b[0m\u001b[1;33m:\u001b[0m\u001b[1;33m\u001b[0m\u001b[0m\n",
      "\u001b[1;32m/usr/lib/python3.5/site-packages/matplotlib/pyplot.py\u001b[0m in \u001b[0;36mhist\u001b[1;34m(x, bins, range, normed, weights, cumulative, bottom, histtype, align, orientation, rwidth, log, color, label, stacked, hold, data, **kwargs)\u001b[0m\n\u001b[0;32m   2956\u001b[0m                       \u001b[0mhisttype\u001b[0m\u001b[1;33m=\u001b[0m\u001b[0mhisttype\u001b[0m\u001b[1;33m,\u001b[0m \u001b[0malign\u001b[0m\u001b[1;33m=\u001b[0m\u001b[0malign\u001b[0m\u001b[1;33m,\u001b[0m \u001b[0morientation\u001b[0m\u001b[1;33m=\u001b[0m\u001b[0morientation\u001b[0m\u001b[1;33m,\u001b[0m\u001b[1;33m\u001b[0m\u001b[0m\n\u001b[0;32m   2957\u001b[0m                       \u001b[0mrwidth\u001b[0m\u001b[1;33m=\u001b[0m\u001b[0mrwidth\u001b[0m\u001b[1;33m,\u001b[0m \u001b[0mlog\u001b[0m\u001b[1;33m=\u001b[0m\u001b[0mlog\u001b[0m\u001b[1;33m,\u001b[0m \u001b[0mcolor\u001b[0m\u001b[1;33m=\u001b[0m\u001b[0mcolor\u001b[0m\u001b[1;33m,\u001b[0m \u001b[0mlabel\u001b[0m\u001b[1;33m=\u001b[0m\u001b[0mlabel\u001b[0m\u001b[1;33m,\u001b[0m\u001b[1;33m\u001b[0m\u001b[0m\n\u001b[1;32m-> 2958\u001b[1;33m                       stacked=stacked, data=data, **kwargs)\n\u001b[0m\u001b[0;32m   2959\u001b[0m     \u001b[1;32mfinally\u001b[0m\u001b[1;33m:\u001b[0m\u001b[1;33m\u001b[0m\u001b[0m\n\u001b[0;32m   2960\u001b[0m         \u001b[0max\u001b[0m\u001b[1;33m.\u001b[0m\u001b[0mhold\u001b[0m\u001b[1;33m(\u001b[0m\u001b[0mwashold\u001b[0m\u001b[1;33m)\u001b[0m\u001b[1;33m\u001b[0m\u001b[0m\n",
      "\u001b[1;32m/usr/lib/python3.5/site-packages/matplotlib/__init__.py\u001b[0m in \u001b[0;36minner\u001b[1;34m(ax, *args, **kwargs)\u001b[0m\n\u001b[0;32m   1810\u001b[0m                     warnings.warn(msg % (label_namer, func.__name__),\n\u001b[0;32m   1811\u001b[0m                                   RuntimeWarning, stacklevel=2)\n\u001b[1;32m-> 1812\u001b[1;33m             \u001b[1;32mreturn\u001b[0m \u001b[0mfunc\u001b[0m\u001b[1;33m(\u001b[0m\u001b[0max\u001b[0m\u001b[1;33m,\u001b[0m \u001b[1;33m*\u001b[0m\u001b[0margs\u001b[0m\u001b[1;33m,\u001b[0m \u001b[1;33m**\u001b[0m\u001b[0mkwargs\u001b[0m\u001b[1;33m)\u001b[0m\u001b[1;33m\u001b[0m\u001b[0m\n\u001b[0m\u001b[0;32m   1813\u001b[0m         \u001b[0mpre_doc\u001b[0m \u001b[1;33m=\u001b[0m \u001b[0minner\u001b[0m\u001b[1;33m.\u001b[0m\u001b[0m__doc__\u001b[0m\u001b[1;33m\u001b[0m\u001b[0m\n\u001b[0;32m   1814\u001b[0m         \u001b[1;32mif\u001b[0m \u001b[0mpre_doc\u001b[0m \u001b[1;32mis\u001b[0m \u001b[1;32mNone\u001b[0m\u001b[1;33m:\u001b[0m\u001b[1;33m\u001b[0m\u001b[0m\n",
      "\u001b[1;32m/usr/lib/python3.5/site-packages/matplotlib/axes/_axes.py\u001b[0m in \u001b[0;36mhist\u001b[1;34m(self, x, bins, range, normed, weights, cumulative, bottom, histtype, align, orientation, rwidth, log, color, label, stacked, **kwargs)\u001b[0m\n\u001b[0;32m   6008\u001b[0m             \u001b[1;31m# this will automatically overwrite bins,\u001b[0m\u001b[1;33m\u001b[0m\u001b[1;33m\u001b[0m\u001b[0m\n\u001b[0;32m   6009\u001b[0m             \u001b[1;31m# so that each histogram uses the same bins\u001b[0m\u001b[1;33m\u001b[0m\u001b[1;33m\u001b[0m\u001b[0m\n\u001b[1;32m-> 6010\u001b[1;33m             \u001b[0mm\u001b[0m\u001b[1;33m,\u001b[0m \u001b[0mbins\u001b[0m \u001b[1;33m=\u001b[0m \u001b[0mnp\u001b[0m\u001b[1;33m.\u001b[0m\u001b[0mhistogram\u001b[0m\u001b[1;33m(\u001b[0m\u001b[0mx\u001b[0m\u001b[1;33m[\u001b[0m\u001b[0mi\u001b[0m\u001b[1;33m]\u001b[0m\u001b[1;33m,\u001b[0m \u001b[0mbins\u001b[0m\u001b[1;33m,\u001b[0m \u001b[0mweights\u001b[0m\u001b[1;33m=\u001b[0m\u001b[0mw\u001b[0m\u001b[1;33m[\u001b[0m\u001b[0mi\u001b[0m\u001b[1;33m]\u001b[0m\u001b[1;33m,\u001b[0m \u001b[1;33m**\u001b[0m\u001b[0mhist_kwargs\u001b[0m\u001b[1;33m)\u001b[0m\u001b[1;33m\u001b[0m\u001b[0m\n\u001b[0m\u001b[0;32m   6011\u001b[0m             \u001b[0mm\u001b[0m \u001b[1;33m=\u001b[0m \u001b[0mm\u001b[0m\u001b[1;33m.\u001b[0m\u001b[0mastype\u001b[0m\u001b[1;33m(\u001b[0m\u001b[0mfloat\u001b[0m\u001b[1;33m)\u001b[0m  \u001b[1;31m# causes problems later if it's an int\u001b[0m\u001b[1;33m\u001b[0m\u001b[0m\n\u001b[0;32m   6012\u001b[0m             \u001b[1;32mif\u001b[0m \u001b[0mmlast\u001b[0m \u001b[1;32mis\u001b[0m \u001b[1;32mNone\u001b[0m\u001b[1;33m:\u001b[0m\u001b[1;33m\u001b[0m\u001b[0m\n",
      "\u001b[1;32m/usr/lib/python3.5/site-packages/numpy/lib/function_base.py\u001b[0m in \u001b[0;36mhistogram\u001b[1;34m(a, bins, range, normed, weights, density)\u001b[0m\n\u001b[0;32m    174\u001b[0m         \u001b[1;32mif\u001b[0m \u001b[1;33m(\u001b[0m\u001b[0mmn\u001b[0m \u001b[1;33m>\u001b[0m \u001b[0mmx\u001b[0m\u001b[1;33m)\u001b[0m\u001b[1;33m:\u001b[0m\u001b[1;33m\u001b[0m\u001b[0m\n\u001b[0;32m    175\u001b[0m             raise AttributeError(\n\u001b[1;32m--> 176\u001b[1;33m                 'max must be larger than min in range parameter.')\n\u001b[0m\u001b[0;32m    177\u001b[0m \u001b[1;33m\u001b[0m\u001b[0m\n\u001b[0;32m    178\u001b[0m     \u001b[1;31m# Histogram is an integer or a float array depending on the weights.\u001b[0m\u001b[1;33m\u001b[0m\u001b[1;33m\u001b[0m\u001b[0m\n",
      "\u001b[1;31mAttributeError\u001b[0m: max must be larger than min in range parameter."
     ]
    },
    {
     "data": {
      "image/png": "[encoded data removed]",
      "text/plain": [
       "<matplotlib.figure.Figure at 0x7f7ec635e9b0>"
      ]
     },
     "metadata": {},
     "output_type": "display_data"
    }
   ],
   "source": [
    "import seaborn as sns\n",
    "sns.pairplot(df)"
   ]
  },
  {
   "cell_type": "code",
   "execution_count": null,
   "metadata": {
    "collapsed": false
   },
   "outputs": [],
   "source": [
    "sns.pairplot(df)"
   ]
  },
  {
   "cell_type": "code",
   "execution_count": null,
   "metadata": {
    "collapsed": true
   },
   "outputs": [],
   "source": [
    "from pandas.tools import plotting\n",
    "from matplotlib import pyplot as plt"
   ]
  },
  {
   "cell_type": "code",
   "execution_count": null,
   "metadata": {
    "collapsed": false
   },
   "outputs": [],
   "source": [
    "stats.probplot(thickness, dist=stats.norm, plot=plt)"
   ]
  },
  {
   "cell_type": "code",
   "execution_count": null,
   "metadata": {
    "collapsed": false
   },
   "outputs": [],
   "source": [
    "from pandas.stats.api import ols\n",
    "regression = ols(y=df['Cycle Time'], x=df['Num of Ops'])"
   ]
  },
  {
   "cell_type": "code",
   "execution_count": null,
   "metadata": {
    "collapsed": false
   },
   "outputs": [],
   "source": [
    "regression"
   ]
  },
  {
   "cell_type": "code",
   "execution_count": null,
   "metadata": {
    "collapsed": false
   },
   "outputs": [],
   "source": [
    "regression.fr"
   ]
  },
  {
   "cell_type": "markdown",
   "metadata": {
    "collapsed": true
   },
   "source": [
    "# Analyze phase #\n",
    "\n",
    "## Intent ##"
   ]
  },
  {
   "cell_type": "markdown",
   "metadata": {},
   "source": [
    "### Identify potential Xs and Ys ###"
   ]
  },
  {
   "cell_type": "markdown",
   "metadata": {},
   "source": [
    "##### Affinity diagram #####\n",
    "\n",
    "Deliverable. Insert a diagram as required. Edit. Need more words to describe this deliverable."
   ]
  },
  {
   "cell_type": "markdown",
   "metadata": {},
   "source": [
    "##### Cause-and-effect diagram #####\n",
    "\n",
    "Deliverable. Insert a diagram as required. Edit. Need more words to describe this deliverable."
   ]
  },
  {
   "cell_type": "markdown",
   "metadata": {},
   "source": [
    "##### Matrix plot #####\n",
    "\n",
    "Deliverable. Insert code to create this diagram. Edit. Need more words to describe this deliverable."
   ]
  },
  {
   "cell_type": "markdown",
   "metadata": {},
   "source": [
    "### Confirm critical Xs and Ys ###"
   ]
  },
  {
   "cell_type": "markdown",
   "metadata": {},
   "source": [
    "#### Measurements + Normal + Location ####"
   ]
  },
  {
   "cell_type": "markdown",
   "metadata": {},
   "source": [
    "##### Target v. average (ene-sample t test) #####\n",
    "\n",
    "Deliverable. [one-sample t notebook](one_sample_t/notebook_one_sample_t.ipynb)"
   ]
  },
  {
   "cell_type": "markdown",
   "metadata": {},
   "source": [
    "##### Two averages #####\n",
    "\n",
    "Deliverable. Insert code to calculate two-sample t. Edit. Need more words to describe this deliverable."
   ]
  },
  {
   "cell_type": "code",
   "execution_count": 17,
   "metadata": {
    "collapsed": false
   },
   "outputs": [
    {
     "data": {
      "text/plain": [
       "Ttest_indResult(statistic=0.76412469068790123, pvalue=0.4525613980868155)"
      ]
     },
     "execution_count": 17,
     "metadata": {},
     "output_type": "execute_result"
    }
   ],
   "source": [
    "meat = df['Thickness'][df['Type'] == 'Meat']\n",
    "beef = df['Thickness'][df['Type'] == 'Beef']\n",
    "\n",
    "meat = meat[meat.notnull()]\n",
    "beef = beef[beef.notnull()]\n",
    "\n",
    "result = stats.ttest_ind(meat, beef)\n",
    "result"
   ]
  },
  {
   "cell_type": "code",
   "execution_count": 18,
   "metadata": {
    "collapsed": false
   },
   "outputs": [
    {
     "name": "stdout",
     "output_type": "stream",
     "text": [
      "Not signficant\n"
     ]
    }
   ],
   "source": [
    "if result.pvalue < 0.05:\n",
    "    print('Statistically significant')\n",
    "else:\n",
    "    print('Not signficant')"
   ]
  },
  {
   "cell_type": "markdown",
   "metadata": {},
   "source": [
    "##### Averages of differences, paired data #####\n",
    "\n",
    "Deliverable. Insert code to calculate paired t. Edit. Need more words to describe this deliverable."
   ]
  },
  {
   "cell_type": "markdown",
   "metadata": {},
   "source": [
    "##### More than two averages #####\n",
    "\n",
    "Deliverable. Insert code to calculate ANOVA. Edit. Need more words to describe this deliverable."
   ]
  },
  {
   "cell_type": "markdown",
   "metadata": {},
   "source": [
    "#### Measurements + Normal + Dispersion ####"
   ]
  },
  {
   "cell_type": "markdown",
   "metadata": {},
   "source": [
    "##### One variance #####\n",
    "\n",
    "Deliverable. Insert code to calculate chi-squared. Edit. Need more words to describe this deliverable."
   ]
  },
  {
   "cell_type": "markdown",
   "metadata": {},
   "source": [
    "##### Two variances #####\n",
    "\n",
    "Deliverable. Insert code to calculate F. Edit. Need more words to describe this deliverable."
   ]
  },
  {
   "cell_type": "markdown",
   "metadata": {},
   "source": [
    "##### More than two variances #####\n",
    "\n",
    "Deliverable. Insert code to calculate Bartlett. Edit. Need more words to describe this deliverable."
   ]
  },
  {
   "cell_type": "markdown",
   "metadata": {},
   "source": [
    "#### Measurements + Non-normal + Location ####"
   ]
  },
  {
   "cell_type": "markdown",
   "metadata": {},
   "source": [
    "##### One median #####\n",
    "\n",
    "Deliverable. Insert code to calculate. Edit. Need more words to describe this deliverable."
   ]
  },
  {
   "cell_type": "markdown",
   "metadata": {},
   "source": [
    "##### Many medians #####\n",
    "\n",
    "Deliverable. Insert code to calculate Mood median. Edit. Need more words to describe this deliverable."
   ]
  },
  {
   "cell_type": "markdown",
   "metadata": {},
   "source": [
    "#### Measurements + Non-normal + Dispersion ####"
   ]
  },
  {
   "cell_type": "markdown",
   "metadata": {},
   "source": [
    "##### Target v. variance #####\n",
    "\n",
    "Deliverable. Insert code to calculate Bonett. Edit. Need more words to describe this deliverable."
   ]
  },
  {
   "cell_type": "markdown",
   "metadata": {},
   "source": [
    "##### Two variances #####\n",
    "\n",
    "Deliverable. Insert code to calculate Levene. Edit. Need more words to describe this deliverable."
   ]
  },
  {
   "cell_type": "markdown",
   "metadata": {},
   "source": [
    "##### Many variances #####\n",
    "\n",
    "Deliverable. Insert code to calculate Levene. Edit. Need more words to describe this deliverable."
   ]
  },
  {
   "cell_type": "markdown",
   "metadata": {},
   "source": [
    "#### Counts ####"
   ]
  },
  {
   "cell_type": "markdown",
   "metadata": {},
   "source": [
    "##### One proportion #####\n",
    "\n",
    "Deliverable. Insert code to calculate. Edit. Need more words to describe this deliverable."
   ]
  },
  {
   "cell_type": "markdown",
   "metadata": {},
   "source": [
    "##### Two proportions #####\n",
    "\n",
    "Deliverable. Insert code to calculate. Edit. Need more words to describe this deliverable."
   ]
  },
  {
   "cell_type": "markdown",
   "metadata": {},
   "source": [
    "##### Contingency table #####\n",
    "\n",
    "Deliverable. Insert code to calculate chi-squared. Edit. Need more words to describe this deliverable."
   ]
  },
  {
   "cell_type": "markdown",
   "metadata": {},
   "source": [
    "##### One-sample event rate #####\n",
    "\n",
    "Deliverable. Insert code to calculate. Edit. Need more words to describe this deliverable."
   ]
  },
  {
   "cell_type": "markdown",
   "metadata": {},
   "source": [
    "##### Two-sample event rate #####\n",
    "\n",
    "Deliverable. Insert code to calculate. Edit. Need more words to describe this deliverable."
   ]
  },
  {
   "cell_type": "markdown",
   "metadata": {},
   "source": [
    "### Validate measurement system on Xs ###"
   ]
  },
  {
   "cell_type": "markdown",
   "metadata": {},
   "source": [
    "##### Bias and linearity #####\n",
    "\n",
    "Deliverable. Insert code to calculate bias and linearity. Edit. Need more words to describe this deliverable."
   ]
  },
  {
   "cell_type": "markdown",
   "metadata": {},
   "source": [
    "##### Wheeler's method #####\n",
    "\n",
    "Deliverable. Insert code to calculate Wheeler's method. Edit. Need more words to describe this deliverable."
   ]
  },
  {
   "cell_type": "markdown",
   "metadata": {},
   "source": [
    "##### Guard banding #####\n",
    "\n",
    "Deliverable. Insert code to calculate guard banding. Edit. Need more words to describe this deliverable."
   ]
  },
  {
   "cell_type": "markdown",
   "metadata": {},
   "source": [
    "### Estimate initial process model ###"
   ]
  },
  {
   "cell_type": "markdown",
   "metadata": {},
   "source": [
    "#### Random sample, one X ####\n",
    "\n",
    "In general it is model, residuals, model. Edit. Need more words to describe this deliverable."
   ]
  },
  {
   "cell_type": "markdown",
   "metadata": {},
   "source": [
    "##### One-factor regression #####\n",
    "\n",
    "Deliverable. Insert code to calculate. Linear, quadratic and cubic at least. Edit. Need more words to describe this deliverable."
   ]
  },
  {
   "cell_type": "markdown",
   "metadata": {},
   "source": [
    "#### Random sample, many Xs ####"
   ]
  },
  {
   "cell_type": "markdown",
   "metadata": {},
   "source": [
    "##### Multiple regression #####\n",
    "\n",
    "Deliverable. Insert code to calculate. Edit. Need more words to describe this deliverable."
   ]
  },
  {
   "cell_type": "markdown",
   "metadata": {},
   "source": [
    "#### Structured sample ####"
   ]
  },
  {
   "cell_type": "markdown",
   "metadata": {},
   "source": [
    "##### Fractional factorials #####\n",
    "\n",
    "Deliverable. Insert code to calculate. Edit. Need more words to describe this deliverable."
   ]
  },
  {
   "cell_type": "markdown",
   "metadata": {},
   "source": [
    "##### Evolutionary operation #####\n",
    "\n",
    "Deliverable. Insert code to calculate. Edit. Need more words to describe this deliverable."
   ]
  },
  {
   "cell_type": "markdown",
   "metadata": {},
   "source": [
    "##### Response surface #####\n",
    "\n",
    "Deliverable. Insert code to calculate. Edit. Need more words to describe this deliverable."
   ]
  },
  {
   "cell_type": "markdown",
   "metadata": {},
   "source": [
    "##### Mixture #####\n",
    "\n",
    "Deliverable. Insert code to calculate. Edit. Need more words to describe this deliverable."
   ]
  },
  {
   "cell_type": "markdown",
   "metadata": {},
   "source": [
    "# Improve phase #\n",
    "\n",
    "## Intent ##\n",
    "\n",
    "“Fix the root causes. Conduct experiments.” The purpose of **improve** is to identify, experiment, and validate a solution to the problem and estimate the improved performance of the process."
   ]
  },
  {
   "cell_type": "markdown",
   "metadata": {},
   "source": [
    "### Conduct experiments ###\n",
    "\n",
    "In general it is model, residuals, model."
   ]
  },
  {
   "cell_type": "markdown",
   "metadata": {},
   "source": [
    "##### Fractional factorials #####\n",
    "\n",
    "Deliverable. Insert code to calculate. Edit. Need more words to describe this deliverable."
   ]
  },
  {
   "cell_type": "markdown",
   "metadata": {},
   "source": [
    "##### Evolutionary operation #####\n",
    "\n",
    "Deliverable. Insert code to calculate. Edit. Need more words to describe this deliverable."
   ]
  },
  {
   "cell_type": "markdown",
   "metadata": {},
   "source": [
    "##### Response surface #####\n",
    "\n",
    "Deliverable. Insert code to calculate. Edit. Need more words to describe this deliverable."
   ]
  },
  {
   "cell_type": "markdown",
   "metadata": {},
   "source": [
    "##### Mixture #####\n",
    "\n",
    "Deliverable. Insert code to calculate. Edit. Need more words to describe this deliverable."
   ]
  },
  {
   "cell_type": "markdown",
   "metadata": {},
   "source": [
    "### Select and deploy solution ###"
   ]
  },
  {
   "cell_type": "markdown",
   "metadata": {},
   "source": [
    "##### Solution deployed #####\n",
    "\n",
    "Deliverable. Insert text to describe. Edit. Need more words to describe this deliverable."
   ]
  },
  {
   "cell_type": "markdown",
   "metadata": {},
   "source": [
    "# Control phase #\n",
    "\n",
    "## Intent ##\n",
    "\n",
    "“How do I keep the process at its new level of performance?” The purpose of **control** is to maintain the process at the improved level of performance."
   ]
  },
  {
   "cell_type": "markdown",
   "metadata": {},
   "source": [
    "### Revise process map ###\n",
    "\n",
    "Edit. Insert text to describe."
   ]
  },
  {
   "cell_type": "markdown",
   "metadata": {},
   "source": [
    "##### Value-stream map #####\n",
    "\n",
    "Deliverable. Insert a value-stream map. Edit. Need more words to describe this deliverable."
   ]
  },
  {
   "cell_type": "markdown",
   "metadata": {},
   "source": [
    "##### Flow chart #####\n",
    "\n",
    "Deliverable. Insert a flow chart. Edit. Need more words to describe this deliverable."
   ]
  },
  {
   "cell_type": "markdown",
   "metadata": {},
   "source": [
    "##### Swim-lane map #####\n",
    "\n",
    "Deliverable. Insert a swim-lane map. Edit. Need more words to describe this deliverable."
   ]
  },
  {
   "cell_type": "markdown",
   "metadata": {},
   "source": [
    "### Document key causes of between and within variation ###\n",
    "\n",
    "Edit. Insert text to describe."
   ]
  },
  {
   "cell_type": "markdown",
   "metadata": {},
   "source": [
    "##### Between-sample Xs #####\n",
    "\n",
    "Deliverable. List factors that statistically-significantly cause between-sample variation. Edit. Need more words to describe this deliverable."
   ]
  },
  {
   "cell_type": "markdown",
   "metadata": {},
   "source": [
    "##### Within-sample variation #####\n",
    "\n",
    "Deliverable. List factors that statistically-significantly cause within-sample variation. Edit. Need more words to describe this deliverable."
   ]
  },
  {
   "cell_type": "markdown",
   "metadata": {},
   "source": [
    "### Validate measurement system on Ys and Xs ###\n",
    "\n",
    "Edit. Insert text to describe."
   ]
  },
  {
   "cell_type": "markdown",
   "metadata": {},
   "source": [
    "##### Bias and linearity #####\n",
    "\n",
    "Deliverable. Insert code to calculate bias and linearity. Edit. Need more words to describe this deliverable."
   ]
  },
  {
   "cell_type": "markdown",
   "metadata": {},
   "source": [
    "##### Wheeler's method #####\n",
    "\n",
    "Deliverable. Insert code to calculate Wheeler's method. Edit. Need more words to describe this deliverable."
   ]
  },
  {
   "cell_type": "markdown",
   "metadata": {},
   "source": [
    "##### Guard banding #####\n",
    "\n",
    "Deliverable. Insert code to calculate guard banding. Edit. Need more words to describe this deliverable."
   ]
  },
  {
   "cell_type": "markdown",
   "metadata": {},
   "source": [
    "### Estimate process capability ###\n",
    "\n",
    "Edit. Insert text to describe."
   ]
  },
  {
   "cell_type": "markdown",
   "metadata": {},
   "source": [
    "#### Random sample ####"
   ]
  },
  {
   "cell_type": "markdown",
   "metadata": {},
   "source": [
    "##### Basic graphical analysis #####\n",
    "\n",
    "Deliverable. Insert code to calculate a box plot and a dot plot. Edit. Need more words to describe this deliverable."
   ]
  },
  {
   "cell_type": "markdown",
   "metadata": {},
   "source": [
    "##### Distribution analysis #####\n",
    "\n",
    "Deliverable. Insert code to calculate a probability plot with lack-of-fit test. The goal is \n",
    "to identify what type of distribution is a good approximation for the data. Edit. Need more words to describe this deliverable."
   ]
  },
  {
   "cell_type": "markdown",
   "metadata": {},
   "source": [
    "##### Capability analysis #####\n",
    "\n",
    "Deliverable. Insert code to calculate Ppk statistics and confidence intervals. Edit. Need more words to describe this deliverable."
   ]
  },
  {
   "cell_type": "markdown",
   "metadata": {},
   "source": [
    "#### Rational sample, n = 1 ####"
   ]
  },
  {
   "cell_type": "markdown",
   "metadata": {},
   "source": [
    "##### XmR control chart #####\n",
    "\n",
    "Deliverable. Insert code to calculate an XmR control chart, with rules for out-of-control points. Edit. Need more words to describe this deliverable."
   ]
  },
  {
   "cell_type": "markdown",
   "metadata": {},
   "source": [
    "##### Capability analysis #####\n",
    "\n",
    "Deliverable. Insert code to calculate Cpk statistics and confidence intervals. Edit. Need more words to describe this deliverable."
   ]
  },
  {
   "cell_type": "markdown",
   "metadata": {},
   "source": [
    "#### Rational sample, n > 1 ####"
   ]
  },
  {
   "cell_type": "markdown",
   "metadata": {},
   "source": [
    "##### XbarR control chart #####\n",
    "\n",
    "Deliverable. Insert code to calculate an XbarR control chart, with rules for out-of-control points. Edit. Need more words to describe this deliverable."
   ]
  },
  {
   "cell_type": "markdown",
   "metadata": {},
   "source": [
    "##### Capability analysis #####\n",
    "\n",
    "Deliverable. Insert code to calculate Cpk statistics and confidence intervals. Edit. Need more words to describe this deliverable."
   ]
  },
  {
   "cell_type": "markdown",
   "metadata": {},
   "source": [
    "### Implement + manage process control ###\n",
    "\n",
    "Edit. Insert text to describe."
   ]
  },
  {
   "cell_type": "markdown",
   "metadata": {},
   "source": [
    "##### Control plan #####\n",
    "\n",
    "Deliverable. Insert text to describe. Edit. Need more words to describe this deliverable."
   ]
  },
  {
   "cell_type": "markdown",
   "metadata": {},
   "source": [
    "##### Standard work #####\n",
    "\n",
    "Deliverable. Insert text to describe. Edit. Need more words to describe this deliverable."
   ]
  },
  {
   "cell_type": "markdown",
   "metadata": {},
   "source": [
    "##### Visual controls #####\n",
    "\n",
    "Deliverable. Insert text to describe. Edit. Need more words to describe this deliverable."
   ]
  },
  {
   "cell_type": "markdown",
   "metadata": {},
   "source": [
    "##### Standard management #####\n",
    "\n",
    "Deliverable. Insert text to describe."
   ]
  },
  {
   "cell_type": "markdown",
   "metadata": {},
   "source": [
    "# References #\n",
    "\n",
    "<span style=\"color:red\";>edit this cell</span>"
   ]
  },
  {
   "cell_type": "markdown",
   "metadata": {},
   "source": [
    "# Colophon #\n",
    "\n",
    "This notebook was created with [Jupyter Notebook software](http://jupyter.org/) and a [Python programming language](https://www.python.org/) kernel. It is structured using the [DMAIC methodology](https://en.wikipedia.org/wiki/DMAIC).\n",
    "\n",
    "For all inquiries about this document, improvements, errors, and additional features, please send me a mail (<gilles.pilon@forteconsultants.ca>).\n",
    "\n",
    "Last updated 2016.02.01.\n",
    "\n",
    "Gilles Pilon."
   ]
  }
 ],
 "metadata": {
  "kernelspec": {
   "display_name": "Python 3",
   "language": "python",
   "name": "python3"
  },
  "language_info": {
   "codemirror_mode": {
    "name": "ipython",
    "version": 3
   },
   "file_extension": ".py",
   "mimetype": "text/x-python",
   "name": "python",
   "nbconvert_exporter": "python",
   "pygments_lexer": "ipython3",
   "version": "3.5.1"
  }
 },
 "nbformat": 4,
 "nbformat_minor": 0
}
