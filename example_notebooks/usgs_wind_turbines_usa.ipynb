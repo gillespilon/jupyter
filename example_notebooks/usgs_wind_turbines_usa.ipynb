{
 "cells": [
  {
   "cell_type": "markdown",
   "metadata": {
    "slideshow": {
     "slide_type": "slide"
    }
   },
   "source": [
    "# Up and Down the Python Data and Web Visualization Stack"
   ]
  },
  {
   "cell_type": "markdown",
   "metadata": {
    "slideshow": {
     "slide_type": "slide"
    }
   },
   "source": [
    "USGS dataset listing every wind turbine in the United States:"
   ]
  },
  {
   "cell_type": "code",
   "execution_count": 4,
   "metadata": {
    "collapsed": false,
    "slideshow": {
     "slide_type": "slide"
    }
   },
   "outputs": [
    {
     "ename": "ImportError",
     "evalue": "No module named 'bearcart'",
     "output_type": "error",
     "traceback": [
      "\u001b[1;31m---------------------------------------------------------------------------\u001b[0m",
      "\u001b[1;31mImportError\u001b[0m                               Traceback (most recent call last)",
      "\u001b[1;32m<ipython-input-4-cf990f4861a9>\u001b[0m in \u001b[0;36m<module>\u001b[1;34m()\u001b[0m\n\u001b[0;32m      1\u001b[0m \u001b[1;32mfrom\u001b[0m \u001b[0mcollections\u001b[0m \u001b[1;32mimport\u001b[0m \u001b[0mOrderedDict\u001b[0m\u001b[1;33m\u001b[0m\u001b[0m\n\u001b[0;32m      2\u001b[0m \u001b[1;33m\u001b[0m\u001b[0m\n\u001b[1;32m----> 3\u001b[1;33m \u001b[1;32mimport\u001b[0m \u001b[0mbearcart\u001b[0m\u001b[1;33m\u001b[0m\u001b[0m\n\u001b[0m\u001b[0;32m      4\u001b[0m \u001b[1;32mimport\u001b[0m \u001b[0mbokeh\u001b[0m\u001b[1;33m\u001b[0m\u001b[0m\n\u001b[0;32m      5\u001b[0m \u001b[1;32mimport\u001b[0m \u001b[0mbokeh\u001b[0m\u001b[1;33m.\u001b[0m\u001b[0mplotting\u001b[0m \u001b[1;32mas\u001b[0m \u001b[0mbp\u001b[0m\u001b[1;33m\u001b[0m\u001b[0m\n",
      "\u001b[1;31mImportError\u001b[0m: No module named 'bearcart'"
     ]
    }
   ],
   "source": [
    "from collections import OrderedDict\n",
    "\n",
    "import bearcart\n",
    "import bokeh\n",
    "import bokeh.plotting as bp\n",
    "from bokeh.plotting import output_notebook\n",
    "import folium\n",
    "import ggplot as gg\n",
    "from ggplot import ggplot\n",
    "from IPython.html.widgets import interact\n",
    "import matplotlib.pyplot as plt\n",
    "import mpld3\n",
    "import numpy as np\n",
    "import pandas as pd\n",
    "import vincent\n",
    "\n",
    "%matplotlib inline\n",
    "mpld3.enable_notebook()\n",
    "bearcart.initialize_notebook()\n",
    "vincent.initialize_notebook()\n",
    "folium.initialize_notebook()\n",
    "\n",
    "# axis_color = 'black'\n",
    "axis_color = '#d0d0d0'"
   ]
  },
  {
   "cell_type": "code",
   "execution_count": null,
   "metadata": {
    "collapsed": false
   },
   "outputs": [],
   "source": [
    "df = pd.read_csv('USGS_WindTurbine_201307_cleaned.csv')\n",
    "df.head()"
   ]
  },
  {
   "cell_type": "code",
   "execution_count": null,
   "metadata": {
    "collapsed": false
   },
   "outputs": [],
   "source": [
    "ws = pd.read_table('CO_WS_2011_2012.txt')\n",
    "ws = ws.set_index('Date & Time Stamp')\n",
    "ws.index = ws.index.to_datetime()\n",
    "ws.head()"
   ]
  },
  {
   "cell_type": "code",
   "execution_count": null,
   "metadata": {
    "collapsed": false
   },
   "outputs": [],
   "source": [
    "# Rotor Diameter vs. Turbine Manufacturer\n",
    "mf_grouped = df.groupby('Turbine Manufacturer')\n",
    "mean_grouped = mf_grouped.mean().dropna()\n",
    "mean_rd = mean_grouped.sort('Rotor Diameter')['Rotor Diameter']\n",
    "rotor_diam = vincent.Bar(mean_rd)\n",
    "rotor_diam.axis_titles(x='Turbine Manufacturer', y='Rotor Diameter')\n",
    "# The Hard Way\n",
    "from vincent.axes import AxisProperties\n",
    "from vincent.properties import PropertySet\n",
    "from vincent.values import ValueRef\n",
    "for axis in rotor_diam.axes:\n",
    "    axis.properties = AxisProperties()\n",
    "    for prop in ['ticks', 'axis', 'major_ticks', 'minor_ticks']:\n",
    "        setattr(axis.properties, prop, PropertySet(stroke=ValueRef(value=axis_color)))\n",
    "    axis.properties.title = PropertySet(font_size=ValueRef(value=20), \n",
    "                                        fill=ValueRef(value=axis_color))\n",
    "    axis.properties.labels = PropertySet(fill=ValueRef(value=axis_color))\n",
    "rotor_diam.axes[0].properties.labels.angle = ValueRef(value=50)\n",
    "rotor_diam.axes[0].properties.labels.align = ValueRef(value='left')\n",
    "rotor_diam.axes[0].properties.title.dy = ValueRef(value=115)\n",
    "rotor_diam.scales[2].range = ['#b48ead']\n",
    "rotor_diam"
   ]
  },
  {
   "cell_type": "code",
   "execution_count": null,
   "metadata": {
    "collapsed": false
   },
   "outputs": [],
   "source": [
    "# Total Turbine Count\n",
    "turbine_ct = mf_grouped.count().dropna().sort('Unique ID', ascending=False)['Unique ID']\n",
    "num_turbines = (vincent.Bar(turbine_ct[:25])\n",
    "                       .axis_titles(x='Turbine Manufacturer', \n",
    "                                    y='Number of Turbines in the US')\n",
    "                       .colors(range_=['#6a9fb5']))\n",
    "# Shortcuts!\n",
    "def lighten_axes(vis, x_offset=50):\n",
    "    (vis.common_axis_properties(color=axis_color, title_size=20)\n",
    "        .x_axis_properties(label_angle=50, label_align='left', \n",
    "                           title_offset=x_offset)\n",
    "        .y_axis_properties(title_offset=-40))\n",
    "# If Area Chart\n",
    "# num_turbines.scales[0].type = 'ordinal'\n",
    "lighten_axes(num_turbines)\n",
    "num_turbines"
   ]
  },
  {
   "cell_type": "code",
   "execution_count": null,
   "metadata": {
    "collapsed": false
   },
   "outputs": [],
   "source": [
    "# Turbine Count vs. Date\n",
    "grouped_date = df.groupby(['Online Year', 'Turbine Manufacturer'])\n",
    "by_year = grouped_date.count()['Unique ID'].reset_index()\n",
    "by_year['Online Year'] = pd.to_datetime(by_year['Online Year'], coerce=True)\n",
    "by_year = by_year.rename(columns={'Unique ID': 'Turbine Count'}).dropna()\n",
    "by_year = by_year.pivot(index='Online Year', columns='Turbine Manufacturer', values='Turbine Count')\n",
    "by_year = by_year[turbine_ct[:10].index.tolist()]\n",
    "\n",
    "online_by_year = (vincent.StackedArea(by_year)\n",
    "                         .axis_titles(x='Date', y='Turbine Count')\n",
    "                         .legend(title='Turbine Manufacturer', text_color=axis_color)\n",
    "                         .colors(range_=['#ac4142', '#d28445', '#f4bf75', '#90a959', \n",
    "                                         '#75b5aa', '#6a9fb5', '#aa759f', '#8f5536']))\n",
    "lighten_axes(online_by_year, x_offset=30)\n",
    "online_by_year"
   ]
  },
  {
   "cell_type": "code",
   "execution_count": null,
   "metadata": {
    "collapsed": false
   },
   "outputs": [],
   "source": [
    "height_diam = (vincent.GroupedBar(mean_grouped[['Tower/Hub Height', 'Rotor Diameter']]\n",
    "                                  .sort(['Rotor Diameter', 'Tower/Hub Height'], ascending=False))\n",
    "                      .axis_titles(x='Turbine Manufacturer', y='Meters')\n",
    "                      .legend(title='Parameters', text_color=axis_color)\n",
    "                      .colors(range_=['#f4bf75', '#75b5aa']))\n",
    "lighten_axes(height_diam, 100)\n",
    "height_diam"
   ]
  },
  {
   "cell_type": "code",
   "execution_count": null,
   "metadata": {
    "collapsed": false
   },
   "outputs": [],
   "source": [
    "november_2011 = ws['2011-11-15':'2011-12-01']\n",
    "ws_line = (vincent.Line(november_2011['WS1_50mMean'])\n",
    "                  .axis_titles(x='Date', y='Wind Speed (m/s)')\n",
    "                  .colors(range_=['#d28445']))\n",
    "lighten_axes(ws_line, x_offset=30)\n",
    "ws_line"
   ]
  },
  {
   "cell_type": "code",
   "execution_count": null,
   "metadata": {
    "collapsed": false
   },
   "outputs": [],
   "source": [
    "# Rotor Diameter vs. Power\n",
    "min_heights = df[df['Rotor Diameter'] > 10]\n",
    "diameter_vs_mw = (vincent.Scatter(min_heights[['Turbine MW', 'Rotor Diameter']], iter_idx='Turbine MW')\n",
    "                         .axis_titles(x='Power (MW)', y='Rotor Diameter (m)')\n",
    "                         .colors(range_=['#75b5aa']))\n",
    "lighten_axes(diameter_vs_mw, x_offset=30)\n",
    "diameter_vs_mw"
   ]
  },
  {
   "cell_type": "code",
   "execution_count": null,
   "metadata": {
    "collapsed": false
   },
   "outputs": [],
   "source": [
    "(ggplot(gg.aes(x='Turbine MW', y='Rotor Swept Area'), data=min_heights[:500])\n",
    "    + gg.geom_point(color='#75b5aa', size=75)\n",
    "    + gg.ggtitle(\"Rotor Swept Area vs. Power\")\n",
    "    + gg.xlab(\"Power (MW)\")\n",
    "    + gg.ylab(\"Rotor Swept Area (m^2)\"))"
   ]
  },
  {
   "cell_type": "code",
   "execution_count": null,
   "metadata": {
    "collapsed": false
   },
   "outputs": [],
   "source": [
    "(ggplot(gg.aes(x='WS1_50mMean'), data=ws)\n",
    " + gg.geom_histogram(fill='#ac4142') \n",
    " + gg.ggtitle(\"Wind Speed Distribution\") \n",
    " + gg.labs(\"Wind Speed (m)\", \"Freq\"))"
   ]
  },
  {
   "cell_type": "code",
   "execution_count": null,
   "metadata": {
    "collapsed": false
   },
   "outputs": [],
   "source": [
    "molten = pd.melt(ws, value_vars=['WS1_50mMean', 'WS2_50mMean', 'WS3_30mMean', 'WS4_40mMean'])\n",
    "(ggplot(gg.aes(x='value'), data=molten)\n",
    " + gg.geom_histogram(fill='#aa759f')\n",
    " + gg.facet_wrap('variable')\n",
    " + gg.ggtitle(\"Wind Speed Distribution\") \n",
    " + gg.labs(\"Wind Speed (m)\", \"Freq\"))"
   ]
  },
  {
   "cell_type": "code",
   "execution_count": null,
   "metadata": {
    "collapsed": false
   },
   "outputs": [],
   "source": [
    "november_2011['Date'] = november_2011.index\n",
    "@interact\n",
    "def plot_gg_ws(column=november_2011.columns.tolist()):\n",
    "    molten = pd.melt(november_2011, \n",
    "                     value_vars=[column], \n",
    "                     id_vars=['Date'])\n",
    "    gg_wind_data = (ggplot(gg.aes(x='Date', y='value'), data=molten)\n",
    "                   + gg.geom_line(color=\"steelblue\")\n",
    "                   + gg.stat_smooth(colour=\"red\"))\n",
    "    gg_wind_data.draw()"
   ]
  },
  {
   "cell_type": "code",
   "execution_count": null,
   "metadata": {
    "collapsed": false
   },
   "outputs": [],
   "source": [
    "output_notebook()\n",
    "import bokeh\n",
    "subset = min_heights[:1000]\n",
    "bp.figure(plot_width=800, background_fill= '#e5e5e5')\n",
    "plot_tools = \"pan, wheel_zoom, box_zoom, reset, hover\"\n",
    "bp.scatter(subset['Total Height'], subset['Rotor Swept Area'], \n",
    "           tools=plot_tools, size=10, color='purple', alpha=1.0)\n",
    "bp.curplot().title = \"Total Height (m) vs. Rotor Swept Area (m^2)\"\n",
    "bp.xaxis().axis_label = \"Rotor Swept Area (m^2)\"\n",
    "bp.yaxis().axis_label = \"Following\"\n",
    "hover = [t for t in bp.curplot().tools if isinstance(t, bokeh.objects.HoverTool)][0]\n",
    "hover.tooltips = {\"(Rotor Swept Area, Total Height)\": \"(@x, @y)\"}\n",
    "bp.show()"
   ]
  },
  {
   "cell_type": "code",
   "execution_count": null,
   "metadata": {
    "collapsed": false
   },
   "outputs": [],
   "source": [
    "by_year.dropna()\n",
    "built_by_year = bearcart.Chart(by_year, palette='spectrum2000',\n",
    "                               height=500, width=750, plt_type='bar')\n",
    "built_by_year"
   ]
  },
  {
   "cell_type": "code",
   "execution_count": null,
   "metadata": {
    "collapsed": false
   },
   "outputs": [],
   "source": [
    "all_ws = bearcart.Chart(november_2011[['WS1_50mMean', 'WS2_50mMean', 'WS3_30mMean', 'WS4_40mMean']], \n",
    "                        height=500, width=750, plt_type='area')\n",
    "all_ws"
   ]
  },
  {
   "cell_type": "code",
   "execution_count": null,
   "metadata": {
    "collapsed": false
   },
   "outputs": [],
   "source": [
    "all_wd = bearcart.Chart(november_2011[['WD1_49mMean', 'WD2_38mMean']], \n",
    "                        height=500, width=750, plt_type='bar',\n",
    "                        colors={'WD1_49mMean': '#75b5aa', 'WD2_38mMean': '#aa759f'})\n",
    "all_wd"
   ]
  },
  {
   "cell_type": "code",
   "execution_count": null,
   "metadata": {
    "collapsed": false
   },
   "outputs": [],
   "source": [
    "import seaborn as sb\n",
    "sb.set(rc={'text.color': axis_color, 'axes.labelcolor': axis_color})\n",
    "rvm = df[['Rotor Diameter', 'Turbine MW', 'Turbine Manufacturer']].dropna()\n",
    "row_mask = rvm['Turbine Manufacturer'].isin(['Vestas', 'Siemens', 'GE'])\n",
    "rvm = rvm[row_mask]\n",
    "rvm['Rotor Diameter'] = rvm['Rotor Diameter'].apply(lambda x: int(5 * round(float(x)/5)))\n",
    "grouped_rvm = rvm.groupby(['Rotor Diameter', 'Turbine Manufacturer'])\n",
    "rvm = grouped_rvm.mean().reset_index()\n",
    "sb.lmplot(\"Rotor Diameter\", \"Turbine MW\", col=\"Turbine Manufacturer\", \n",
    "          hue=\"Turbine Manufacturer\", data=rvm)"
   ]
  },
  {
   "cell_type": "code",
   "execution_count": null,
   "metadata": {
    "collapsed": false
   },
   "outputs": [],
   "source": [
    "sb.set_palette('husl')\n",
    "nov_cols = november_2011.columns.tolist()\n",
    "@interact\n",
    "def sb_jointplot(x=nov_cols, y=nov_cols):\n",
    "    sb.jointplot(x, y, data=november_2011, size=9)"
   ]
  },
  {
   "cell_type": "code",
   "execution_count": null,
   "metadata": {
    "collapsed": false
   },
   "outputs": [],
   "source": [
    "sb.jointplot('WD1_49mMean', 'WD2_38mMean', data=november_2011, size=9, kind='kde')"
   ]
  },
  {
   "cell_type": "code",
   "execution_count": null,
   "metadata": {
    "collapsed": false
   },
   "outputs": [],
   "source": [
    "import scipy.stats as stats\n",
    "dists = ['Rayleigh', 'Weibull', 'Normal']\n",
    "@interact\n",
    "def plot_sb_dist(column=ws.columns.tolist(), dist=dists):\n",
    "    plt.figure(figsize=(10, 8))\n",
    "    dist_map = {\n",
    "        'Rayleigh': stats.rayleigh,\n",
    "        'Weibull': stats.exponweib,\n",
    "        'Normal': stats.norm,\n",
    "    }\n",
    "    sb.distplot(ws[column], fit=dist_map[dist])"
   ]
  },
  {
   "cell_type": "code",
   "execution_count": null,
   "metadata": {
    "collapsed": false
   },
   "outputs": [],
   "source": [
    "state_geo = r'us-states.json'\n",
    "state_data = df.groupby('State').count().drop('State', axis=1).reset_index()\n",
    "state_map = folium.Map(location=[48, -102], zoom_start=3)\n",
    "state_map.geo_json(geo_path=state_geo, data=state_data,\n",
    "                   columns=['State', 'Unique ID'],\n",
    "                   key_on='feature.id',\n",
    "                   fill_color='BuPu', fill_opacity=0.7, line_opacity=0.2,\n",
    "                   legend_name='Turbine Count Per State')\n",
    "state_map.create_map('turbines_per_state.html')\n",
    "state_map"
   ]
  },
  {
   "cell_type": "code",
   "execution_count": null,
   "metadata": {
    "collapsed": false
   },
   "outputs": [],
   "source": [
    "Solano = df[df['Site Name'].isin(['Solano Wind 1', 'Solano Wind 3'])]\n",
    "solano_map = folium.Map(location=[38.1067, -121.7735], zoom_start=12, \n",
    "                        tiles='Stamen Terrain')\n",
    "solano_map.lat_lng_popover()\n",
    "for row in Solano.iterrows():\n",
    "    wtg_id = str(row[1]['Unique ID'])\n",
    "    lat = row[1]['Latitude-Decimal Degrees']\n",
    "    lng = row[1]['Longitude-Decimal Degrees']\n",
    "    solano_map.polygon_marker(location=[lat, lng], fill_color='#f4bf75', \n",
    "                              radius=12, popup='WTG ID: ' + wtg_id)\n",
    "solano_map.create_map('solano_map.html')\n",
    "solano_map.render_iframe = True\n",
    "solano_map"
   ]
  },
  {
   "cell_type": "code",
   "execution_count": null,
   "metadata": {
    "collapsed": false
   },
   "outputs": [],
   "source": [
    "# Let's do a little more mapping\n",
    "# Source: http://wind.nrel.gov/Web_nrel/\n",
    "wind_map = folium.Map(location=[45.48, -121.7], zoom_start=10,\n",
    "                      tiles='Stamen Terrain')\n",
    "locations = {\n",
    "    'df_26512': (45.38, -121.52),\n",
    "    'df_26795': (45.48, -121.72),\n",
    "    'df_26798': (45.48, -121.62)\n",
    "}\n",
    "data = {\n",
    "    'df_26512': pd.read_csv('26512.csv'),\n",
    "    'df_26795': pd.read_csv('26795.csv'),\n",
    "    'df_26798': pd.read_csv('26798.csv')\n",
    "}\n",
    "charts = {\n",
    "    'df_26512': None, \n",
    "    'df_26795': None, \n",
    "    'df_26798': None\n",
    "}\n",
    "for k, df in data.items():\n",
    "    df['Date'] = pd.to_datetime(df['Date(YYYY-MM-DD hh:mm:ss)'])\n",
    "    data[k] = df.drop('Date(YYYY-MM-DD hh:mm:ss)', axis=1).set_index('Date')\n",
    "    data[k] = data[k]['2006-12-01': '2006-12-31']\n",
    "for k, chart in charts.items():\n",
    "    charts[k] = (vincent.Line(data[k]['100m wind speed (m/s)'],\n",
    "                              width=400, height=200)\n",
    "                        .colors(range_=['#6a9fb5']))\n",
    "    charts[k].axes[0].ticks = 4\n",
    "    charts[k].axis_titles(x='Date', y='100m wind speed (m/s)')\n",
    "    path = ''.join([k, '.json'])\n",
    "    charts[k].to_json(path)\n",
    "    wind_map.polygon_marker(location=locations[k], fill_color='#6a9fb5',\n",
    "                            radius=12, popup=(charts[k], path))\n",
    "wind_map.create_map('wind_map.html')\n",
    "wind_map.render_iframe = True\n",
    "wind_map"
   ]
  },
  {
   "cell_type": "code",
   "execution_count": null,
   "metadata": {
    "collapsed": false
   },
   "outputs": [],
   "source": [
    "from IPython.core.display import HTML\n",
    "styles = open(\"custom_dark.css\", \"r\").read()\n",
    "HTML(styles)"
   ]
  }
 ],
 "metadata": {
  "kernelspec": {
   "display_name": "Python 3",
   "language": "python",
   "name": "python3"
  },
  "language_info": {
   "codemirror_mode": {
    "name": "ipython",
    "version": 3
   },
   "file_extension": ".py",
   "mimetype": "text/x-python",
   "name": "python",
   "nbconvert_exporter": "python",
   "pygments_lexer": "ipython3",
   "version": "3.5.1"
  }
 },
 "nbformat": 4,
 "nbformat_minor": 0
}
